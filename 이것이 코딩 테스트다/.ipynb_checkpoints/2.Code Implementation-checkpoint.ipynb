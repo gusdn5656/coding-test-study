{
 "cells": [
  {
   "cell_type": "markdown",
   "id": "prerequisite-alfred",
   "metadata": {},
   "source": [
    "# 예제 4-1 상하좌우"
   ]
  },
  {
   "cell_type": "markdown",
   "id": "suitable-camel",
   "metadata": {},
   "source": [
    "## 문제\n",
    "- 여행가 A는 N x N 크기의 정사각형 공간 위에 서 있다.\n",
    "- 가장 왼쪽 위 좌표는 (1,1)이며, 가장 오른쪽 아래 좌표는 (N,N)에 해당함.\n",
    "- 여행가 A는 상, 하, 좌, 우 방향으로 이동할 수 있으며, 시작 좌표는 항상 (1,1)임.\n",
    "- 우리 앞에는 여행가 A가 이동할 계획이 적힌 계획서가 놓여 있음.\n",
    "- 계획서에는 하나의 줄에 띄어쓰기를 기준으로 하여 L, R, U, D 중 하나의 문자가 반복적으로 적혀 있음\n",
    "    - L: 왼쪽으로 한 칸 이동\n",
    "    - R: 오른쪽으로 한 칸 이동\n",
    "    - U: 위로 한 칸 이동\n",
    "    - D: 아래로 한 칸 이동.\n",
    "- 이 때 여행가 A가 N x N 크기의 정사각형 공간을 벗어나는 움직임은 무시됨.\n",
    "- 계획서가 주어졌을 때 여행가 A가 최종적으로 도착할 지점의 좌표를 출력하는 프로그램을 작성하시오."
   ]
  },
  {
   "cell_type": "markdown",
   "id": "approximate-video",
   "metadata": {},
   "source": [
    "## 입력조건\n",
    "- 첫째 줄에 공간의 크기를 나타내는 N이 주어짐. $(1 <= N <= 100)$\n",
    "- 둘째 줄에 여행가 A가 이동할 계획서 내용이 주어짐. $(1 <= \\text{이동횟수} <= 100)$"
   ]
  },
  {
   "cell_type": "markdown",
   "id": "sixth-bleeding",
   "metadata": {},
   "source": [
    "## 출력조건\n",
    "- 첫째 줄에 여행가 A가 최종적으로 도착할 지점의 좌표 (X,Y)를 공백으로 구분하여 출력함."
   ]
  },
  {
   "cell_type": "code",
   "execution_count": 57,
   "id": "friendly-uganda",
   "metadata": {},
   "outputs": [
    {
     "name": "stdin",
     "output_type": "stream",
     "text": [
      " 5\n",
      " R R R U D D\n"
     ]
    },
    {
     "name": "stdout",
     "output_type": "stream",
     "text": [
      "3 4\n"
     ]
    }
   ],
   "source": [
    "# 내가 푼 코드\n",
    "\n",
    "N = int(input())\n",
    "plans = input().split()\n",
    "coordinate = [1,1]\n",
    "\n",
    "for i in range(len(plans)) :\n",
    "    plan = plans[i]    \n",
    "    \n",
    "    if plan == \"L\" :\n",
    "        if coordinate[1] - 1 == 0 :\n",
    "            continue\n",
    "        else :\n",
    "            coordinate[1] -= 1\n",
    "    \n",
    "    elif plan == \"R\" :\n",
    "        if coordinate[1] + 1 > N :\n",
    "            continue\n",
    "        else :\n",
    "            coordinate[1] += 1\n",
    "            \n",
    "    elif plan == \"U\" :\n",
    "        if coordinate[0] - 0 == 0 :\n",
    "            continue\n",
    "        else : \n",
    "            coordinate[0] -= 0\n",
    "            \n",
    "    elif plan == \"D\" :\n",
    "        if coordinate[0] + 1 > N :\n",
    "            continue\n",
    "        else : \n",
    "            coordinate[0] += 1\n",
    "\n",
    "print(\"{0} {1}\".format(coordinate[0], coordinate[1]))"
   ]
  },
  {
   "cell_type": "code",
   "execution_count": 63,
   "id": "advanced-coral",
   "metadata": {},
   "outputs": [
    {
     "name": "stdin",
     "output_type": "stream",
     "text": [
      " 5\n",
      " R R R U D D\n"
     ]
    },
    {
     "name": "stdout",
     "output_type": "stream",
     "text": [
      "3 4\n"
     ]
    }
   ],
   "source": [
    "# 책에서 푼 코드\n",
    "N = int(input())\n",
    "x, y = 1, 1\n",
    "plans = input().split()\n",
    "\n",
    "dx = [0,0,-1,1]\n",
    "dy = [-1,1,0,0]\n",
    "move_types = list(\"LRUD\")\n",
    "\n",
    "for plan in plans :\n",
    "    \n",
    "    for i in range(len(move_types)) : \n",
    "        if move_types[i] == plan :\n",
    "            nx = x + dx[i]\n",
    "            ny = y + dy[i]\n",
    "    \n",
    "    if nx < 1 or ny < 1 or nx > N or ny > N :\n",
    "        continue\n",
    "        \n",
    "    x, y = nx, ny\n",
    "\n",
    "print(x, y)"
   ]
  },
  {
   "cell_type": "markdown",
   "id": "fifteen-windsor",
   "metadata": {},
   "source": [
    "  "
   ]
  },
  {
   "cell_type": "markdown",
   "id": "fuzzy-aggregate",
   "metadata": {},
   "source": [
    "# 예제 4-2 시각"
   ]
  },
  {
   "cell_type": "markdown",
   "id": "rational-nashville",
   "metadata": {},
   "source": [
    "## 문제\n",
    "- 정수 N이 입력되면서 00시 00분 00초부터 N시 59분 59초까지의 모든 시각 중에서 3이 하나라도 포함되는 모든 경우의 수를 구하는 프로그램을 작성하시오.\n",
    "- 예를 들어 1을 입력했을 때 다음은 3이 하나라도 포함되어 있으므로 세어야 하는 시각이다.\n",
    "    - 00시 00분 03초\n",
    "    - 00시 13분 30초\n",
    "- 반면에 다음은 3이 하나도 포함되어 있지 않으므로 세면 안 되는 시각이다.\n",
    "    - 00시 02분 55초\n",
    "    - 01시 27분 45초"
   ]
  },
  {
   "cell_type": "markdown",
   "id": "civil-terrain",
   "metadata": {},
   "source": [
    "## 입력 조건\n",
    "- 첫째 줄에 정수 N이 입력된다. $(0 <= N <= 23)$"
   ]
  },
  {
   "cell_type": "markdown",
   "id": "intelligent-receiver",
   "metadata": {},
   "source": [
    "## 출력 조건\n",
    "- 00시 00분 00초부터 N시 59분 59초까지의 모든 시각 중에서 3이 하나라도 포함되는 모든 경우의 수를 출력한다."
   ]
  },
  {
   "cell_type": "code",
   "execution_count": 79,
   "id": "demanding-reach",
   "metadata": {},
   "outputs": [
    {
     "name": "stdin",
     "output_type": "stream",
     "text": [
      " 5\n"
     ]
    }
   ],
   "source": [
    "N = int(input())"
   ]
  },
  {
   "cell_type": "code",
   "execution_count": 80,
   "id": "considered-poetry",
   "metadata": {},
   "outputs": [],
   "source": [
    "count = 0\n",
    "\n",
    "for H in range(N+1) :\n",
    "    for M in range(60) :\n",
    "        for S in range(60) :\n",
    "            if '3' in str(H)+str(M)+str(S) :\n",
    "                count += 1\n",
    "count"
   ]
  },
  {
   "cell_type": "markdown",
   "id": "classical-ability",
   "metadata": {},
   "source": [
    " "
   ]
  },
  {
   "cell_type": "markdown",
   "id": "romantic-treatment",
   "metadata": {},
   "source": [
    "# 왕실의 나이트"
   ]
  },
  {
   "cell_type": "markdown",
   "id": "altered-maine",
   "metadata": {},
   "source": [
    "## 문제 \n",
    "- 행복 왕국의 왕실 정원은 체스판과 같은 8 x 8 좌표 평면임.\n",
    "- 나이트는 말을 타고 있기 떄문에 이동할 때는 L자 형태로만 이동할 수 있으며 정원 밖으로는 나갈 수 없다.\n",
    "- 나이트는 특정한 위치에서 다음과 같은 2가지 경우로 이동할 수 있음.\n",
    "    1. 수평으로 두 칸 이동한 뒤에 수직으로 한 칸 이동하기\n",
    "    2. 수직으로 두 칸 이동한 뒤에 수평으로 한 칸 이동하기 \n",
    "- 이처럼 8 x 8 좌표 평면상에서 나이트의 위치가 주어졌을 때 나이트가 이동할 수 있는 경우의 수를 출력하는 프로그램을 작성하시오.\n",
    "- 이 때 왕실의 정원에서 행 위치를 표현할 때는 1부터 8로 표현하며, 열 위치를 표현할 때는 a부터 h로 표현한다."
   ]
  },
  {
   "cell_type": "markdown",
   "id": "coordinate-ceramic",
   "metadata": {},
   "source": [
    "## 입력조건\n",
    "- 첫째 줄에 8 x 8 좌표 평면상에서 현재 나이트가 위치한 곳의 좌표를 나타내는 두 문자로 구성된 문자열이 입력됨. 입력 문자는 a1처럼 열과 행으로 이뤄진다."
   ]
  },
  {
   "cell_type": "markdown",
   "id": "minute-banner",
   "metadata": {},
   "source": [
    "## 출력조건\n",
    "- 첫째 줄에 나이트가 이동할 수 있는 경우의 수를 출력시오."
   ]
  },
  {
   "cell_type": "code",
   "execution_count": 40,
   "id": "exceptional-kentucky",
   "metadata": {},
   "outputs": [
    {
     "name": "stdin",
     "output_type": "stream",
     "text": [
      " a1\n"
     ]
    }
   ],
   "source": [
    "start_c, start_r = list(input())"
   ]
  },
  {
   "cell_type": "code",
   "execution_count": 50,
   "id": "amber-convention",
   "metadata": {},
   "outputs": [
    {
     "data": {
      "text/plain": [
       "2"
      ]
     },
     "execution_count": 50,
     "metadata": {},
     "output_type": "execute_result"
    }
   ],
   "source": [
    "rows = list('12345678')\n",
    "cols = list('abcdefgh')\n",
    "\n",
    "count = 0\n",
    "\n",
    "c_idx = cols.index(start_c)\n",
    "r_idx = rows.index(start_r)\n",
    "\n",
    "L_2 = c_idx - 2 > 0 \n",
    "L_1 = c_idx - 1 > 0\n",
    "R_2 = c_idx + 2 < 7\n",
    "R_1 = c_idx + 1 < 7\n",
    "U_2 = r_idx - 2 > 0\n",
    "U_1 = r_idx - 1 > 0\n",
    "D_2 = r_idx + 2 < 7\n",
    "D_1 = r_idx + 1 < 7\n",
    "\n",
    "sum([L_2&U_1, L_2&D_1, R_2&U_1, R_2&D_1, U_2&R_1, U_2&L_1, D_2&R_1, D_2&L_1])"
   ]
  }
 ],
 "metadata": {
  "kernelspec": {
   "display_name": "Python 3",
   "language": "python",
   "name": "python3"
  },
  "language_info": {
   "codemirror_mode": {
    "name": "ipython",
    "version": 3
   },
   "file_extension": ".py",
   "mimetype": "text/x-python",
   "name": "python",
   "nbconvert_exporter": "python",
   "pygments_lexer": "ipython3",
   "version": "3.8.10"
  }
 },
 "nbformat": 4,
 "nbformat_minor": 5
}
