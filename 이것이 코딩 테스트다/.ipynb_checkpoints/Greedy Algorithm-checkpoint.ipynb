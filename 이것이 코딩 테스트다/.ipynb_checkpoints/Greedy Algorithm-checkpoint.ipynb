{
 "cells": [
  {
   "cell_type": "markdown",
   "id": "colored-certification",
   "metadata": {},
   "source": [
    "# [예제 3-1] 거스름돈"
   ]
  },
  {
   "cell_type": "markdown",
   "id": "abroad-canada",
   "metadata": {},
   "source": [
    "당신은 음식점의 계산을 도와주는 점원이다. 카운터에는 거스름돈으로 사용할 500원, 100원, 50원, 10원짜리 동전이 무한히 존재한다고 가정한다. 손님에게 거슬러 줘야 할 돈이 N원일 때 거슬러 줘야 할 동전의 최소 개수를 구하라. 단, 거슬러 줘야할 돈 N은 항상 10의 배수이다."
   ]
  },
  {
   "cell_type": "code",
   "execution_count": null,
   "id": "indie-houston",
   "metadata": {},
   "outputs": [],
   "source": [
    "# 내가 푼 코드\n",
    "\n",
    "N = int(input())\n",
    "\n",
    "n_500 = N//500\n",
    "N -= 500*n_500\n",
    "\n",
    "n_100 = N//100\n",
    "N -= 100*n_100\n",
    "\n",
    "n_50 = N//50\n",
    "N -= 50*n_50\n",
    "\n",
    "n_10 = N//10\n",
    "\n",
    "print(n_500 + n_100 + n_50 + n_10)"
   ]
  },
  {
   "cell_type": "code",
   "execution_count": 6,
   "id": "impossible-allowance",
   "metadata": {},
   "outputs": [
    {
     "name": "stdin",
     "output_type": "stream",
     "text": [
      " 1260\n"
     ]
    },
    {
     "name": "stdout",
     "output_type": "stream",
     "text": [
      "6\n"
     ]
    }
   ],
   "source": [
    "# 책에서 푼 코드\n",
    "N = int(input())\n",
    "count = 0\n",
    "\n",
    "coins = [500,100,50,10]\n",
    "\n",
    "for coin in coins :\n",
    "    count += N//coin\n",
    "    N %= coin\n",
    "\n",
    "print(count)"
   ]
  },
  {
   "cell_type": "markdown",
   "id": "hearing-rebecca",
   "metadata": {},
   "source": [
    " "
   ]
  },
  {
   "cell_type": "markdown",
   "id": "fourth-debate",
   "metadata": {},
   "source": [
    "# 실전문제 2. 큰 수의 법칙"
   ]
  },
  {
   "cell_type": "markdown",
   "id": "interstate-integrity",
   "metadata": {},
   "source": [
    "## 문제 \n",
    "- 동빈이의 큰 수의 법칙은 다양한 수로 이루어진 배열이 있을 때 주어진 수들을 M번 더하야 가장 큰 수를 반드는 법칙이다.\n",
    "- 단, 배열의 특정한 인덱스(번호)에 해당하는 수가 연속해서 K번을 초과하여 더해질 수 없는 것이 이 법칙의 특징이다.\n",
    "- 배열의 크기 N, 숫자가 더해지는 횟수 M, 그리고 K가 주어질 때 동빈이의 큰 수의 법칙에 따른 결과를 출력하시오."
   ]
  },
  {
   "cell_type": "markdown",
   "id": "instructional-winter",
   "metadata": {},
   "source": [
    "## 입력 조건\n",
    "- 첫째 줄에 N ($ 2 <= N <= 1000$), M ($ 1 <= M <= 10000$), K ($ 1 <= K <= 10000$)의 자연수가 주어지며, 각 자연수는 공백으로 구분한다.\n",
    "- 둘째 줄에 N개의 자연수가 주어진다. 각 자연수는 공백으로 구분한다. 단, 각각의 자연수는 1 이상 10000 이하의 수로 주어진다.\n",
    "- 입력으로 주어지는 K는 항상 M보다 작거나 같다."
   ]
  },
  {
   "cell_type": "markdown",
   "id": "apparent-pierce",
   "metadata": {},
   "source": [
    "## 출력 조건\n",
    "- 첫째 줄에 동빈이의 큰 수의 법칙에 따라 더해진 답을 출력한다."
   ]
  },
  {
   "cell_type": "code",
   "execution_count": 9,
   "id": "impossible-drilling",
   "metadata": {},
   "outputs": [
    {
     "name": "stdin",
     "output_type": "stream",
     "text": [
      " 1000 500 30\n"
     ]
    }
   ],
   "source": [
    "N, M, K = map(int, input().split(\" \"))"
   ]
  },
  {
   "cell_type": "code",
   "execution_count": 19,
   "id": "minimal-puppy",
   "metadata": {},
   "outputs": [
    {
     "name": "stdin",
     "output_type": "stream",
     "text": [
      " 5 8 3\n",
      " 2 4 5 4 6\n"
     ]
    }
   ],
   "source": [
    "N, M, K = map(int, input().split(\" \"))\n",
    "nums = list(map(int, input().split(\" \")))\n",
    "nums = sorted(nums, reverse = True)\n",
    "\n",
    "if nums[0] == nums[1] :\n",
    "    SUM = nums[0]*M\n",
    "\n",
    "else :\n",
    "    SUM = nums[0]*((M//K)*K) + nums[1]*(M%K)"
   ]
  },
  {
   "cell_type": "code",
   "execution_count": 20,
   "id": "previous-heritage",
   "metadata": {},
   "outputs": [
    {
     "data": {
      "text/plain": [
       "46"
      ]
     },
     "execution_count": 20,
     "metadata": {},
     "output_type": "execute_result"
    }
   ],
   "source": [
    "SUM"
   ]
  },
  {
   "cell_type": "markdown",
   "id": "false-taste",
   "metadata": {},
   "source": [
    " "
   ]
  },
  {
   "cell_type": "markdown",
   "id": "correct-exception",
   "metadata": {},
   "source": [
    "# 실전문제 3. 숫자 카드 게임"
   ]
  },
  {
   "cell_type": "markdown",
   "id": "handed-positive",
   "metadata": {},
   "source": [
    "## 문제\n",
    "- 숫자 카드 게임은 여러 개의 숫자 카드 중에서 가장 높은 숫자가 쓰인 카드 한 장을 뽑는 게임이다. 단, 게임의 룰을 지키며 카드를 뽑아야 하고 룰은 다음과 같다.\n",
    "    - 숫자가 쓰인 카드들이 N X M 형태로 놓여 있다. 이때 N은 행의 개수를 의미하며, M은 열의 개수를 의미한다.\n",
    "    - 먼저 뽑고자 하는 카드가 포함되어 있는 행을 선택한다.\n",
    "    - 그 다음 선택된 행에 포함된 카드들 중 가장 숫자가 낮은 카드를 뽑아야 한다.\n",
    "    - 따라서 처음에 카드를 골라낼 행을 선택할 때, 이후에 해당 행에서 가장 숫자가 낮은 카드를 뽑을 것을 고려하여 최종적으로 가장 높은 숫자의 카드를 뽑을 수 있도록 전략을 세워야 한다.\n",
    "- 카드들이 N X M 형태로 놓여 있을 때, 게임의 룰에 맞게 카드를 뽑는 프로그램을 만드시오."
   ]
  },
  {
   "cell_type": "markdown",
   "id": "distributed-disney",
   "metadata": {},
   "source": [
    "## 입력 조건\n",
    "- 첫째 줄에 숫자 카드들이 놓인 행의 개수 N과 열의 개수 M이 공백을 기준으로 하여 각각 자연수로 주어진다. ($ 1 <= N, M <= 100 $)\n",
    "- 둘째 줄 부터 N개의 줄에 걸쳐 각 카드에 적힌 숫자가 주어진다. 각 숫자는 1 이상 10,000 이하의 자연수이다."
   ]
  },
  {
   "cell_type": "markdown",
   "id": "comfortable-holocaust",
   "metadata": {},
   "source": [
    "## 출력 조건\n",
    "- 첫째 줄에 게임의 룰에 맞게 선택한 카드에 적힌 숫자를 출력한다."
   ]
  },
  {
   "cell_type": "code",
   "execution_count": 59,
   "id": "warming-brief",
   "metadata": {},
   "outputs": [
    {
     "data": {
      "text/plain": [
       "2"
      ]
     },
     "execution_count": 59,
     "metadata": {},
     "output_type": "execute_result"
    }
   ],
   "source": [
    "N, M = map(int, input().split())\n",
    "cards = [[int(x) for x in input().split()] for _ in range(N) ]\n",
    "\n",
    "mins = list(map(min,cards))\n",
    "row_idx = mins.index(max(mins))\n",
    "max(cards[row_idx])"
   ]
  },
  {
   "cell_type": "markdown",
   "id": "american-thanks",
   "metadata": {},
   "source": [
    " "
   ]
  },
  {
   "cell_type": "markdown",
   "id": "blocked-arkansas",
   "metadata": {},
   "source": [
    "# 실전 문제 4. 1이 될 때 까지"
   ]
  },
  {
   "cell_type": "markdown",
   "id": "realistic-techno",
   "metadata": {},
   "source": [
    "## 문제\n",
    "- 어떠한 수 N이 1이 될 때까지 다음의 두 과정 중 하나를 반복적으로 선택하여 수행하려고 한다. 단, 두 번째 연산은 N이 K로 나누어 떨어질때만 선택할 수 있다.\n",
    "      1. N에서 1을 뺀다.\n",
    "      2. N을 K로 나눈다.\n",
    "- N과 K가 주어질 때 N이 1이 될 떄까지 1번 혹은 2번의 과정을 수행해야 하는 최소 횟수를 구하는 프로그램을 작성하시오."
   ]
  },
  {
   "cell_type": "markdown",
   "id": "abroad-visiting",
   "metadata": {},
   "source": [
    "## 입력 조건\n",
    "- 첫째 줄에 N($ 2 <= N <= 100000$)과 K($ 2 <= K <= 100000$)가 공백으로 구분되며 각각 자연수로 주어진다. 이 때 입력으로 주어지는 N은 항상 K보다 크거나 같다."
   ]
  },
  {
   "cell_type": "markdown",
   "id": "flying-conference",
   "metadata": {},
   "source": [
    "## 출력 조건\n",
    "- 첫째 줄에 N이 1이 될 때까지 1번 혹은 2번의 과정을 수행해야 하는 횟수의 최솟값을 출력한다."
   ]
  },
  {
   "cell_type": "code",
   "execution_count": 72,
   "id": "fifteen-bridge",
   "metadata": {},
   "outputs": [
    {
     "name": "stdin",
     "output_type": "stream",
     "text": [
      " 25 5\n"
     ]
    },
    {
     "name": "stdout",
     "output_type": "stream",
     "text": [
      "2\n"
     ]
    }
   ],
   "source": [
    "N, K = map(int, input().split())\n",
    "\n",
    "count = 0\n",
    "\n",
    "while N > 1 :\n",
    "    \n",
    "    if (N%K == 0) :\n",
    "        N = N//K\n",
    "    \n",
    "    else :\n",
    "        N -= 1\n",
    "    \n",
    "    count += 1\n",
    "    \n",
    "    \n",
    "print(count)"
   ]
  }
 ],
 "metadata": {
  "kernelspec": {
   "display_name": "Python 3",
   "language": "python",
   "name": "python3"
  },
  "language_info": {
   "codemirror_mode": {
    "name": "ipython",
    "version": 3
   },
   "file_extension": ".py",
   "mimetype": "text/x-python",
   "name": "python",
   "nbconvert_exporter": "python",
   "pygments_lexer": "ipython3",
   "version": "3.8.10"
  }
 },
 "nbformat": 4,
 "nbformat_minor": 5
}
