{
 "cells": [
  {
   "cell_type": "markdown",
   "id": "southwest-quarterly",
   "metadata": {},
   "source": [
    "#  Chapter 07. 이진 탐색"
   ]
  },
  {
   "cell_type": "markdown",
   "id": "important-medicaid",
   "metadata": {},
   "source": [
    "## 7-2.py 재귀 함수로 구현한 이진 탐색 소스코드"
   ]
  },
  {
   "cell_type": "code",
   "execution_count": 4,
   "id": "affecting-amendment",
   "metadata": {},
   "outputs": [
    {
     "name": "stdin",
     "output_type": "stream",
     "text": [
      " 10 7 \n",
      " 1 3 5 7 9 11 13 15 17 19\n"
     ]
    },
    {
     "name": "stdout",
     "output_type": "stream",
     "text": [
      "4\n"
     ]
    }
   ],
   "source": [
    "# 이진 탐색 소스코드 구현(재귀함수)\n",
    "def binary_search(array, target, start, end) :\n",
    "    if start > end : \n",
    "        return None \n",
    "    mid = (start+end)//2\n",
    "    # 찾은 경우 중간점 인덱스 반환\n",
    "    if array[mid] == target :\n",
    "        return mid\n",
    "    # 중간점의 값보다 찾고자 하는 값이 작은 경우 왼쪽 확인\n",
    "    elif array[mid] > target : \n",
    "        return binary_search(array, target, start, mid - 1)\n",
    "    # 중간점의 값보다 찾고자 하는 값이 큰 경우 오른쪽 확인\n",
    "    else : \n",
    "        return binary_search(array, target, mid + 1 , end)\n",
    "\n",
    "n, target = [int(x) for x in input().split()]\n",
    "array = [int(x) for x in input().split()]\n",
    "\n",
    "result = binary_search(array, target, 0, n - 1)\n",
    "\n",
    "if result == None :\n",
    "    print(\"원소가 존재하지 않습니다.\")\n",
    "else : \n",
    "    print(result + 1)"
   ]
  },
  {
   "cell_type": "markdown",
   "id": "built-bracket",
   "metadata": {},
   "source": [
    " "
   ]
  },
  {
   "cell_type": "markdown",
   "id": "italian-stable",
   "metadata": {},
   "source": [
    "## 7-3.py 반복문으로 구현한 이진 탐색 소스코드"
   ]
  },
  {
   "cell_type": "code",
   "execution_count": 7,
   "id": "molecular-surrey",
   "metadata": {},
   "outputs": [
    {
     "name": "stdin",
     "output_type": "stream",
     "text": [
      " 10 7\n",
      " 1 3 5 6 7 9 11 13 15 71\n"
     ]
    },
    {
     "name": "stdout",
     "output_type": "stream",
     "text": [
      "5\n"
     ]
    }
   ],
   "source": [
    "# 이진 탐색 소스코드 구현 (반복문)\n",
    "def binary_search(array, target, start, end) :\n",
    "\twhile start <= end :\n",
    "\t\tmid = (start + end) // 2\n",
    "\t\t# 찾은 경우 중간점 인덱스 반환 \n",
    "\t\tif array[mid] == target :\n",
    "\t\t\treturn mid\n",
    "\t\t# 중간점의 값보다 찾고자 하는 값이 작은 경우 왼쪽 확인\n",
    "\t\telif array[mid] > target : \n",
    "\t\t\tend = mid - 1\n",
    "\t\t# 중간점의 값보다 찾고자 하는 값이 큰 경우 오른쪽 확인\n",
    "\t\telse : \n",
    "\t\t\tstart = mid + 1\n",
    "\treturn None\n",
    "\n",
    "\n",
    "n, target = [int(x) for x in input().split()]\n",
    "array = [int(x) for x in input().split()]\n",
    "\n",
    "result = binary_search(array, target, 0, n - 1)\n",
    "\n",
    "if result == None :\n",
    "    print(\"원소가 존재하지 않습니다.\")\n",
    "else : \n",
    "    print(result + 1)"
   ]
  },
  {
   "cell_type": "markdown",
   "id": "confirmed-trace",
   "metadata": {},
   "source": [
    " "
   ]
  },
  {
   "cell_type": "markdown",
   "id": "monthly-consolidation",
   "metadata": {},
   "source": [
    "## 7-4.py 한 줄 입력받아 출력하는 소스코드\n",
    "- sys 라이브러리를 사용할 때는 한 줄 입력받고 나서 rstrip() 함수를 꼭 호출해야 한다. 소스코드에 readline()으로 입력하면 입력 후 엔터가 줄 바꿈 기호로 입력되는데, 이 공백 문자를 제거하려면 rstrip() 함수를 사용해야 한다.\n",
    "- 코드가 짧으니 관행적으로 외워서 사용하자."
   ]
  },
  {
   "cell_type": "code",
   "execution_count": 13,
   "id": "polar-brazilian",
   "metadata": {},
   "outputs": [
    {
     "name": "stdout",
     "output_type": "stream",
     "text": [
      "\n"
     ]
    }
   ],
   "source": [
    "import sys\n",
    "# 하나의 문자열 데이터 입력 받기\n",
    "input_data = sys.stdin.readline().rstrip()\n",
    "\n",
    "# 입력받은 문자열 그대로 출력\n",
    "print(input_data)"
   ]
  },
  {
   "cell_type": "markdown",
   "id": "heard-preliminary",
   "metadata": {},
   "source": [
    " "
   ]
  },
  {
   "cell_type": "markdown",
   "id": "welsh-match",
   "metadata": {},
   "source": [
    "#  [실전 문제 2] 부품 찾기"
   ]
  },
  {
   "cell_type": "markdown",
   "id": "novel-increase",
   "metadata": {},
   "source": [
    "## 문제 \n",
    "- 동빈이네 전자 매장에는 부품이 N개가 있음.\n",
    "- 각 부품은 정수 형태의 고유한 번호가 있음.\n",
    "- 어느날 손님이 M개 종류의 부품을 대량으로 구매하겠다며 당일 날 견적서를 요청함.\n",
    "- 이때 가게 안에 부품이 모두 있는지 확인하는 프로그램을 작성해보자.\n",
    "- 이때 손님이 요청한 부품 번호의 순서대로 부품을 확인해 부품이 있으면 yes를, 없으면 no를 출력한다. 구분은 공백으로 한다."
   ]
  },
  {
   "cell_type": "markdown",
   "id": "anticipated-expansion",
   "metadata": {},
   "source": [
    "## 입력 조건\n",
    "- 첫째 줄에 정수 N이 주어진다. $(1 <= N <= 1000000)$\n",
    "- 둘째 줄에는 공백으로 구분하여 N개의 정수가 주어진다. 이때 정수는 1보다 크고 1000000 이하이다.\n",
    "- 셋째 줄에는 정수 M이 주어진다. $(1 <= M <= 100000)$\n",
    "- 넷째 줄에는 공백으로 구분하여 M개의 정수가 주어진다. 이때 정수는 1보다 크고 1000000 이하이다."
   ]
  },
  {
   "cell_type": "markdown",
   "id": "opponent-literature",
   "metadata": {},
   "source": [
    "## 출력 조건\n",
    "- 첫째 줄에 공백으로 구분하여 각 부품이 존재하면 yes를, 없으면 no를 출력한다."
   ]
  },
  {
   "cell_type": "code",
   "execution_count": 25,
   "id": "increasing-vacuum",
   "metadata": {},
   "outputs": [
    {
     "name": "stdin",
     "output_type": "stream",
     "text": [
      " 5\n",
      " 8 3 7 9 2\n",
      " 3\n",
      " 5 7 9\n"
     ]
    },
    {
     "name": "stdout",
     "output_type": "stream",
     "text": [
      "no yes yes "
     ]
    }
   ],
   "source": [
    "# 내가 푼 코드 (이진 탐색법, 재귀함수 사용)\n",
    "\n",
    "N = int(input())\n",
    "parts = sorted([int(x) for x in input().split()])\n",
    "M = int(input())\n",
    "wants = [int(x) for x in input().split()]\n",
    "\n",
    "def binary_search(array, target, start, end) : \n",
    "    if start > end : \n",
    "        return None\n",
    "    mid = (start + end) // 2\n",
    "    \n",
    "    if array[mid] == target : \n",
    "        return mid\n",
    "    elif array[mid] > target : \n",
    "        return binary_search(array, target, start, mid - 1)\n",
    "    else :\n",
    "        return binary_search(array, target, mid + 1, end)\n",
    "\n",
    "    \n",
    "for i in range(len(wants)) : \n",
    "    want = wants[i]\n",
    "    check = binary_search(parts, want, 0, N-1)\n",
    "    \n",
    "    if check != None :\n",
    "        print(\"yes\", end = ' ')\n",
    "    else : \n",
    "        print(\"no\", end = ' ')"
   ]
  },
  {
   "cell_type": "markdown",
   "id": "empty-musician",
   "metadata": {},
   "source": [
    " "
   ]
  },
  {
   "cell_type": "markdown",
   "id": "experimental-soldier",
   "metadata": {},
   "source": [
    "### 책 답안 예시 (집합 자료형)"
   ]
  },
  {
   "cell_type": "code",
   "execution_count": 26,
   "id": "sweet-fireplace",
   "metadata": {},
   "outputs": [
    {
     "name": "stdin",
     "output_type": "stream",
     "text": [
      " 5\n",
      " 8 3 7 9 2\n",
      " 3\n",
      " 5 7 9\n"
     ]
    },
    {
     "name": "stdout",
     "output_type": "stream",
     "text": [
      "no yes yes "
     ]
    }
   ],
   "source": [
    "# N(가게의 부품 개수)을 입력받기\n",
    "n = int(input())\n",
    "# 가게에 있는 전체 부품 번호를 입력받아서 집합(set) 자료형에 기록\n",
    "array = set(map(int, input().split()))\n",
    "\n",
    "# M(손님이 확인 요청한 부품 개수)을 입력받기\n",
    "m = int(input())\n",
    "# 손님이 확인 요청한 전체 부품 번호를 공백으로 구분하여 입력\n",
    "x = [int(x) for x in input().split()]\n",
    "\n",
    "# 손님이 확인 요청한 부품 번호를 하나씩 확인\n",
    "for i in x :\n",
    "    if i in array : \n",
    "        print('yes', end = ' ')\n",
    "    else : \n",
    "        print('no', end = ' ')"
   ]
  },
  {
   "cell_type": "markdown",
   "id": "agricultural-geography",
   "metadata": {},
   "source": [
    " "
   ]
  },
  {
   "cell_type": "markdown",
   "id": "empty-dinner",
   "metadata": {},
   "source": [
    "# [실전문제 3] 떡볶이 떡 만들기"
   ]
  },
  {
   "cell_type": "markdown",
   "id": "toxic-oxford",
   "metadata": {},
   "source": [
    "## 문제\n",
    "- 오늘은 떡볶이 떡을 만드는 날. 동빈이네 떡볶이 떡은 길이가 일정하지 않다.\n",
    "- 대신에 한 봉지 안에 들어가는 떡의 총 길이는 절단기로 잘라서 맞춰준다. \n",
    "- 절단기에 높이(H)를 지정하면 줄지어진 떡을 한 번에 절단한다. 높이가 H보다 긴 떡은 H위의 부분이 잘릴 것이고, 낮은 떡은 잘리지 않는다.\n",
    "- 예를 들어 높이가 19, 14, 10, 17cm인 떡이 나란히 있고 절단기 높이를 15cm로 지정하면 자른 뒤 떡의 높이는 15, 14, 10, 15cm가 될 것. 잘린 떡의 길이는 차례대로 4, 0, 0, 2cm임. 손님은 6cm 만큼의 길이를 가져간다.\n",
    "- 손님이 왔을 때 요청한 총 길이가 M일 때 적어도 M만큼의 떡을 얻기 위해 절단기에 설정할 수 있는 높이의 최댓값을 구하는 프로그램을 작성하시오."
   ]
  },
  {
   "cell_type": "markdown",
   "id": "therapeutic-silence",
   "metadata": {},
   "source": [
    "## 입력 조건\n",
    "- 첫째 줄에 떡의 개수 N과 요청한 떡의 길이 M이 주어진다. $(1 <= N <= 1000000, 1 <= M <= 2000000000)$\n",
    "- 둘째 줄에는 떡의 개별 높이가 주어짐. 똑 높이의 총합은 항상 M 이상이므로, 손님은 필요한 양만큼 떡을 사갈 수 있다. 높이는 10억보다 작거나 같은 양의 정수 또는 0이다."
   ]
  },
  {
   "cell_type": "markdown",
   "id": "three-principal",
   "metadata": {},
   "source": [
    "## 출력 조건\n",
    "- 적어도 M만큼의 떡을 집에 가져가기 위해 절단기에 설정할 수 있는 높이의 최댓값을 출력한다."
   ]
  },
  {
   "cell_type": "code",
   "execution_count": null,
   "id": "liked-dining",
   "metadata": {},
   "outputs": [],
   "source": [
    "# 내가 푼 답\n",
    "\n",
    "N, M = [int(x) for x in input().split()]\n",
    "dduk = sorted([int(x) for x in input().split()])\n",
    "\n",
    "def binary_search(array, target, start, end) : \n",
    "    if start > end : \n",
    "        return None\n",
    "    mid = (start + end)//2\n",
    "    \n",
    "    if array[mid] == target :\n",
    "        return mid\n",
    "    if array[mid] < target :\n",
    "        if target <= array[mid+1] :\n",
    "            return mid+1\n",
    "        else : \n",
    "            binary_search(array, target, mid +1, end)\n",
    "    else : \n",
    "        if array[mid-1] <= target :\n",
    "            return mid-1\n",
    "        else :\n",
    "            binary_search(array, target, start, mid - 1)\n",
    "            \n",
    "            \n",
    "max_dduk = max(dduk)\n",
    "\n",
    "for H in range(max_dduk, 0, -1) :\n",
    "    print(H)\n",
    "    idx = binary_search(dduk, H, 0, N -1)\n",
    "    print(idx)"
   ]
  },
  {
   "cell_type": "markdown",
   "id": "characteristic-baghdad",
   "metadata": {},
   "source": [
    " "
   ]
  },
  {
   "cell_type": "markdown",
   "id": "quantitative-saturday",
   "metadata": {},
   "source": [
    "###  책에서 푼 답\n",
    "- 일반적으로 파라메트릭 서치 문제 유형은 이진 탐색을 재귀적으로 구현하지 않고 반복문을 이용해 구현하면 더 간결하게 문제를 풀 수 있다."
   ]
  },
  {
   "cell_type": "code",
   "execution_count": 45,
   "id": "arbitrary-coverage",
   "metadata": {},
   "outputs": [
    {
     "name": "stdin",
     "output_type": "stream",
     "text": [
      " 4 6\n",
      " 19 15 10 17\n"
     ]
    },
    {
     "name": "stdout",
     "output_type": "stream",
     "text": [
      "15\n"
     ]
    }
   ],
   "source": [
    "# 떡의 개수(N)와 요청한 떡의 길이(M)을 입력받기\n",
    "N, M = [int(x) for x in input().split()]\n",
    "# 각 떡의 개별 높이 정보를 입력받기\n",
    "array = [int(x) for x in input().split()]\n",
    "\n",
    "# 이진 탐색을 위한 시작점과 끝점 설정\n",
    "start = 0\n",
    "end = max(array)\n",
    "\n",
    "# 이진 탐색 수행(반복적)\n",
    "result = 0 \n",
    "while(start <= end) :\n",
    "    total = 0\n",
    "    mid = (start + end)//2\n",
    "    \n",
    "    for x in array :\n",
    "        # 잘랐을 떄 떡의 양 계산\n",
    "        if x > mid :\n",
    "            total += x - mid\n",
    "            \n",
    "    # 떡의 양이 부족한 경우 더 많이 자르기 (왼쪽 부분 탐색)\n",
    "    if total < M :\n",
    "        end = mid - 1\n",
    "    \n",
    "    # 떡의 양이 충분한 경우 덜 자르기 (오른쪽 부분 탐색)\n",
    "    else : \n",
    "        result = mid # 최대한 덜 잘랐을 때가 정답이므로, 여기에서 result에 기록\n",
    "        start = mid + 1\n",
    "        \n",
    "# 정답 출력\n",
    "print(result)        "
   ]
  }
 ],
 "metadata": {
  "kernelspec": {
   "display_name": "Python 3",
   "language": "python",
   "name": "python3"
  },
  "language_info": {
   "codemirror_mode": {
    "name": "ipython",
    "version": 3
   },
   "file_extension": ".py",
   "mimetype": "text/x-python",
   "name": "python",
   "nbconvert_exporter": "python",
   "pygments_lexer": "ipython3",
   "version": "3.8.10"
  }
 },
 "nbformat": 4,
 "nbformat_minor": 5
}
