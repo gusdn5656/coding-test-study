{
 "cells": [
  {
   "cell_type": "markdown",
   "id": "computational-accuracy",
   "metadata": {},
   "source": [
    "# 6-1.py 선택 정렬 소스코드"
   ]
  },
  {
   "cell_type": "code",
   "execution_count": 1,
   "id": "magnetic-state",
   "metadata": {},
   "outputs": [
    {
     "name": "stdout",
     "output_type": "stream",
     "text": [
      "[0, 1, 2, 3, 4, 5, 6, 7, 8, 9]\n"
     ]
    }
   ],
   "source": [
    "array = [7, 5, 9, 0, 3, 1, 6, 2, 4, 8]\n",
    "\n",
    "for i in range(len(array)) :\n",
    "    min_index = i # 가장 작은 원소의 인덱스\n",
    "    for j in range(i+1, len(array)) : \n",
    "        if array[min_index] > array[j] :\n",
    "            min_index = j\n",
    "    array[i], array[min_index] = array[min_index], array[i] # 스와프 \n",
    "    \n",
    "print(array)"
   ]
  },
  {
   "cell_type": "markdown",
   "id": "experimental-idaho",
   "metadata": {},
   "source": [
    " "
   ]
  },
  {
   "cell_type": "markdown",
   "id": "japanese-romania",
   "metadata": {},
   "source": [
    "# 6-3.py 삽입 정렬 소스코드"
   ]
  },
  {
   "cell_type": "code",
   "execution_count": 2,
   "id": "therapeutic-violence",
   "metadata": {},
   "outputs": [
    {
     "name": "stdout",
     "output_type": "stream",
     "text": [
      "[0, 1, 2, 3, 4, 5, 6, 7, 8, 9]\n"
     ]
    }
   ],
   "source": [
    "array = [7, 5, 9, 0, 3, 1, 6, 2, 4, 8]\n",
    "\n",
    "for i in range(1, len(array)) :\n",
    "    for j in range(i, 0, -1) :\n",
    "        if array[j] < array[j-1] :\n",
    "            array[j-1], array[j] = array[j], array[j-1]\n",
    "        else : \n",
    "            break\n",
    "\n",
    "print(array)"
   ]
  },
  {
   "cell_type": "markdown",
   "id": "smart-guatemala",
   "metadata": {},
   "source": [
    " "
   ]
  },
  {
   "cell_type": "markdown",
   "id": "negative-framing",
   "metadata": {},
   "source": [
    "# 6-4.py 퀵 정렬 소스코드"
   ]
  },
  {
   "cell_type": "code",
   "execution_count": 1,
   "id": "uniform-baghdad",
   "metadata": {},
   "outputs": [
    {
     "name": "stdout",
     "output_type": "stream",
     "text": [
      "[0, 1, 2, 3, 4, 5, 6, 7, 8, 9]\n"
     ]
    }
   ],
   "source": [
    "array = [5, 7, 9, 0, 3, 1, 6, 2, 4, 8]\n",
    "\n",
    "def quick_sort(array, start, end) :\n",
    "    if start >= end : # 원소가 1개인 경우 종료\n",
    "        return \n",
    "    pivot = start # 피벗은 첫 번째 원소\n",
    "    left = start + 1\n",
    "    right = end \n",
    "    while left <= right :\n",
    "        # 피벗보다 큰 데이터를 찾을 때까지 반복\n",
    "        while left <= end and array[left] <= array[pivot] :\n",
    "            left += 1\n",
    "        # 피벗보다 작은 데이터를 찾을 떄까지 반복\n",
    "        while right > start and array[right] >= array[pivot] : \n",
    "            right -= 1\n",
    "        # 엇갈렸다면 작은 데이터와 피벗을 교체\n",
    "        if right < left :\n",
    "            array[pivot], array[right] = array[right], array[pivot]\n",
    "        # 엇갈리지 않았다면 작은 데이터와 큰 데이터를 교체\n",
    "        else : \n",
    "            array[left], array[right] = array[right], array[left]\n",
    "    \n",
    "    # 분할 이후 왼쪽 부분과 오른쪽 부분에서 각각 정렬 수행\n",
    "    quick_sort(array, start, right -1)\n",
    "    quick_sort(array, right + 1, end)\n",
    "    \n",
    "quick_sort(array, 0, len(array)-1)\n",
    "print(array)"
   ]
  },
  {
   "cell_type": "markdown",
   "id": "colored-summer",
   "metadata": {},
   "source": [
    " "
   ]
  },
  {
   "cell_type": "markdown",
   "id": "infectious-eugene",
   "metadata": {},
   "source": [
    "# 6-5.py 파이썬의 장점을 살린 퀵 정렬 소스코드"
   ]
  },
  {
   "cell_type": "code",
   "execution_count": 2,
   "id": "cooperative-consideration",
   "metadata": {},
   "outputs": [
    {
     "name": "stdout",
     "output_type": "stream",
     "text": [
      "[0, 1, 2, 3, 4, 5, 6, 7, 8, 9]\n"
     ]
    }
   ],
   "source": [
    "array = [5, 7, 9, 0, 3, 1, 6, 2, 4, 8]\n",
    "\n",
    "def quick_sort(array) :\n",
    "    # 리스트가 하나 이하의 원소를 담고 있다면 종료\n",
    "    if len(array) <= 1 : \n",
    "        return array\n",
    "    \n",
    "    pivot = array[0] # 피벗은 첫 번쨰 원소\n",
    "    tail = array[1:] # 피벗을 제외한 리스트\n",
    "    \n",
    "    left_side = [x for x in tail if x <= pivot]  # 분할된 왼쪽 부분\n",
    "    right_side = [x for x in tail if x >= pivot] # 분할된 오른쪽 부분\n",
    "    \n",
    "    # 분할 이후 왼쪽 부분과 오른쪽 부분에서 각각 정렬을 수행하고, 전체 리스트를 반환\n",
    "    return quick_sort(left_side) + [pivot] + quick_sort(right_side)\n",
    "\n",
    "print(quick_sort(array))"
   ]
  },
  {
   "cell_type": "markdown",
   "id": "excessive-bowling",
   "metadata": {},
   "source": [
    " "
   ]
  },
  {
   "cell_type": "markdown",
   "id": "false-alcohol",
   "metadata": {},
   "source": [
    "# 6-6.py 계수 정렬 소스코드"
   ]
  },
  {
   "cell_type": "code",
   "execution_count": 3,
   "id": "acute-passport",
   "metadata": {},
   "outputs": [
    {
     "name": "stdout",
     "output_type": "stream",
     "text": [
      "0 0 1 1 2 2 3 4 5 5 6 7 8 9 9 "
     ]
    }
   ],
   "source": [
    "# 모든 원소의 값이 0보다 크거나 같다고 가정\n",
    "array = [7, 5, 9, 0, 3, 1, 6, 2, 9, 1, 4, 8, 0, 5, 2]\n",
    "# 모든 범위를 포함하는 리스트 선언 (모든 값은 0으로 초기화)\n",
    "count = [0] * (max(array) + 1)\n",
    "\n",
    "for i in range(len(array)) : \n",
    "    count[array[i]] += 1 # 각 데이터에 해당하는 인덱스의 값 증가\n",
    "    \n",
    "for i in range(len(count)) : # 리스트에 기록된 정렬 정보 확인\n",
    "    for j in range(count[i]) :\n",
    "        print(i, end= ' ') # 띄어쓰기를 구분으로 등장한 횟수만큼 인덱스 출력 \n",
    "        "
   ]
  },
  {
   "cell_type": "markdown",
   "id": "healthy-uganda",
   "metadata": {},
   "source": [
    " "
   ]
  },
  {
   "cell_type": "markdown",
   "id": "transsexual-fruit",
   "metadata": {},
   "source": [
    "# [실전문제 2] 위에서 아래로"
   ]
  },
  {
   "cell_type": "markdown",
   "id": "written-scheduling",
   "metadata": {},
   "source": [
    "## 문제\n",
    "- 하나의 수열에는 다양한 수가 존재한다.\n",
    "- 이러한 수는 크기에 상관없이 나열되어 있다.\n",
    "- 이 수를 큰 수부터 작은 수의 순서로 정렬해야한다. \n",
    "- 수열을 내림차순으로 정렬하는 프로그램을 만드시오."
   ]
  },
  {
   "cell_type": "markdown",
   "id": "based-pleasure",
   "metadata": {},
   "source": [
    "## 입력 조건\n",
    "- 첫째 줄에 수열에 속해 있는 수의 개수 N이 주어진다. $(1 <= N <= 500)$\n",
    "- 둘째 줄 부터 N + 1 번째 줄까지 N개의 수가 입력된다. 수의 범위는 1이상 100,000 이하의 자연수이다."
   ]
  },
  {
   "cell_type": "markdown",
   "id": "criminal-wagner",
   "metadata": {},
   "source": [
    "## 출력 조건\n",
    "- 입력으로 주어진 수열이 내림차순으로 정렬된 결과를 공백으로 구분하여 출력한다. 동일한 수의 순서는 자유롭게 출력해도 괜찮다.\n"
   ]
  },
  {
   "cell_type": "code",
   "execution_count": 16,
   "id": "fifteen-cleveland",
   "metadata": {},
   "outputs": [
    {
     "name": "stdin",
     "output_type": "stream",
     "text": [
      " 3\n",
      " 15\n",
      " 27\n",
      " 12\n"
     ]
    },
    {
     "name": "stdout",
     "output_type": "stream",
     "text": [
      "27\n",
      "15\n",
      "12\n"
     ]
    }
   ],
   "source": [
    "# 내 답안\n",
    "\n",
    "N = int(input())\n",
    "\n",
    "array = [int(input()) for _ in range(N)]\n",
    "\n",
    "sorted_list = [0] * (max(array) + 1)\n",
    "\n",
    "for i in range(len(array)) :\n",
    "    sorted_list[array[i]] += 1\n",
    "\n",
    "for i in range(len(sorted_list)-1 , -1, -1) :\n",
    "    for j in range(sorted_list[i]) :\n",
    "        print(i, end = ' ')"
   ]
  },
  {
   "cell_type": "code",
   "execution_count": 17,
   "id": "verbal-groove",
   "metadata": {},
   "outputs": [
    {
     "name": "stdin",
     "output_type": "stream",
     "text": [
      " 3\n",
      " 15\n",
      " 27\n",
      " 12\n"
     ]
    },
    {
     "name": "stdout",
     "output_type": "stream",
     "text": [
      "27 15 12 "
     ]
    }
   ],
   "source": [
    "# 책 답안 (약간의 변형)\n",
    "N = int(input())\n",
    "\n",
    "# N개의 정수를 입력받아 리스트에 저장\n",
    "array = [int(input()) for _ in range(N)]\n",
    "\n",
    "# 파이썬 기본 정렬 라이브러리를 이용하여 정렬 수행\n",
    "array = sorted(array, reverse = True)\n",
    "\n",
    "# 정렬이 수행된 결과 출력\n",
    "for i in array : \n",
    "    print(i, end = ' ')"
   ]
  },
  {
   "cell_type": "markdown",
   "id": "adequate-intro",
   "metadata": {},
   "source": [
    " "
   ]
  },
  {
   "cell_type": "markdown",
   "id": "eleven-dylan",
   "metadata": {},
   "source": [
    "#  [실전 문제 3] 성적이 낮은 순서로 학생 출력하기"
   ]
  },
  {
   "cell_type": "markdown",
   "id": "invalid-mother",
   "metadata": {},
   "source": [
    "## 문제\n",
    "- N명의 학생 정보가 있다. 학생 정보는 학생의 이름과 학생의 성적으로 구분된다.\n",
    "- 각 학생의 이름과 성적 정보가 주어졌을 때 성적이 낮은 순서대로 학생의 이름을 출력하는 프로그램을 작성하시오."
   ]
  },
  {
   "cell_type": "markdown",
   "id": "raised-marine",
   "metadata": {},
   "source": [
    "## 입력 조건\n",
    "- 첫 번째 줄에 학생수 N이 입력된다. $(1 <= N <= 100,000)$\n",
    "- 두 번째 줄부터 N + 1 번째 줄에는 학생의 이름을 나타내는 문자열 A와 학생의 성적을 나타내는 정수 B가 공백으로 구분되어 입력된다. 문자열 A의 길이와 학생의 성적은 100 이하의 자연수이다. "
   ]
  },
  {
   "cell_type": "markdown",
   "id": "curious-louisville",
   "metadata": {},
   "source": [
    "##  출력 조건\n",
    "- 모든 학생의 이름을 성적이 낮은 순서대로 출력한다. 성적이 동일한 학생들의 순서는 자유롭게 출력해도 괜찮다."
   ]
  },
  {
   "cell_type": "code",
   "execution_count": 54,
   "id": "visible-cleaners",
   "metadata": {},
   "outputs": [
    {
     "name": "stdin",
     "output_type": "stream",
     "text": [
      " 2\n",
      " 홍길동 95\n",
      " 이순신 77\n"
     ]
    },
    {
     "name": "stdout",
     "output_type": "stream",
     "text": [
      "이순신 홍길동 "
     ]
    }
   ],
   "source": [
    "N = int(input())\n",
    "\n",
    "array = []\n",
    "\n",
    "for i in range(N) :\n",
    "    temp = input().split(\" \")\n",
    "    array.append((temp[0],int(temp[1])))\n",
    "    \n",
    "def setting(data) : \n",
    "    return data[1]\n",
    "    \n",
    "array = sorted(array, key = setting)\n",
    "\n",
    "for i in range(len(array)) :\n",
    "    print(array[i][0], end = ' ')"
   ]
  },
  {
   "cell_type": "code",
   "execution_count": 58,
   "id": "blocked-president",
   "metadata": {},
   "outputs": [
    {
     "name": "stdin",
     "output_type": "stream",
     "text": [
      " 2\n",
      " 홍길동 95\n",
      " 이순신 77\n"
     ]
    },
    {
     "name": "stdout",
     "output_type": "stream",
     "text": [
      "이순신 홍길동 "
     ]
    }
   ],
   "source": [
    "### 책 답안\n",
    "\n",
    "# N을 입력받기\n",
    "N = int(input())\n",
    "\n",
    "# N명의 학생 정보를 입력받아 리스트에 저장\n",
    "array = []\n",
    "for i in range(N) : \n",
    "    input_data = input().split()\n",
    "    array.append((input_data[0], int(input_data[1])))\n",
    "    \n",
    "# 키(key)를 이용하여, 점수를 기준으로 정렬\n",
    "array = sorted(array, key = lambda x : x[1])\n",
    "\n",
    "# 정렬이 수행된 결과를 출력 \n",
    "for student in array :\n",
    "    print(student[0], end = ' ')"
   ]
  },
  {
   "cell_type": "markdown",
   "id": "contained-rhythm",
   "metadata": {},
   "source": [
    " "
   ]
  },
  {
   "cell_type": "markdown",
   "id": "official-birthday",
   "metadata": {},
   "source": [
    "# [실전 문제 4] 두 배열의 원소 교체"
   ]
  },
  {
   "cell_type": "markdown",
   "id": "phantom-ballet",
   "metadata": {},
   "source": [
    "## 문제\n",
    "- 동빈이는 두 개의 배열 A와 B를 가지고 있다. \n",
    "- 두 배열은 N개의 원소로 구성되어 있으며, 배열의 원소는 모두 자연수이다.\n",
    "- 동빈이는 최대 K번의 바꿔치기 연선을 수행할 수 있는데, 바꿔치기 연산이란 배열 A에 있는 원소 하나와 배열 B에 있느 ㄴ원소 하나를 골라서 두 원소를 서로 바꾸는 것을 말한다.\n",
    "- 동빈이의 최종 목표는 배열 A의 모든 원소 합이 최대가 되도록 하는 것이며, 여러분은 동빈이를 도와야 한다.\n",
    "- N, K, 그리고 배열 A와 B의 정보가 주어졌을 떄, 최대 K번의 바꿔치기 연산을 수행하여 만들 수 있는 배열 A의 모든 원소의 합의 최댓값을 출력하는 프로그램을 작성하시오."
   ]
  },
  {
   "cell_type": "markdown",
   "id": "colored-front",
   "metadata": {},
   "source": [
    "## 입력 조건\n",
    "- 첫 번째 줄에 N, K가 공백으로 구분되어 입력된다. $(1 <= N <= 100000, 0 <= k <= N)$\n",
    "- 두 번째 줄에 배열 A의 원소들이 공백으로 구분되어 입력된다. 모든 원소는 10,000,000 보다 작은 자연수이다.\n",
    "- 세 번째 줄에 배열 B의 원소들이 공백으로 구분되어 입력된다. 모든 원소는 10,000,000 보다 작은 자연수이다."
   ]
  },
  {
   "cell_type": "markdown",
   "id": "serious-walnut",
   "metadata": {},
   "source": [
    "## 출력 조건\n",
    "- 최대 K번의 바꿔치기 연산을 수행하여 만들 수 있는 배열 A의 모든 원소의 합의 최댓값을 출력한다."
   ]
  },
  {
   "cell_type": "code",
   "execution_count": 63,
   "id": "loving-malawi",
   "metadata": {},
   "outputs": [
    {
     "name": "stdin",
     "output_type": "stream",
     "text": [
      " 5 3\n",
      " 1 2 5 4 3\n",
      " 5 5 6 6 5\n"
     ]
    },
    {
     "name": "stdout",
     "output_type": "stream",
     "text": [
      "26\n"
     ]
    }
   ],
   "source": [
    "# 내 답안 \n",
    "\n",
    "N, K = [int(x) for x in input().split()]\n",
    "array_a = sorted([int(x) for x in input().split()])\n",
    "array_b = sorted([int(x) for x in input().split()], reverse = True)\n",
    "\n",
    "array_a[:K], array_b[:K] = array_b[:K], array_b[:K]\n",
    "\n",
    "print(sum(array_a))"
   ]
  },
  {
   "cell_type": "code",
   "execution_count": null,
   "id": "heated-eight",
   "metadata": {},
   "outputs": [],
   "source": [
    "## 책 답안\n",
    "\n",
    "N, K = [int(x) for x in input().split()]\n",
    "array_a = sorted([int(x) for x in input().split()])\n",
    "array_b = sorted([int(x) for x in input().split()], reverse = True)\n",
    "\n",
    "for i in range(K) :\n",
    "    if array_a[i] < array_b[i] :\n",
    "        array_a[i], array_b[i] = array_b[i], array_a[i]\n",
    "    else : \n",
    "        break\n",
    "\n",
    "print(sum(array_a))"
   ]
  }
 ],
 "metadata": {
  "kernelspec": {
   "display_name": "Python 3",
   "language": "python",
   "name": "python3"
  },
  "language_info": {
   "codemirror_mode": {
    "name": "ipython",
    "version": 3
   },
   "file_extension": ".py",
   "mimetype": "text/x-python",
   "name": "python",
   "nbconvert_exporter": "python",
   "pygments_lexer": "ipython3",
   "version": "3.8.10"
  }
 },
 "nbformat": 4,
 "nbformat_minor": 5
}
