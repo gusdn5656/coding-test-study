{
 "cells": [
  {
   "cell_type": "markdown",
   "id": "instant-withdrawal",
   "metadata": {},
   "source": [
    "# 5-2.py 큐 예제"
   ]
  },
  {
   "cell_type": "code",
   "execution_count": 25,
   "id": "sexual-trash",
   "metadata": {},
   "outputs": [
    {
     "name": "stdout",
     "output_type": "stream",
     "text": [
      "deque([3, 7, 1, 4])\n"
     ]
    }
   ],
   "source": [
    "from collections import deque\n",
    "\n",
    "# 큐(Queue) 구현을 위해 deque 라이브러리 사용 \n",
    "queue = deque()\n",
    "\n",
    "# 삽입(5) - 삽입(2) - 삽입(3) - 삽입(7) - 삭제() - 삽입(1) - 삽입(4) - 삭제()\n",
    "queue.append(5)\n",
    "queue.append(2)\n",
    "queue.append(3)\n",
    "queue.append(7)\n",
    "queue.popleft()\n",
    "queue.append(1)\n",
    "queue.append(4)\n",
    "queue.popleft()\n",
    "\n",
    "print(queue)    # 먼저들어온 순서대로 출력"
   ]
  },
  {
   "cell_type": "code",
   "execution_count": 26,
   "id": "adopted-pilot",
   "metadata": {},
   "outputs": [
    {
     "name": "stdout",
     "output_type": "stream",
     "text": [
      "deque([4, 1, 7, 3])\n"
     ]
    }
   ],
   "source": [
    "queue.reverse() # 나중에 들어온 원소부터 출력   \n",
    "print(queue)   "
   ]
  },
  {
   "cell_type": "markdown",
   "id": "animated-eating",
   "metadata": {},
   "source": [
    " "
   ]
  },
  {
   "cell_type": "markdown",
   "id": "looking-detail",
   "metadata": {},
   "source": [
    "# 5-4.py 재귀함수 종료 예제"
   ]
  },
  {
   "cell_type": "code",
   "execution_count": 11,
   "id": "continental-search",
   "metadata": {
    "scrolled": true,
    "tags": []
   },
   "outputs": [
    {
     "name": "stdout",
     "output_type": "stream",
     "text": [
      "1 번째 재귀 함수에서 2 번째 재귀 함수를 호출합니다.\n",
      "2 번째 재귀 함수에서 3 번째 재귀 함수를 호출합니다.\n",
      "3 번째 재귀 함수에서 4 번째 재귀 함수를 호출합니다.\n",
      "4 번째 재귀 함수에서 5 번째 재귀 함수를 호출합니다.\n",
      "5 번째 재귀 함수에서 6 번째 재귀 함수를 호출합니다.\n",
      "6 번째 재귀 함수에서 7 번째 재귀 함수를 호출합니다.\n",
      "7 번째 재귀 함수에서 8 번째 재귀 함수를 호출합니다.\n",
      "8 번째 재귀 함수에서 9 번째 재귀 함수를 호출합니다.\n",
      "9 번째 재귀 함수에서 10 번째 재귀 함수를 호출합니다.\n",
      "10 번째 재귀 함수에서 11 번째 재귀 함수를 호출합니다.\n",
      "11 번째 재귀 함수에서 12 번째 재귀 함수를 호출합니다.\n",
      "12 번째 재귀 함수에서 13 번째 재귀 함수를 호출합니다.\n",
      "13 번째 재귀 함수에서 14 번째 재귀 함수를 호출합니다.\n",
      "14 번째 재귀 함수에서 15 번째 재귀 함수를 호출합니다.\n",
      "15 번째 재귀 함수에서 16 번째 재귀 함수를 호출합니다.\n",
      "16 번째 재귀 함수에서 17 번째 재귀 함수를 호출합니다.\n",
      "17 번째 재귀 함수에서 18 번째 재귀 함수를 호출합니다.\n",
      "18 번째 재귀 함수에서 19 번째 재귀 함수를 호출합니다.\n",
      "19 번째 재귀 함수에서 20 번째 재귀 함수를 호출합니다.\n",
      "20 번째 재귀 함수에서 21 번째 재귀 함수를 호출합니다.\n",
      "21 번째 재귀 함수에서 22 번째 재귀 함수를 호출합니다.\n",
      "22 번째 재귀 함수에서 23 번째 재귀 함수를 호출합니다.\n",
      "23 번째 재귀 함수에서 24 번째 재귀 함수를 호출합니다.\n",
      "24 번째 재귀 함수에서 25 번째 재귀 함수를 호출합니다.\n",
      "25 번째 재귀 함수에서 26 번째 재귀 함수를 호출합니다.\n",
      "26 번째 재귀 함수에서 27 번째 재귀 함수를 호출합니다.\n",
      "27 번째 재귀 함수에서 28 번째 재귀 함수를 호출합니다.\n",
      "28 번째 재귀 함수에서 29 번째 재귀 함수를 호출합니다.\n",
      "29 번째 재귀 함수에서 30 번째 재귀 함수를 호출합니다.\n",
      "30 번째 재귀 함수에서 31 번째 재귀 함수를 호출합니다.\n",
      "31 번째 재귀 함수에서 32 번째 재귀 함수를 호출합니다.\n",
      "32 번째 재귀 함수에서 33 번째 재귀 함수를 호출합니다.\n",
      "33 번째 재귀 함수에서 34 번째 재귀 함수를 호출합니다.\n",
      "34 번째 재귀 함수에서 35 번째 재귀 함수를 호출합니다.\n",
      "35 번째 재귀 함수에서 36 번째 재귀 함수를 호출합니다.\n",
      "36 번째 재귀 함수에서 37 번째 재귀 함수를 호출합니다.\n",
      "37 번째 재귀 함수에서 38 번째 재귀 함수를 호출합니다.\n",
      "38 번째 재귀 함수에서 39 번째 재귀 함수를 호출합니다.\n",
      "39 번째 재귀 함수에서 40 번째 재귀 함수를 호출합니다.\n",
      "40 번째 재귀 함수에서 41 번째 재귀 함수를 호출합니다.\n",
      "41 번째 재귀 함수에서 42 번째 재귀 함수를 호출합니다.\n",
      "42 번째 재귀 함수에서 43 번째 재귀 함수를 호출합니다.\n",
      "43 번째 재귀 함수에서 44 번째 재귀 함수를 호출합니다.\n",
      "44 번째 재귀 함수에서 45 번째 재귀 함수를 호출합니다.\n",
      "45 번째 재귀 함수에서 46 번째 재귀 함수를 호출합니다.\n",
      "46 번째 재귀 함수에서 47 번째 재귀 함수를 호출합니다.\n",
      "47 번째 재귀 함수에서 48 번째 재귀 함수를 호출합니다.\n",
      "48 번째 재귀 함수에서 49 번째 재귀 함수를 호출합니다.\n",
      "49 번째 재귀 함수에서 50 번째 재귀 함수를 호출합니다.\n",
      "50 번째 재귀 함수에서 51 번째 재귀 함수를 호출합니다.\n",
      "51 번째 재귀 함수에서 52 번째 재귀 함수를 호출합니다.\n",
      "52 번째 재귀 함수에서 53 번째 재귀 함수를 호출합니다.\n",
      "53 번째 재귀 함수에서 54 번째 재귀 함수를 호출합니다.\n",
      "54 번째 재귀 함수에서 55 번째 재귀 함수를 호출합니다.\n",
      "55 번째 재귀 함수에서 56 번째 재귀 함수를 호출합니다.\n",
      "56 번째 재귀 함수에서 57 번째 재귀 함수를 호출합니다.\n",
      "57 번째 재귀 함수에서 58 번째 재귀 함수를 호출합니다.\n",
      "58 번째 재귀 함수에서 59 번째 재귀 함수를 호출합니다.\n",
      "59 번째 재귀 함수에서 60 번째 재귀 함수를 호출합니다.\n",
      "60 번째 재귀 함수에서 61 번째 재귀 함수를 호출합니다.\n",
      "61 번째 재귀 함수에서 62 번째 재귀 함수를 호출합니다.\n",
      "62 번째 재귀 함수에서 63 번째 재귀 함수를 호출합니다.\n",
      "63 번째 재귀 함수에서 64 번째 재귀 함수를 호출합니다.\n",
      "64 번째 재귀 함수에서 65 번째 재귀 함수를 호출합니다.\n",
      "65 번째 재귀 함수에서 66 번째 재귀 함수를 호출합니다.\n",
      "66 번째 재귀 함수에서 67 번째 재귀 함수를 호출합니다.\n",
      "67 번째 재귀 함수에서 68 번째 재귀 함수를 호출합니다.\n",
      "68 번째 재귀 함수에서 69 번째 재귀 함수를 호출합니다.\n",
      "69 번째 재귀 함수에서 70 번째 재귀 함수를 호출합니다.\n",
      "70 번째 재귀 함수에서 71 번째 재귀 함수를 호출합니다.\n",
      "71 번째 재귀 함수에서 72 번째 재귀 함수를 호출합니다.\n",
      "72 번째 재귀 함수에서 73 번째 재귀 함수를 호출합니다.\n",
      "73 번째 재귀 함수에서 74 번째 재귀 함수를 호출합니다.\n",
      "74 번째 재귀 함수에서 75 번째 재귀 함수를 호출합니다.\n",
      "75 번째 재귀 함수에서 76 번째 재귀 함수를 호출합니다.\n",
      "76 번째 재귀 함수에서 77 번째 재귀 함수를 호출합니다.\n",
      "77 번째 재귀 함수에서 78 번째 재귀 함수를 호출합니다.\n",
      "78 번째 재귀 함수에서 79 번째 재귀 함수를 호출합니다.\n",
      "79 번째 재귀 함수에서 80 번째 재귀 함수를 호출합니다.\n",
      "80 번째 재귀 함수에서 81 번째 재귀 함수를 호출합니다.\n",
      "81 번째 재귀 함수에서 82 번째 재귀 함수를 호출합니다.\n",
      "82 번째 재귀 함수에서 83 번째 재귀 함수를 호출합니다.\n",
      "83 번째 재귀 함수에서 84 번째 재귀 함수를 호출합니다.\n",
      "84 번째 재귀 함수에서 85 번째 재귀 함수를 호출합니다.\n",
      "85 번째 재귀 함수에서 86 번째 재귀 함수를 호출합니다.\n",
      "86 번째 재귀 함수에서 87 번째 재귀 함수를 호출합니다.\n",
      "87 번째 재귀 함수에서 88 번째 재귀 함수를 호출합니다.\n",
      "88 번째 재귀 함수에서 89 번째 재귀 함수를 호출합니다.\n",
      "89 번째 재귀 함수에서 90 번째 재귀 함수를 호출합니다.\n",
      "90 번째 재귀 함수에서 91 번째 재귀 함수를 호출합니다.\n",
      "91 번째 재귀 함수에서 92 번째 재귀 함수를 호출합니다.\n",
      "92 번째 재귀 함수에서 93 번째 재귀 함수를 호출합니다.\n",
      "93 번째 재귀 함수에서 94 번째 재귀 함수를 호출합니다.\n",
      "94 번째 재귀 함수에서 95 번째 재귀 함수를 호출합니다.\n",
      "95 번째 재귀 함수에서 96 번째 재귀 함수를 호출합니다.\n",
      "96 번째 재귀 함수에서 97 번째 재귀 함수를 호출합니다.\n",
      "97 번째 재귀 함수에서 98 번째 재귀 함수를 호출합니다.\n",
      "98 번째 재귀 함수에서 99 번째 재귀 함수를 호출합니다.\n",
      "99 번째 재귀 함수에서 100 번째 재귀 함수를 호출합니다.\n",
      "99 번째 재귀 함수를 종료합니다.\n",
      "98 번째 재귀 함수를 종료합니다.\n",
      "97 번째 재귀 함수를 종료합니다.\n",
      "96 번째 재귀 함수를 종료합니다.\n",
      "95 번째 재귀 함수를 종료합니다.\n",
      "94 번째 재귀 함수를 종료합니다.\n",
      "93 번째 재귀 함수를 종료합니다.\n",
      "92 번째 재귀 함수를 종료합니다.\n",
      "91 번째 재귀 함수를 종료합니다.\n",
      "90 번째 재귀 함수를 종료합니다.\n",
      "89 번째 재귀 함수를 종료합니다.\n",
      "88 번째 재귀 함수를 종료합니다.\n",
      "87 번째 재귀 함수를 종료합니다.\n",
      "86 번째 재귀 함수를 종료합니다.\n",
      "85 번째 재귀 함수를 종료합니다.\n",
      "84 번째 재귀 함수를 종료합니다.\n",
      "83 번째 재귀 함수를 종료합니다.\n",
      "82 번째 재귀 함수를 종료합니다.\n",
      "81 번째 재귀 함수를 종료합니다.\n",
      "80 번째 재귀 함수를 종료합니다.\n",
      "79 번째 재귀 함수를 종료합니다.\n",
      "78 번째 재귀 함수를 종료합니다.\n",
      "77 번째 재귀 함수를 종료합니다.\n",
      "76 번째 재귀 함수를 종료합니다.\n",
      "75 번째 재귀 함수를 종료합니다.\n",
      "74 번째 재귀 함수를 종료합니다.\n",
      "73 번째 재귀 함수를 종료합니다.\n",
      "72 번째 재귀 함수를 종료합니다.\n",
      "71 번째 재귀 함수를 종료합니다.\n",
      "70 번째 재귀 함수를 종료합니다.\n",
      "69 번째 재귀 함수를 종료합니다.\n",
      "68 번째 재귀 함수를 종료합니다.\n",
      "67 번째 재귀 함수를 종료합니다.\n",
      "66 번째 재귀 함수를 종료합니다.\n",
      "65 번째 재귀 함수를 종료합니다.\n",
      "64 번째 재귀 함수를 종료합니다.\n",
      "63 번째 재귀 함수를 종료합니다.\n",
      "62 번째 재귀 함수를 종료합니다.\n",
      "61 번째 재귀 함수를 종료합니다.\n",
      "60 번째 재귀 함수를 종료합니다.\n",
      "59 번째 재귀 함수를 종료합니다.\n",
      "58 번째 재귀 함수를 종료합니다.\n",
      "57 번째 재귀 함수를 종료합니다.\n",
      "56 번째 재귀 함수를 종료합니다.\n",
      "55 번째 재귀 함수를 종료합니다.\n",
      "54 번째 재귀 함수를 종료합니다.\n",
      "53 번째 재귀 함수를 종료합니다.\n",
      "52 번째 재귀 함수를 종료합니다.\n",
      "51 번째 재귀 함수를 종료합니다.\n",
      "50 번째 재귀 함수를 종료합니다.\n",
      "49 번째 재귀 함수를 종료합니다.\n",
      "48 번째 재귀 함수를 종료합니다.\n",
      "47 번째 재귀 함수를 종료합니다.\n",
      "46 번째 재귀 함수를 종료합니다.\n",
      "45 번째 재귀 함수를 종료합니다.\n",
      "44 번째 재귀 함수를 종료합니다.\n",
      "43 번째 재귀 함수를 종료합니다.\n",
      "42 번째 재귀 함수를 종료합니다.\n",
      "41 번째 재귀 함수를 종료합니다.\n",
      "40 번째 재귀 함수를 종료합니다.\n",
      "39 번째 재귀 함수를 종료합니다.\n",
      "38 번째 재귀 함수를 종료합니다.\n",
      "37 번째 재귀 함수를 종료합니다.\n",
      "36 번째 재귀 함수를 종료합니다.\n",
      "35 번째 재귀 함수를 종료합니다.\n",
      "34 번째 재귀 함수를 종료합니다.\n",
      "33 번째 재귀 함수를 종료합니다.\n",
      "32 번째 재귀 함수를 종료합니다.\n",
      "31 번째 재귀 함수를 종료합니다.\n",
      "30 번째 재귀 함수를 종료합니다.\n",
      "29 번째 재귀 함수를 종료합니다.\n",
      "28 번째 재귀 함수를 종료합니다.\n",
      "27 번째 재귀 함수를 종료합니다.\n",
      "26 번째 재귀 함수를 종료합니다.\n",
      "25 번째 재귀 함수를 종료합니다.\n",
      "24 번째 재귀 함수를 종료합니다.\n",
      "23 번째 재귀 함수를 종료합니다.\n",
      "22 번째 재귀 함수를 종료합니다.\n",
      "21 번째 재귀 함수를 종료합니다.\n",
      "20 번째 재귀 함수를 종료합니다.\n",
      "19 번째 재귀 함수를 종료합니다.\n",
      "18 번째 재귀 함수를 종료합니다.\n",
      "17 번째 재귀 함수를 종료합니다.\n",
      "16 번째 재귀 함수를 종료합니다.\n",
      "15 번째 재귀 함수를 종료합니다.\n",
      "14 번째 재귀 함수를 종료합니다.\n",
      "13 번째 재귀 함수를 종료합니다.\n",
      "12 번째 재귀 함수를 종료합니다.\n",
      "11 번째 재귀 함수를 종료합니다.\n",
      "10 번째 재귀 함수를 종료합니다.\n",
      "9 번째 재귀 함수를 종료합니다.\n",
      "8 번째 재귀 함수를 종료합니다.\n",
      "7 번째 재귀 함수를 종료합니다.\n",
      "6 번째 재귀 함수를 종료합니다.\n",
      "5 번째 재귀 함수를 종료합니다.\n",
      "4 번째 재귀 함수를 종료합니다.\n",
      "3 번째 재귀 함수를 종료합니다.\n",
      "2 번째 재귀 함수를 종료합니다.\n",
      "1 번째 재귀 함수를 종료합니다.\n"
     ]
    }
   ],
   "source": [
    "def recursive_function(i) :\n",
    "\t# 100번째 출력했을 때 종료되도록 조건 명시\n",
    "\tif i == 100 : \n",
    "\t\treturn\n",
    "\tprint(i, '번째 재귀 함수에서', i+1, '번째 재귀 함수를 호출합니다.')\n",
    "\trecursive_function(i+1)\n",
    "\tprint(i, '번째 재귀 함수를 종료합니다.')\n",
    "    \n",
    "recursive_function(1)"
   ]
  },
  {
   "cell_type": "markdown",
   "id": "radical-bloom",
   "metadata": {},
   "source": [
    " "
   ]
  },
  {
   "cell_type": "markdown",
   "id": "technological-jewel",
   "metadata": {},
   "source": [
    "# 5-5.py 두 가지 방식으로 구현한 팩토리얼 예제"
   ]
  },
  {
   "cell_type": "code",
   "execution_count": 13,
   "id": "earned-luther",
   "metadata": {},
   "outputs": [
    {
     "data": {
      "text/plain": [
       "120"
      ]
     },
     "execution_count": 13,
     "metadata": {},
     "output_type": "execute_result"
    }
   ],
   "source": [
    "# 반복적으로 구현한 n!\n",
    "def factorial_iterative(n) :\n",
    "\tresult = 1\n",
    "\t# 1부터 n까지의 수를 차례대로 곱하기\n",
    "\tfor i in range(1, n+1) :\n",
    "\t\tresult *= i\n",
    "\treturn result\n",
    "\n",
    "# 재귀적으로 구현한 n!\n",
    "def factorial_recursive(n) : \n",
    "\tif n <= 1 :   # n이 1 이하인 경우 1을 반환\n",
    "\t\treturn 1\n",
    "\t\n",
    "  # n! = n * (n - 1)!를 그대로 코드로 작성하기\n",
    "\treturn n * factorial_recursive(n-1)\n",
    "\n",
    "factorial_recursive(5)"
   ]
  },
  {
   "cell_type": "markdown",
   "id": "grateful-regression",
   "metadata": {},
   "source": [
    " "
   ]
  },
  {
   "cell_type": "markdown",
   "id": "fifteen-broadcast",
   "metadata": {},
   "source": [
    "# 5-6.py 인접 행렬 방식 예제"
   ]
  },
  {
   "cell_type": "code",
   "execution_count": 15,
   "id": "special-detroit",
   "metadata": {},
   "outputs": [
    {
     "name": "stdout",
     "output_type": "stream",
     "text": [
      "[[0, 7, 5], [7, 0, 999999999], [5, 999999999, 0]]\n"
     ]
    }
   ],
   "source": [
    "INF = 999999999 # 무한의 비용 선언\n",
    "\n",
    "# 2차원 리스트를 이용해 인접 행렬 표현\n",
    "graph = [\n",
    "   [0,7,5],\n",
    "   [7,0,INF],\n",
    "   [5,INF,0]\n",
    "]\n",
    "print(graph)"
   ]
  },
  {
   "cell_type": "markdown",
   "id": "entertaining-incidence",
   "metadata": {},
   "source": [
    " "
   ]
  },
  {
   "cell_type": "markdown",
   "id": "southern-trinidad",
   "metadata": {},
   "source": [
    "# 5-7.py 인접 리스트 방식 예제"
   ]
  },
  {
   "cell_type": "code",
   "execution_count": 17,
   "id": "suspected-coordinator",
   "metadata": {},
   "outputs": [
    {
     "name": "stdout",
     "output_type": "stream",
     "text": [
      "[[(1, 7), (2, 5)], [(0, 7)], [(0, 5)]]\n"
     ]
    }
   ],
   "source": [
    "# 행(Row)이 3개인 2차원 리스트로 인접 리스트 표현\n",
    "graph = [ [] for _ in range(3)]\n",
    "\n",
    "# 노드 0에 연결된 노드 정보 저장(노드, 거리)\n",
    "graph[0].append((1,7))\n",
    "graph[0].append((2,5))\n",
    "\n",
    "# 노드 1에 연결된 노드 정보 저장(노드, 거리)\n",
    "graph[1].append((0,7))\n",
    "\n",
    "# 노드 2에 연결된 노드 정보 저장(노드, 거리)\n",
    "graph[2]. append((0,5))\n",
    "\n",
    "print(graph)"
   ]
  },
  {
   "cell_type": "markdown",
   "id": "metropolitan-significance",
   "metadata": {},
   "source": [
    " "
   ]
  },
  {
   "cell_type": "markdown",
   "id": "shared-county",
   "metadata": {},
   "source": [
    "# 5-8.py DFS 예제"
   ]
  },
  {
   "cell_type": "code",
   "execution_count": 18,
   "id": "baking-heart",
   "metadata": {},
   "outputs": [
    {
     "name": "stdout",
     "output_type": "stream",
     "text": [
      "1 2 7 6 8 3 4 5 "
     ]
    }
   ],
   "source": [
    "# DFS 메서드 정의\n",
    "def dfs(graph, v, visited) : \n",
    "    # 현재 노드를 방문 처리\n",
    "    visited[v] = True\n",
    "    print(v, end = ' ')\n",
    "    # 현재 노드와 연결된 다른 노드를 재귀적으로 방문\n",
    "    for i in graph[v] :\n",
    "        if not visited[i] : \n",
    "            dfs(graph, i, visited)\n",
    "            \n",
    "# 각 노드가 연결된 정보를 리스트 자료형으로 표현 (2차원 리스트)\n",
    "graph = [\n",
    "    [],\n",
    "    [2, 3, 8],\n",
    "    [1, 7],\n",
    "    [1, 4, 5],\n",
    "    [3, 5],\n",
    "    [3, 4],\n",
    "    [7],\n",
    "    [2, 6, 8],\n",
    "    [1, 7]\n",
    "]\n",
    "\n",
    "# 각 노드가 방문된 정보를 리스트 자료형으로 표현 (1차원 리스트)\n",
    "visited = [False] * 9\n",
    "\n",
    "# 정의된 DFS 함수 호출\n",
    "dfs(graph, 1, visited)"
   ]
  },
  {
   "cell_type": "markdown",
   "id": "lucky-territory",
   "metadata": {},
   "source": [
    " "
   ]
  },
  {
   "cell_type": "markdown",
   "id": "transparent-journal",
   "metadata": {},
   "source": [
    "# 5-9.py BFS 예제"
   ]
  },
  {
   "cell_type": "code",
   "execution_count": 23,
   "id": "wrong-recruitment",
   "metadata": {},
   "outputs": [
    {
     "name": "stdout",
     "output_type": "stream",
     "text": [
      "1 2 3 8 7 4 5 6 "
     ]
    }
   ],
   "source": [
    "from collections import deque\n",
    "\n",
    "# BFS 메서드 정의 \n",
    "def bfs(graph, start, visited) :\n",
    "    # 큐(Queue) 구현을 위해 deque 라이브러리 사용\n",
    "    queue = deque([start])\n",
    "    #현재 노드를 방문 처리\n",
    "    visited[start] = True\n",
    "    #큐가 빌 떄 까지 반복\n",
    "    while queue : \n",
    "        # 큐에서 하나의 원소를 뽑아 출력\n",
    "        v = queue.popleft()\n",
    "        print(v, end = ' ')\n",
    "        # 해당 원소와 연결된, 아직 방문하지 않은 원소들을 큐에 삽입\n",
    "        for i in graph[v] :\n",
    "            if not visited[i] :\n",
    "                queue.append(i)\n",
    "                visited[i] = True\n",
    "                \n",
    "# 각 노드가 연결된 정보를 리스트 자료형으로 표현 (2차원 리스트)\n",
    "graph = [\n",
    "    [],\n",
    "    [2, 3, 8],\n",
    "    [1, 7],\n",
    "    [1, 4, 5],\n",
    "    [3, 5],\n",
    "    [3, 4],\n",
    "    [7],\n",
    "    [2, 6, 8],\n",
    "    [1, 7]\n",
    "]\n",
    "\n",
    "# 각 노드가 방문된 정보를 리스트 자료형으로 표현 (1차원 리스트)\n",
    "visited = [False] * 9\n",
    "\n",
    "# 정의된 BFS 함수 호출\n",
    "bfs(graph, 1, visited)"
   ]
  },
  {
   "cell_type": "markdown",
   "id": "utility-heritage",
   "metadata": {},
   "source": [
    " "
   ]
  },
  {
   "cell_type": "markdown",
   "id": "frank-paste",
   "metadata": {},
   "source": [
    "# [실전문제 3] 음료수 얼려먹기"
   ]
  },
  {
   "cell_type": "markdown",
   "id": "opposite-strength",
   "metadata": {},
   "source": [
    "## 문제\n",
    "- N x M 크기의 얼음 틀이 있다. 구멍이 ㄸ뤃려 있는 부분은 0, 칸막이가 존재하는 부분은 1로 표시된다. \n",
    "- 구멍이 뚤려있는 부분끼리 상, 하, 좌, 우로 붙어 있는 경우 서로 연결되어 있는 것으로 간주한다.\n",
    "- 이 때 얼음 틀의 모양이 주어졌을 때 생성되는 총 아이스크림의 개수를 구하는 프로그램을 작성하시오.\n",
    "- 다음의 4 x 5 얼음 틀 예시에서는 아이스크림이 총 3개 생성됨.\n",
    "    ``` 00110\n",
    "        00011\n",
    "        11111\n",
    "        00000 "
   ]
  },
  {
   "cell_type": "markdown",
   "id": "painful-explorer",
   "metadata": {},
   "source": [
    "## 입력조건\n",
    "- 첫 번째 줄에 얼음 틀의 세로 길이 N과 가로 길이 M이 주어진다. $(1 <= N, M <= 1,000) $\n",
    "- 두 번째 줄부터 N+1 번재 줄까지 얼음 틀의 형태가 주어진다.\n",
    "- 이때 구멍이 뚫려있는 부분은 0, 그렇지 않은 부분은 1이다."
   ]
  },
  {
   "cell_type": "markdown",
   "id": "level-prisoner",
   "metadata": {},
   "source": [
    "## 출력조건\n",
    "- 한 번에 만들 수 있는 아이스크림의 개수를 출력한다."
   ]
  },
  {
   "cell_type": "code",
   "execution_count": 124,
   "id": "supposed-burning",
   "metadata": {},
   "outputs": [
    {
     "name": "stdin",
     "output_type": "stream",
     "text": [
      " 4 5\n",
      " 00110\n",
      " 00011\n",
      " 11111\n",
      " 00000\n"
     ]
    }
   ],
   "source": [
    "# 내가 푼 답안\n",
    "\n",
    "N, M = map(int, input().split())\n",
    "frame = [[int(x) for x in input()] for _ in range(N)]\n",
    "\n",
    "frame_list = [[]]\n",
    "frame_num = [[i for i in range( 1 + M*j, 1 + M*(j+1))] for j in range(N)]\n",
    "\n",
    "for i in range(N) :\n",
    "    for j in range(M) :\n",
    "        \n",
    "        temp_lst = []\n",
    "        \n",
    "        # 지금 위치가 1이라면 pass\n",
    "        if frame[i][j] == 1 :\n",
    "            frame_list.append(temp_lst)\n",
    "            continue\n",
    "        # 지금 위치가 0인지 확인\n",
    "        else :\n",
    "            \n",
    "            # 우측에 칸이 있는지 확인\n",
    "            if j+1 < M :\n",
    "                # 우측에 칸이 있고 0이면 번호 가져옴 \n",
    "                if frame[i][j+1] == 0 :\n",
    "                    temp_lst.append(frame_num[i][j+1])\n",
    "            \n",
    "            # 아래에 칸이 있는지 확인\n",
    "            if i+1 < N :\n",
    "                # 아래에 칸이 있고 0이면 번호 가져옴\n",
    "                if frame[i+1][j] == 0 :\n",
    "                    temp_lst.append(frame_num[i+1][j])\n",
    "                    \n",
    "            # 좌측에 칸이 있는지 확인\n",
    "            if j-1 >= 0 :\n",
    "                # 좌측에 칸이 있고 0이면 번호 가져옴\n",
    "                if frame[i][j-1] == 0 :\n",
    "                    temp_lst.append(frame_num[i][j-1])\n",
    "                    \n",
    "            # 위에 칸이 있는지 확인\n",
    "            if i-1 >= 0 :\n",
    "                # 위에 칸이 있고 0이면 번호 가져옴\n",
    "                if frame[i-1][j] == 0:\n",
    "                    temp_lst.append(frame_num[i-1][j])\n",
    "                    \n",
    "            if len(temp_lst) == 0 :\n",
    "                temp_lst.append(frame_num[i][j])\n",
    "                    \n",
    "        # frame_list에 추가\n",
    "        frame_list.append(temp_lst)\n",
    "\n",
    "        \n",
    "from collections import deque\n",
    "\n",
    "# BFS 메서드 정의\n",
    "def bfs(graph, start) :\n",
    "    queue = deque([start])\n",
    "    visited = [False] * (N * M+1)\n",
    "    chunk = []\n",
    "    \n",
    "    if len(graph[start]) == 0 :\n",
    "        pass\n",
    "        \n",
    "    else :\n",
    "        # 현재 노드를 방문 처리\n",
    "        visited[start] = True\n",
    "        # 큐가 빌 때 까지 반복\n",
    "        while queue :\n",
    "            # 큐에서 하나의 원소를 뽑아 출력 \n",
    "            v = queue.popleft()\n",
    "            chunk.append(v)\n",
    "\n",
    "            # 해당 원소와 연결된, 아직 방문하지 않은 원소들을 큐에 삽입\n",
    "            for i in graph[v] :\n",
    "                if not visited[i] :\n",
    "                    queue.append(i)\n",
    "                    visited[i] = True\n",
    "                \n",
    "    return chunk\n",
    "\n",
    "chunks = []\n",
    "\n",
    "for i in range(1, N*M+1) :\n",
    "    chunks.append(bfs(frame_list, i))\n",
    "    \n",
    "answer = len(set(tuple(sorted(i)) for i in chunks)) - 1 \n",
    "answer"
   ]
  },
  {
   "cell_type": "code",
   "execution_count": 1,
   "id": "german-wholesale",
   "metadata": {},
   "outputs": [
    {
     "name": "stdin",
     "output_type": "stream",
     "text": [
      " 4 5\n",
      " 00110\n",
      " 00011\n",
      " 11111\n",
      " 00000\n"
     ]
    },
    {
     "name": "stdout",
     "output_type": "stream",
     "text": [
      "3\n"
     ]
    }
   ],
   "source": [
    "# 책에서 쓴 답안 5-10.py 답안 예시 ---------------\n",
    "\n",
    "# N, M을 공백으로 구분하여 입력받기 \n",
    "n, m = map(int, input().split())\n",
    "\n",
    "# 2차원 리스트의 맵 정보 입력받기\n",
    "graph = [[int(x) for x in input()] for _ in range(n)]\n",
    "\n",
    "# DFS로 특정한 노드를 방문한 뒤에 연결된 모든 노드들도 방문\n",
    "def dfs(x, y) :\n",
    "    # 주어진 범위를 벗어나는 경우에는 즉시 종료\n",
    "    if x <= -1 or x >= n or y <= -1 or y >= m :\n",
    "        return False\n",
    "    # 현재 노드를 아직 방문하지 않았다면\n",
    "    if graph[x][y] == 0 :\n",
    "        # 해당 노드 방문처리\n",
    "        graph[x][y] = 1\n",
    "        # 상, 하, 좌, 우의 위치도 모두 재귀적으로 호출\n",
    "        dfs(x - 1, y) # 상\n",
    "        dfs(x, y - 1) # 좌\n",
    "        dfs(x + 1, y) # 하\n",
    "        dfs(x, y + 1) # 우\n",
    "        return True\n",
    "    else : \n",
    "        return False\n",
    "        \n",
    "# 모든 노드(위치)에 대하여 음료수 채우기\n",
    "result = 0\n",
    "for i in range(n) : \n",
    "    for j in range(m) :\n",
    "        # 현재 위치에서 DFS 수행\n",
    "        if dfs(i,j) == True : \n",
    "            result += 1\n",
    "            \n",
    "print(result)\n",
    "        \n",
    "        \n",
    "        \n"
   ]
  }
 ],
 "metadata": {
  "kernelspec": {
   "display_name": "Python 3",
   "language": "python",
   "name": "python3"
  },
  "language_info": {
   "codemirror_mode": {
    "name": "ipython",
    "version": 3
   },
   "file_extension": ".py",
   "mimetype": "text/x-python",
   "name": "python",
   "nbconvert_exporter": "python",
   "pygments_lexer": "ipython3",
   "version": "3.8.10"
  }
 },
 "nbformat": 4,
 "nbformat_minor": 5
}
