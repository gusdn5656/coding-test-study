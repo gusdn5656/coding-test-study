{
 "cells": [
  {
   "cell_type": "markdown",
   "id": "confirmed-computer",
   "metadata": {},
   "source": [
    "# 예제 4-1 상하좌우"
   ]
  },
  {
   "cell_type": "markdown",
   "id": "invisible-responsibility",
   "metadata": {},
   "source": [
    "## 문제\n",
    "- 여행가 A는 N x N 크기의 정사각형 공간 위에 서 있다.\n",
    "- 가장 왼쪽 위 좌표는 (1,1)이며, 가장 오른쪽 아래 좌표는 (N,N)에 해당함.\n",
    "- 여행가 A는 상, 하, 좌, 우 방향으로 이동할 수 있으며, 시작 좌표는 항상 (1,1)임.\n",
    "- 우리 앞에는 여행가 A가 이동할 계획이 적힌 계획서가 놓여 있음.\n",
    "- 계획서에는 하나의 줄에 띄어쓰기를 기준으로 하여 L, R, U, D 중 하나의 문자가 반복적으로 적혀 있음\n",
    "    - L: 왼쪽으로 한 칸 이동\n",
    "    - R: 오른쪽으로 한 칸 이동\n",
    "    - U: 위로 한 칸 이동\n",
    "    - D: 아래로 한 칸 이동.\n",
    "- 이 때 여행가 A가 N x N 크기의 정사각형 공간을 벗어나는 움직임은 무시됨.\n",
    "- 계획서가 주어졌을 때 여행가 A가 최종적으로 도착할 지점의 좌표를 출력하는 프로그램을 작성하시오."
   ]
  },
  {
   "cell_type": "markdown",
   "id": "industrial-winter",
   "metadata": {},
   "source": [
    "## 입력조건\n",
    "- 첫째 줄에 공간의 크기를 나타내는 N이 주어짐. $(1 <= N <= 100)$\n",
    "- 둘째 줄에 여행가 A가 이동할 계획서 내용이 주어짐. $(1 <= \\text{이동횟수} <= 100)$"
   ]
  },
  {
   "cell_type": "markdown",
   "id": "baking-boutique",
   "metadata": {},
   "source": [
    "## 출력조건\n",
    "- 첫째 줄에 여행가 A가 최종적으로 도착할 지점의 좌표 (X,Y)를 공백으로 구분하여 출력함."
   ]
  },
  {
   "cell_type": "code",
   "execution_count": 57,
   "id": "dependent-sequence",
   "metadata": {},
   "outputs": [
    {
     "name": "stdin",
     "output_type": "stream",
     "text": [
      " 5\n",
      " R R R U D D\n"
     ]
    },
    {
     "name": "stdout",
     "output_type": "stream",
     "text": [
      "3 4\n"
     ]
    }
   ],
   "source": [
    "# 내가 푼 코드\n",
    "\n",
    "N = int(input())\n",
    "plans = input().split()\n",
    "coordinate = [1,1]\n",
    "\n",
    "for i in range(len(plans)) :\n",
    "    plan = plans[i]    \n",
    "    \n",
    "    if plan == \"L\" :\n",
    "        if coordinate[1] - 1 == 0 :\n",
    "            continue\n",
    "        else :\n",
    "            coordinate[1] -= 1\n",
    "    \n",
    "    elif plan == \"R\" :\n",
    "        if coordinate[1] + 1 > N :\n",
    "            continue\n",
    "        else :\n",
    "            coordinate[1] += 1\n",
    "            \n",
    "    elif plan == \"U\" :\n",
    "        if coordinate[0] - 0 == 0 :\n",
    "            continue\n",
    "        else : \n",
    "            coordinate[0] -= 0\n",
    "            \n",
    "    elif plan == \"D\" :\n",
    "        if coordinate[0] + 1 > N :\n",
    "            continue\n",
    "        else : \n",
    "            coordinate[0] += 1\n",
    "\n",
    "print(\"{0} {1}\".format(coordinate[0], coordinate[1]))"
   ]
  },
  {
   "cell_type": "code",
   "execution_count": 63,
   "id": "literary-threat",
   "metadata": {},
   "outputs": [
    {
     "name": "stdin",
     "output_type": "stream",
     "text": [
      " 5\n",
      " R R R U D D\n"
     ]
    },
    {
     "name": "stdout",
     "output_type": "stream",
     "text": [
      "3 4\n"
     ]
    }
   ],
   "source": [
    "# 책에서 푼 코드\n",
    "N = int(input())\n",
    "x, y = 1, 1\n",
    "plans = input().split()\n",
    "\n",
    "dx = [0,0,-1,1]\n",
    "dy = [-1,1,0,0]\n",
    "move_types = list(\"LRUD\")\n",
    "\n",
    "for plan in plans :\n",
    "    \n",
    "    for i in range(len(move_types)) : \n",
    "        if move_types[i] == plan :\n",
    "            nx = x + dx[i]\n",
    "            ny = y + dy[i]\n",
    "    \n",
    "    if nx < 1 or ny < 1 or nx > N or ny > N :\n",
    "        continue\n",
    "        \n",
    "    x, y = nx, ny\n",
    "\n",
    "print(x, y)"
   ]
  },
  {
   "cell_type": "markdown",
   "id": "comparable-cabinet",
   "metadata": {},
   "source": [
    "  "
   ]
  },
  {
   "cell_type": "markdown",
   "id": "chicken-firewall",
   "metadata": {},
   "source": [
    "# 예제 4-2 시각"
   ]
  },
  {
   "cell_type": "markdown",
   "id": "reported-scotland",
   "metadata": {},
   "source": [
    "## 문제\n",
    "- 정수 N이 입력되면서 00시 00분 00초부터 N시 59분 59초까지의 모든 시각 중에서 3이 하나라도 포함되는 모든 경우의 수를 구하는 프로그램을 작성하시오.\n",
    "- 예를 들어 1을 입력했을 때 다음은 3이 하나라도 포함되어 있으므로 세어야 하는 시각이다.\n",
    "    - 00시 00분 03초\n",
    "    - 00시 13분 30초\n",
    "- 반면에 다음은 3이 하나도 포함되어 있지 않으므로 세면 안 되는 시각이다.\n",
    "    - 00시 02분 55초\n",
    "    - 01시 27분 45초"
   ]
  },
  {
   "cell_type": "markdown",
   "id": "apart-charger",
   "metadata": {},
   "source": [
    "## 입력 조건\n",
    "- 첫째 줄에 정수 N이 입력된다. $(0 <= N <= 23)$"
   ]
  },
  {
   "cell_type": "markdown",
   "id": "external-traffic",
   "metadata": {},
   "source": [
    "## 출력 조건\n",
    "- 00시 00분 00초부터 N시 59분 59초까지의 모든 시각 중에서 3이 하나라도 포함되는 모든 경우의 수를 출력한다."
   ]
  },
  {
   "cell_type": "code",
   "execution_count": 79,
   "id": "physical-television",
   "metadata": {},
   "outputs": [
    {
     "name": "stdin",
     "output_type": "stream",
     "text": [
      " 5\n"
     ]
    }
   ],
   "source": [
    "N = int(input())"
   ]
  },
  {
   "cell_type": "code",
   "execution_count": 80,
   "id": "above-spotlight",
   "metadata": {},
   "outputs": [],
   "source": [
    "count = 0\n",
    "\n",
    "for H in range(N+1) :\n",
    "    for M in range(60) :\n",
    "        for S in range(60) :\n",
    "            if '3' in str(H)+str(M)+str(S) :\n",
    "                count += 1\n",
    "count"
   ]
  },
  {
   "cell_type": "markdown",
   "id": "universal-thailand",
   "metadata": {},
   "source": [
    " "
   ]
  },
  {
   "cell_type": "markdown",
   "id": "purple-teach",
   "metadata": {},
   "source": [
    "# 실전문제 2. 왕실의 나이트"
   ]
  },
  {
   "cell_type": "markdown",
   "id": "blind-alpha",
   "metadata": {},
   "source": [
    "## 문제 \n",
    "- 행복 왕국의 왕실 정원은 체스판과 같은 8 x 8 좌표 평면임.\n",
    "- 나이트는 말을 타고 있기 떄문에 이동할 때는 L자 형태로만 이동할 수 있으며 정원 밖으로는 나갈 수 없다.\n",
    "- 나이트는 특정한 위치에서 다음과 같은 2가지 경우로 이동할 수 있음.\n",
    "    1. 수평으로 두 칸 이동한 뒤에 수직으로 한 칸 이동하기\n",
    "    2. 수직으로 두 칸 이동한 뒤에 수평으로 한 칸 이동하기 \n",
    "- 이처럼 8 x 8 좌표 평면상에서 나이트의 위치가 주어졌을 때 나이트가 이동할 수 있는 경우의 수를 출력하는 프로그램을 작성하시오.\n",
    "- 이 때 왕실의 정원에서 행 위치를 표현할 때는 1부터 8로 표현하며, 열 위치를 표현할 때는 a부터 h로 표현한다."
   ]
  },
  {
   "cell_type": "markdown",
   "id": "through-citizen",
   "metadata": {},
   "source": [
    "## 입력조건\n",
    "- 첫째 줄에 8 x 8 좌표 평면상에서 현재 나이트가 위치한 곳의 좌표를 나타내는 두 문자로 구성된 문자열이 입력됨. 입력 문자는 a1처럼 열과 행으로 이뤄진다."
   ]
  },
  {
   "cell_type": "markdown",
   "id": "announced-flavor",
   "metadata": {},
   "source": [
    "## 출력조건\n",
    "- 첫째 줄에 나이트가 이동할 수 있는 경우의 수를 출력시오."
   ]
  },
  {
   "cell_type": "code",
   "execution_count": 40,
   "id": "general-sacrifice",
   "metadata": {},
   "outputs": [
    {
     "name": "stdin",
     "output_type": "stream",
     "text": [
      " a1\n"
     ]
    }
   ],
   "source": [
    "start_c, start_r = list(input())"
   ]
  },
  {
   "cell_type": "code",
   "execution_count": 50,
   "id": "welsh-functionality",
   "metadata": {},
   "outputs": [
    {
     "data": {
      "text/plain": [
       "2"
      ]
     },
     "execution_count": 50,
     "metadata": {},
     "output_type": "execute_result"
    }
   ],
   "source": [
    "rows = list('12345678')\n",
    "cols = list('abcdefgh')\n",
    "\n",
    "count = 0\n",
    "\n",
    "c_idx = cols.index(start_c)\n",
    "r_idx = rows.index(start_r)\n",
    "\n",
    "L_2 = c_idx - 2 > 0 \n",
    "L_1 = c_idx - 1 > 0\n",
    "R_2 = c_idx + 2 < 7\n",
    "R_1 = c_idx + 1 < 7\n",
    "U_2 = r_idx - 2 > 0\n",
    "U_1 = r_idx - 1 > 0\n",
    "D_2 = r_idx + 2 < 7\n",
    "D_1 = r_idx + 1 < 7\n",
    "\n",
    "sum([L_2&U_1, L_2&D_1, R_2&U_1, R_2&D_1, U_2&R_1, U_2&L_1, D_2&R_1, D_2&L_1])"
   ]
  },
  {
   "cell_type": "markdown",
   "id": "innocent-transcript",
   "metadata": {},
   "source": [
    " "
   ]
  },
  {
   "cell_type": "markdown",
   "id": "fallen-store",
   "metadata": {},
   "source": [
    "# 실전 문제 3. 게임 개발"
   ]
  },
  {
   "cell_type": "markdown",
   "id": "black-merit",
   "metadata": {},
   "source": [
    "## 문제\n",
    "- 현민이는 게임 캐릭터가 맵 안에서 움직이는 시스템을 개발 중.\n",
    "- 캐릭터가 있는 장소는 1 x 1 크기의 정사각형으로 이뤄진 N x M 크기의 직사각형으로 각각의 칸은 육지 또는 바다.\n",
    "- 캐릭터는 동서남북 중 한 곳을 바라봄.\n",
    "- 맵의 각 칸은 (A,B)로 나타낼 수 있고, A는 북쪽으로부터 떨어진 칸의 개수, B는 서쪽으로부터 떨어진 칸의 개수임.\n",
    "- 캐릭터는 상하좌우로 움직일 수 있고, 바다로 되어 있는 공간에는 갈 수 없음.\n",
    "- 캐릭터의 움직임을 설정하기 위해 정해 놓은 메뉴얼은 이러하다.\n",
    "    1. 현재 위치에서 현재 방향을 기준으로 왼쪽 방향(반시계 방향 90도 회전한 방향) 부터 차례대로 갈 곳을 정함.\n",
    "    2. 캐릭터의 바로 왼쪽 방향에 아직 가보지 않은 칸이 존재한다면, 왼쪽 방향으로 회전한 다음 왼족으로 한 칸을 전진한다. 왼쪽 방향에 가보지 않은 칸이 없다면, 왼쪽 방향으로 회전만 수행하고 1단계로 돌아감.\n",
    "    3. 만약 네 방향 모두 이미 가본 칸이거나 바다로 되어 있는 칸인 경우에는, 바라보는 방향을 유지한 채로 한 칸 뒤로 가고 1단계로 돌아감. 단, 이때 뒤쪽 방향이 바다인 칸이라 뒤로 갈 수 없는 경우에는 움직임을 멈춘다.\n",
    "- 현민이는 위 과정을 반복적으로 수행하면서 캐릭터의 움직임에 이상이 있는지 테스트하려고 한다. 메뉴얼에 따라 캐릭터를 이동시킨 뒤에, 캐릭터가 방문한 칸의 수를 출력하는 프로그램을 만드시오."
   ]
  },
  {
   "cell_type": "markdown",
   "id": "ecological-majority",
   "metadata": {},
   "source": [
    "## 입력 조건\n",
    "- 첫째 줄에 맵의 세로 크기 N과 가로 크기 M을 공백으로 구분하여 입력함. $(3 <= N, M <= 50)$\n",
    "- 둘째 줄에 게임 캐릭터가 있는 칸의 좌표 (A,B)와 바라보는 방향 d가 각각 서로 공백으로 구분하여 주어짐. 방향 d의 값으로는 다음과 같이 4가지가 존재.\n",
    "    - 0 : 북쪽\n",
    "    - 1 : 동쪽\n",
    "    - 2 : 남쪽\n",
    "    - 3 : 서쪽\n",
    "- 셋째 줄부터 맵이 육지인지 바다인지에 대한 정보가 주어진다. N개의 줄에 맵의 상태가 북쪽부터 남쪽 순서대로, 각 줄의 대이터는 서쪽부터 동쪽 순서대로 주어짐. 맵의 외곽은 항상 바다로 되어 있음.\n",
    "    - 0 : 육지\n",
    "    - 1 : 바다\n",
    "- 처음에 게임 캐릭터가 위치한 칸의 상태는 항상 육지이다."
   ]
  },
  {
   "cell_type": "markdown",
   "id": "headed-fabric",
   "metadata": {},
   "source": [
    "## 출력 조건\n",
    "- 첫재 줄에 이동을 마친 후 캐릭터가 방문한 칸의 수를 출력한다."
   ]
  },
  {
   "cell_type": "code",
   "execution_count": 43,
   "id": "generous-supplement",
   "metadata": {},
   "outputs": [
    {
     "name": "stdin",
     "output_type": "stream",
     "text": [
      " 4 4 \n",
      " 1 1 0\n",
      " 1 1 1 1\n",
      " 1 0 0 1\n",
      " 1 1 0 1\n",
      " 1 1 1 1\n"
     ]
    },
    {
     "name": "stdout",
     "output_type": "stream",
     "text": [
      "3\n"
     ]
    }
   ],
   "source": [
    "#####################\n",
    "#### 내가 푼 것 ####\n",
    "####################\n",
    "\n",
    "N, M = input().split()\n",
    "A, B, d = [int(x) for x in input().split()]   # A : 북으로부터 떨어진 수, B : 서로부터 떨어진 수 \n",
    "\n",
    "maps = [[x for x in input().split()] for _ in range(int(N))]\n",
    "\n",
    "moves = [(-1,0),(0,1),(1,0),(0,-1)]\n",
    "# 0 : 북\n",
    "# 1 : 동\n",
    "# 2 : 남\n",
    "# 3 : 서\n",
    "\n",
    "turn_count = 0    # 돈 횟수\n",
    "maps[A][B] = \"2\"  # 첫 자리는 방문했으므로 2로 지정 \n",
    "visit = 1         # 방문 횟수\n",
    "\n",
    "while True : \n",
    "    \n",
    "    d -= 1        # 왼쪽으로 방향 전환\n",
    "    \n",
    "    if d == -1 :  \n",
    "        d = 3\n",
    "        \n",
    "    # 임시로 좌표 수정\n",
    "    dA, dB = moves[d]   \n",
    "    nA = A + dA\n",
    "    nB = B + dB\n",
    "    \n",
    "    # 바다이거나 이미 간 지역이면 pass\n",
    "    if (maps[nA][nB] == '1') | (maps[nA][nB] == '2') :\n",
    "        turn_count += 1\n",
    "        \n",
    "    # 아직 가보지 않은 지역에 도착하면 '2' 로 바꿔줌\n",
    "    # 회전 횟수는 0으로 초기화\n",
    "    # 방문횟수(visit)는 1 추가\n",
    "    elif maps[nA][nB] == '0' :\n",
    "        maps[nA][nB] = '2'\n",
    "        A = nA\n",
    "        B = nB\n",
    "        turn_count = 0 \n",
    "        visit += 1\n",
    "        \n",
    "    # 한바퀴 돌았을 경우\n",
    "    if turn_count == 4 : \n",
    "        \n",
    "        # 바라본 방향에서 뒤로 가야하기 때문에 (-)\n",
    "        dA , dB = moves[d]\n",
    "        nA = A - dA\n",
    "        nB = B - dB\n",
    "        \n",
    "        # 뒤에 바다가 있으면 끝\n",
    "        if maps[nA][nB] == \"1\" :\n",
    "            break\n",
    "        \n",
    "        # 바다가 아니고 지나온 길이면 뒤로 돌아감 \n",
    "        # 회전 횟수 초기화 \n",
    "        else : \n",
    "            A = nA\n",
    "            B = nB\n",
    "            turn_count = 0\n",
    "\n",
    "print(visit)"
   ]
  },
  {
   "cell_type": "code",
   "execution_count": 40,
   "id": "hearing-democrat",
   "metadata": {},
   "outputs": [
    {
     "name": "stdin",
     "output_type": "stream",
     "text": [
      " 4 4 \n",
      " 1 1 0\n"
     ]
    }
   ],
   "source": [
    "### 책에서 푼 방법 활용하기 \n",
    "\n",
    "N, M = [int(x) for x in input().split()]\n",
    "A, B, d = [int(x) for x in input().split()]\n",
    "maps = [[x for x in input().split()] for _ in range(N)]\n",
    "\n",
    "moves = [(-1,0),(0,1),(1,0),(0,-1)]\n",
    "# 0 : 북\n",
    "# 1 : 동\n",
    "# 2 : 남\n",
    "# 3 : 서\n",
    "\n",
    "# 방향회전 함수 지정\n",
    "def turn_left() : \n",
    "    global d\n",
    "    d -= 1\n",
    "    if d == -1 :\n",
    "        d = 3\n",
    "\n",
    "visit = 1\n",
    "maps[A][B] = '2'\n",
    "turn_time = 0 \n",
    "\n",
    "while True : \n",
    "    \n",
    "    # 왼쪽으로 회전\n",
    "    turn_left()\n",
    "    \n",
    "    nA = A + moves[d][0]\n",
    "    nB = B + moves[d][1]\n",
    "    \n",
    "    if maps[nA][nB] == \"1\" | maps[nA][nB] == \"2\" :\n",
    "        turn_time += 1\n",
    "        pass\n",
    "    \n",
    "    elif maps[nA][nB] == \"0\"\n",
    "        maps[nA][nB] = \"2\"\n",
    "        turn_time = 0\n",
    "        visit += 1\n",
    "        \n",
    "    if turn_time == 4 :\n",
    "        \n",
    "        \n",
    "    "
   ]
  },
  {
   "cell_type": "code",
   "execution_count": null,
   "id": "absent-professor",
   "metadata": {},
   "outputs": [],
   "source": []
  }
 ],
 "metadata": {
  "kernelspec": {
   "display_name": "Python 3",
   "language": "python",
   "name": "python3"
  },
  "language_info": {
   "codemirror_mode": {
    "name": "ipython",
    "version": 3
   },
   "file_extension": ".py",
   "mimetype": "text/x-python",
   "name": "python",
   "nbconvert_exporter": "python",
   "pygments_lexer": "ipython3",
   "version": "3.8.10"
  }
 },
 "nbformat": 4,
 "nbformat_minor": 5
}
