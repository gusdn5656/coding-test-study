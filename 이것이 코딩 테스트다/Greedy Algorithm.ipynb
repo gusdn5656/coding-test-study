{
 "cells": [
  {
   "cell_type": "markdown",
   "id": "differential-warning",
   "metadata": {},
   "source": [
    "# [예제 3-1] 거스름돈"
   ]
  },
  {
   "cell_type": "markdown",
   "id": "lucky-daisy",
   "metadata": {},
   "source": [
    "당신은 음식점의 계산을 도와주는 점원이다. 카운터에는 거스름돈으로 사용할 500원, 100원, 50원, 10원짜리 동전이 무한히 존재한다고 가정한다. 손님에게 거슬러 줘야 할 돈이 N원일 때 거슬러 줘야 할 동전의 최소 개수를 구하라. 단, 거슬러 줘야할 돈 N은 항상 10의 배수이다."
   ]
  },
  {
   "cell_type": "code",
   "execution_count": null,
   "id": "encouraging-discussion",
   "metadata": {},
   "outputs": [],
   "source": [
    "# 내가 푼 코드\n",
    "\n",
    "N = int(input())\n",
    "\n",
    "n_500 = N//500\n",
    "N -= 500*n_500\n",
    "\n",
    "n_100 = N//100\n",
    "N -= 100*n_100\n",
    "\n",
    "n_50 = N//50\n",
    "N -= 50*n_50\n",
    "\n",
    "n_10 = N//10\n",
    "\n",
    "print(n_500 + n_100 + n_50 + n_10)"
   ]
  },
  {
   "cell_type": "code",
   "execution_count": 6,
   "id": "seasonal-freeware",
   "metadata": {},
   "outputs": [
    {
     "name": "stdin",
     "output_type": "stream",
     "text": [
      " 1260\n"
     ]
    },
    {
     "name": "stdout",
     "output_type": "stream",
     "text": [
      "6\n"
     ]
    }
   ],
   "source": [
    "# 책에서 푼 코드\n",
    "N = int(input())\n",
    "count = 0\n",
    "\n",
    "coins = [500,100,50,10]\n",
    "\n",
    "for coin in coins :\n",
    "    count += N//coin\n",
    "    N %= coin\n",
    "\n",
    "print(count)"
   ]
  },
  {
   "cell_type": "markdown",
   "id": "toxic-marathon",
   "metadata": {},
   "source": [
    " "
   ]
  },
  {
   "cell_type": "markdown",
   "id": "rising-looking",
   "metadata": {},
   "source": [
    "# 실전문제 2. 큰 수의 법칙"
   ]
  },
  {
   "cell_type": "markdown",
   "id": "finite-median",
   "metadata": {},
   "source": [
    "## 문제 \n",
    "- 동빈이의 큰 수의 법칙은 다양한 수로 이루어진 배열이 있을 때 주어진 수들을 M번 더하야 가장 큰 수를 반드는 법칙이다.\n",
    "- 단, 배열의 특정한 인덱스(번호)에 해당하는 수가 연속해서 K번을 초과하여 더해질 수 없는 것이 이 법칙의 특징이다.\n",
    "- 배열의 크기 N, 숫자가 더해지는 횟수 M, 그리고 K가 주어질 때 동빈이의 큰 수의 법칙에 따른 결과를 출력하시오."
   ]
  },
  {
   "cell_type": "markdown",
   "id": "behind-ceramic",
   "metadata": {},
   "source": [
    "## 입력 조건\n",
    "- 첫째 줄에 N ($ 2 <= N <= 1000$), M ($ 1 <= M <= 10000$), K ($ 1 <= K <= 10000$)의 자연수가 주어지며, 각 자연수는 공백으로 구분한다.\n",
    "- 둘째 줄에 N개의 자연수가 주어진다. 각 자연수는 공백으로 구분한다. 단, 각각의 자연수는 1 이상 10000 이하의 수로 주어진다.\n",
    "- 입력으로 주어지는 K는 항상 M보다 작거나 같다."
   ]
  },
  {
   "cell_type": "markdown",
   "id": "welcome-aircraft",
   "metadata": {},
   "source": [
    "## 출력 조건\n",
    "- 첫째 줄에 동빈이의 큰 수의 법칙에 따라 더해진 답을 출력한다."
   ]
  },
  {
   "cell_type": "code",
   "execution_count": 9,
   "id": "sized-medicine",
   "metadata": {},
   "outputs": [
    {
     "name": "stdin",
     "output_type": "stream",
     "text": [
      " 1000 500 30\n"
     ]
    }
   ],
   "source": [
    "N, M, K = map(int, input().split(\" \"))"
   ]
  },
  {
   "cell_type": "code",
   "execution_count": 19,
   "id": "liquid-membrane",
   "metadata": {},
   "outputs": [
    {
     "name": "stdin",
     "output_type": "stream",
     "text": [
      " 5 8 3\n",
      " 2 4 5 4 6\n"
     ]
    }
   ],
   "source": [
    "N, M, K = map(int, input().split(\" \"))\n",
    "nums = list(map(int, input().split(\" \")))\n",
    "nums = sorted(nums, reverse = True)\n",
    "\n",
    "if nums[0] == nums[1] :\n",
    "    SUM = nums[0]*M\n",
    "\n",
    "else :\n",
    "    SUM = nums[0]*((M//K)*K) + nums[1]*(M%K)"
   ]
  },
  {
   "cell_type": "code",
   "execution_count": 20,
   "id": "allied-split",
   "metadata": {},
   "outputs": [
    {
     "data": {
      "text/plain": [
       "46"
      ]
     },
     "execution_count": 20,
     "metadata": {},
     "output_type": "execute_result"
    }
   ],
   "source": [
    "SUM"
   ]
  },
  {
   "cell_type": "markdown",
   "id": "gothic-delhi",
   "metadata": {},
   "source": [
    " "
   ]
  },
  {
   "cell_type": "markdown",
   "id": "adjacent-evaluation",
   "metadata": {},
   "source": [
    "# 실전문제 3. 숫자 카드 게임"
   ]
  },
  {
   "cell_type": "markdown",
   "id": "alternate-airplane",
   "metadata": {},
   "source": [
    "## 문제\n",
    "- 숫자 카드 게임은 여러 개의 숫자 카드 중에서 가장 높은 숫자가 쓰인 카드 한 장을 뽑는 게임이다. 단, 게임의 룰을 지키며 카드를 뽑아야 하고 룰은 다음과 같다.\n",
    "    - 숫자가 쓰인 카드들이 N X M 형태로 놓여 있다. 이때 N은 행의 개수를 의미하며, M은 열의 개수를 의미한다.\n",
    "    - 먼저 뽑고자 하는 카드가 포함되어 있는 행을 선택한다.\n",
    "    - 그 다음 선택된 행에 포함된 카드들 중 가장 숫자가 낮은 카드를 뽑아야 한다.\n",
    "    - 따라서 처음에 카드를 골라낼 행을 선택할 때, 이후에 해당 행에서 가장 숫자가 낮은 카드를 뽑을 것을 고려하여 최종적으로 가장 높은 숫자의 카드를 뽑을 수 있도록 전략을 세워야 한다.\n",
    "- 카드들이 N X M 형태로 놓여 있을 때, 게임의 룰에 맞게 카드를 뽑는 프로그램을 만드시오."
   ]
  },
  {
   "cell_type": "markdown",
   "id": "plastic-preliminary",
   "metadata": {},
   "source": [
    "## 입력 조건\n",
    "- 첫째 줄에 숫자 카드들이 놓인 행의 개수 N과 열의 개수 M이 공백을 기준으로 하여 각각 자연수로 주어진다. ($ 1 <= N, M <= 100 $)\n",
    "- 둘째 줄 부터 N개의 줄에 걸쳐 각 카드에 적힌 숫자가 주어진다. 각 숫자는 1 이상 10,000 이하의 자연수이다."
   ]
  },
  {
   "cell_type": "markdown",
   "id": "composed-vancouver",
   "metadata": {},
   "source": [
    "## 출력 조건\n",
    "- 첫째 줄에 게임의 룰에 맞게 선택한 카드에 적힌 숫자를 출력한다."
   ]
  },
  {
   "cell_type": "code",
   "execution_count": 59,
   "id": "innocent-designation",
   "metadata": {},
   "outputs": [
    {
     "data": {
      "text/plain": [
       "2"
      ]
     },
     "execution_count": 59,
     "metadata": {},
     "output_type": "execute_result"
    }
   ],
   "source": [
    "N, M = map(int, input().split())\n",
    "cards = [[int(x) for x in input().split()] for _ in range(N) ]\n",
    "\n",
    "mins = list(map(min,cards))\n",
    "row_idx = mins.index(max(mins))\n",
    "max(cards[row_idx])"
   ]
  },
  {
   "cell_type": "markdown",
   "id": "stuck-trinity",
   "metadata": {},
   "source": [
    " "
   ]
  },
  {
   "cell_type": "markdown",
   "id": "special-array",
   "metadata": {},
   "source": [
    "# 실전 문제 4. 1이 될 때 까지"
   ]
  },
  {
   "cell_type": "markdown",
   "id": "portable-partner",
   "metadata": {},
   "source": [
    "## 문제\n",
    "- 어떠한 수 N이 1이 될 때까지 다음의 두 과정 중 하나를 반복적으로 선택하여 수행하려고 한다. 단, 두 번째 연산은 N이 K로 나누어 떨어질때만 선택할 수 있다.\n",
    "      1. N에서 1을 뺀다.\n",
    "      2. N을 K로 나눈다.\n",
    "- N과 K가 주어질 때 N이 1이 될 떄까지 1번 혹은 2번의 과정을 수행해야 하는 최소 횟수를 구하는 프로그램을 작성하시오."
   ]
  },
  {
   "cell_type": "markdown",
   "id": "shaped-valve",
   "metadata": {},
   "source": [
    "## 입력 조건\n",
    "- 첫째 줄에 N($ 2 <= N <= 100000$)과 K($ 2 <= K <= 100000$)가 공백으로 구분되며 각각 자연수로 주어진다. 이 때 입력으로 주어지는 N은 항상 K보다 크거나 같다."
   ]
  },
  {
   "cell_type": "markdown",
   "id": "sharing-cassette",
   "metadata": {},
   "source": [
    "## 출력 조건\n",
    "- 첫째 줄에 N이 1이 될 때까지 1번 혹은 2번의 과정을 수행해야 하는 횟수의 최솟값을 출력한다."
   ]
  },
  {
   "cell_type": "code",
   "execution_count": 72,
   "id": "chemical-bikini",
   "metadata": {},
   "outputs": [
    {
     "name": "stdin",
     "output_type": "stream",
     "text": [
      " 25 5\n"
     ]
    },
    {
     "name": "stdout",
     "output_type": "stream",
     "text": [
      "2\n"
     ]
    }
   ],
   "source": [
    "N, K = map(int, input().split())\n",
    "\n",
    "count = 0\n",
    "\n",
    "while N > 1 :\n",
    "    \n",
    "    if (N%K == 0) :\n",
    "        N = N//K\n",
    "    \n",
    "    else :\n",
    "        N -= 1\n",
    "    \n",
    "    count += 1\n",
    "    \n",
    "    \n",
    "print(count)"
   ]
  },
  {
   "cell_type": "markdown",
   "id": "rental-executive",
   "metadata": {},
   "source": [
    " "
   ]
  },
  {
   "cell_type": "markdown",
   "id": "lesser-kitty",
   "metadata": {},
   "source": [
    "# Q.01 모험가 길드"
   ]
  },
  {
   "cell_type": "markdown",
   "id": "bacterial-bowling",
   "metadata": {},
   "source": [
    "## 문제\n",
    "- 한 마을에 모험가가 N명이 있음.\n",
    "- 모험가 길드에서는 N명의 모험가를 대상으로 '공포도'를 측정함 ('공포도'가 높은 모험가는 쉽게 공포를 느껴 위험 상황에서 제대로 대처할 능력이 떨어짐)\n",
    "- 모험가 길드장인 동빈이는 모험가 그룹을 안전하게 구성하고자 공포도가 X인 모험가는 반드시 X명 이상으로 구성한 모험가 그룹에 참여해야 여행을 떠날 수 있도록 규정\n",
    "- 동빈이는 최대 몇 개의 모험가 그룹을 만들 수 있는지 궁금\n",
    "- 동빈이를 위해 N명의 모험가에 대한 정보가 주어졌을 때, 여행을 떠날 수 있는 그룹 수의 최댓값을 구하는 프로그램을 작성하세요."
   ]
  },
  {
   "cell_type": "markdown",
   "id": "operational-polish",
   "metadata": {},
   "source": [
    "## 입력조건\n",
    "- 첫째 줄에 모험가의 수 N이 주어집니다. $(1 <= N <= 100,000)$\n",
    "- 둘째 줄에 각 모험가의 공포도의 값을 N 이하의 자연수로 주어지며, 각 자연수는 공백으로 구분합니다."
   ]
  },
  {
   "cell_type": "markdown",
   "id": "stopped-default",
   "metadata": {},
   "source": [
    "## 출력조건\n",
    "- 여행을 떠날 수 있는 그룹 수의 최댓값을 출력합니다."
   ]
  },
  {
   "cell_type": "code",
   "execution_count": 66,
   "id": "serial-radar",
   "metadata": {},
   "outputs": [
    {
     "name": "stdin",
     "output_type": "stream",
     "text": [
      " 5\n",
      " 2 3 1 2 2\n"
     ]
    },
    {
     "data": {
      "text/plain": [
       "2.0"
      ]
     },
     "execution_count": 66,
     "metadata": {},
     "output_type": "execute_result"
    }
   ],
   "source": [
    "N = int(input())\n",
    "adventurer = list(map(int, input().split(\" \")))\n",
    "\n",
    "uniq = list(set(adventurer))\n",
    "\n",
    "groups = 0\n",
    "remain = 0\n",
    "\n",
    "for i in uniq :\n",
    "    \n",
    "    if (adventurer.count(i)+remain)%i == 0 :\n",
    "        groups += (adventurer.count(i)+remain)/i\n",
    "        remain = 0\n",
    "        \n",
    "    else :\n",
    "        groups += adventurer.count(i)//i\n",
    "        remain += adventurer.count(i)%i\n",
    "    \n",
    "groups\n"
   ]
  },
  {
   "cell_type": "code",
   "execution_count": 60,
   "id": "municipal-lincoln",
   "metadata": {},
   "outputs": [
    {
     "data": {
      "text/plain": [
       "[1, 1, 1, 2, 2, 3, 3, 4, 5, 6]"
      ]
     },
     "execution_count": 60,
     "metadata": {},
     "output_type": "execute_result"
    }
   ],
   "source": [
    "sorted(adventurer)"
   ]
  },
  {
   "cell_type": "markdown",
   "id": "agricultural-apple",
   "metadata": {},
   "source": [
    " "
   ]
  },
  {
   "cell_type": "markdown",
   "id": "synthetic-algorithm",
   "metadata": {},
   "source": [
    "# Q.02 곱하기 혹은 더하기 (다시풀기)"
   ]
  },
  {
   "cell_type": "markdown",
   "id": "center-collectible",
   "metadata": {},
   "source": [
    "## 문제\n",
    "- 각 자리가 숫자 (0부터 0_로만 이루어진 문자열 S가 주어짐\n",
    "- 왼쪽부터 오른쪽으로 하나씩 모든 숫자를 확인하며 숫자 사이에 'X' 혹은 '+'연산자를 넣어 결과적으로 만들어질 수 있는 가장 큰 수를 구하는 프로그램을 작성하세요.\n",
    "- 단, +보다 X를 먼저 계산하는 일반적인 방식과는 달리, 모든 연산은 왼쪽에서부터 순서대로 이루어진다고 가정."
   ]
  },
  {
   "cell_type": "markdown",
   "id": "relative-courtesy",
   "metadata": {},
   "source": [
    "## 입력조건\n",
    "- 첫째 줄에 여러 개의 숫자로 구성된 하나의 문자열 S가 주어집니다. $(1 <= S의 길이 <= 20)$"
   ]
  },
  {
   "cell_type": "markdown",
   "id": "stunning-beauty",
   "metadata": {},
   "source": [
    "## 출력조건\n",
    "- 첫째 줄에 만들어질 수 있는 가장 큰 수를 출력합니다."
   ]
  },
  {
   "cell_type": "code",
   "execution_count": 52,
   "id": "backed-trout",
   "metadata": {},
   "outputs": [
    {
     "name": "stdin",
     "output_type": "stream",
     "text": [
      " 567\n"
     ]
    },
    {
     "data": {
      "text/plain": [
       "210"
      ]
     },
     "execution_count": 52,
     "metadata": {},
     "output_type": "execute_result"
    }
   ],
   "source": [
    "## 원본 코드 (틀림)\n",
    "S = input()\n",
    "num = 1\n",
    "\n",
    "for i in S :\n",
    "    \n",
    "    i = int(i)\n",
    "    \n",
    "    if i == 0 :\n",
    "        num += i\n",
    "    \n",
    "    else : \n",
    "        num *= i\n",
    "num"
   ]
  },
  {
   "cell_type": "code",
   "execution_count": 57,
   "id": "meaning-morocco",
   "metadata": {},
   "outputs": [
    {
     "name": "stdin",
     "output_type": "stream",
     "text": [
      " 091341023841230498\n"
     ]
    },
    {
     "data": {
      "text/plain": [
       "40146624"
      ]
     },
     "execution_count": 57,
     "metadata": {},
     "output_type": "execute_result"
    }
   ],
   "source": [
    "## 수정한 코드\n",
    "## 원본 코드\n",
    "S = input()\n",
    "num = 0\n",
    "\n",
    "for i in S :\n",
    "    \n",
    "    i = int(i)\n",
    "    \n",
    "    if num == 0 :\n",
    "        num += i\n",
    "    \n",
    "    elif (i == 0) | (i == 1) :\n",
    "        num += i\n",
    "    \n",
    "    else : \n",
    "        num *= i\n",
    "num"
   ]
  },
  {
   "cell_type": "markdown",
   "id": "wrong-diagnosis",
   "metadata": {},
   "source": [
    " "
   ]
  },
  {
   "cell_type": "markdown",
   "id": "amino-cover",
   "metadata": {},
   "source": [
    "# Q.03 문자열 뒤집기"
   ]
  },
  {
   "cell_type": "markdown",
   "id": "talented-satin",
   "metadata": {},
   "source": [
    "## 문제\n",
    "- 다솜이는 0과 1로만 이루어진 문자열 S를 가지고 있으며 이 문자열 S에 있는 모든 숫자를 전부 같게 만들려고 함.\n",
    "- 다솜이가 할 수 있는 행동은 S에서 연속된 하나 이상의 숫자를 잡고 모두 뒤집는 것.\n",
    "- 뒤집는 것은 1을 0으로, 0을 1로 바꾸는 것을 의미.\n",
    "- 문자열 S가 주어졌을 때, 다솜이가 해야 하는 행동의 최소 횟수를 출력하세요."
   ]
  },
  {
   "cell_type": "markdown",
   "id": "modular-console",
   "metadata": {},
   "source": [
    "## 입력 조건\n",
    "- 첫째 줄에 0과 1로만 이루어진 문자열 S가 주어집니다. S의 길이는 100만보다 작습니다."
   ]
  },
  {
   "cell_type": "markdown",
   "id": "foster-notion",
   "metadata": {},
   "source": [
    "## 출력 조건\n",
    "- 첫째 줄에 다솜이가 해야 하는 행동의 최소 횟수를 출력합니다."
   ]
  },
  {
   "cell_type": "code",
   "execution_count": 86,
   "id": "amino-thing",
   "metadata": {},
   "outputs": [
    {
     "name": "stdin",
     "output_type": "stream",
     "text": [
      " 11101000100010010\n"
     ]
    },
    {
     "data": {
      "text/plain": [
       "5"
      ]
     },
     "execution_count": 86,
     "metadata": {},
     "output_type": "execute_result"
    }
   ],
   "source": [
    "S = list(input())\n",
    "\n",
    "disconnect = 0 \n",
    "first = S[0]\n",
    "\n",
    "for i in range(1,len(S)) :\n",
    "    \n",
    "    second = S[i]\n",
    "    \n",
    "    if first != second :\n",
    "        disconnect += 1\n",
    "    \n",
    "    first = second \n",
    "\n",
    "first = S[0]\n",
    "last = S[len(S)-1]\n",
    "\n",
    "if first == last :\n",
    "    ans = disconnect/2\n",
    "    \n",
    "else :\n",
    "    ans = (disconnect+1)/2\n",
    "    \n",
    "int(ans)"
   ]
  }
 ],
 "metadata": {
  "kernelspec": {
   "display_name": "Python 3",
   "language": "python",
   "name": "python3"
  },
  "language_info": {
   "codemirror_mode": {
    "name": "ipython",
    "version": 3
   },
   "file_extension": ".py",
   "mimetype": "text/x-python",
   "name": "python",
   "nbconvert_exporter": "python",
   "pygments_lexer": "ipython3",
   "version": "3.8.10"
  }
 },
 "nbformat": 4,
 "nbformat_minor": 5
}
