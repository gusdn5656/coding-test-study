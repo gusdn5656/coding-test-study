{
 "cells": [
  {
   "cell_type": "markdown",
   "id": "structural-worthy",
   "metadata": {},
   "source": [
    "# [예제 3-1] 거스름돈"
   ]
  },
  {
   "cell_type": "markdown",
   "id": "together-calcium",
   "metadata": {},
   "source": [
    "당신은 음식점의 계산을 도와주는 점원이다. 카운터에는 거스름돈으로 사용할 500원, 100원, 50원, 10원짜리 동전이 무한히 존재한다고 가정한다. 손님에게 거슬러 줘야 할 돈이 N원일 때 거슬러 줘야 할 동전의 최소 개수를 구하라. 단, 거슬러 줘야할 돈 N은 항상 10의 배수이다."
   ]
  },
  {
   "cell_type": "code",
   "execution_count": null,
   "id": "electronic-holder",
   "metadata": {},
   "outputs": [],
   "source": [
    "# 내가 푼 코드\n",
    "\n",
    "N = int(input())\n",
    "\n",
    "n_500 = N//500\n",
    "N -= 500*n_500\n",
    "\n",
    "n_100 = N//100\n",
    "N -= 100*n_100\n",
    "\n",
    "n_50 = N//50\n",
    "N -= 50*n_50\n",
    "\n",
    "n_10 = N//10\n",
    "\n",
    "print(n_500 + n_100 + n_50 + n_10)"
   ]
  },
  {
   "cell_type": "code",
   "execution_count": 6,
   "id": "mexican-westminster",
   "metadata": {},
   "outputs": [
    {
     "name": "stdin",
     "output_type": "stream",
     "text": [
      " 1260\n"
     ]
    },
    {
     "name": "stdout",
     "output_type": "stream",
     "text": [
      "6\n"
     ]
    }
   ],
   "source": [
    "# 책에서 푼 코드\n",
    "N = int(input())\n",
    "count = 0\n",
    "\n",
    "coins = [500,100,50,10]\n",
    "\n",
    "for coin in coins :\n",
    "    count += N//coin\n",
    "    N %= coin\n",
    "\n",
    "print(count)"
   ]
  },
  {
   "cell_type": "markdown",
   "id": "arranged-simulation",
   "metadata": {},
   "source": [
    " "
   ]
  },
  {
   "cell_type": "markdown",
   "id": "subsequent-valuable",
   "metadata": {},
   "source": [
    "# 실전문제 2. 큰 수의 법칙"
   ]
  },
  {
   "cell_type": "markdown",
   "id": "polish-weight",
   "metadata": {},
   "source": [
    "## 문제 \n",
    "- 동빈이의 큰 수의 법칙은 다양한 수로 이루어진 배열이 있을 때 주어진 수들을 M번 더하야 가장 큰 수를 반드는 법칙이다.\n",
    "- 단, 배열의 특정한 인덱스(번호)에 해당하는 수가 연속해서 K번을 초과하여 더해질 수 없는 것이 이 법칙의 특징이다.\n",
    "- 배열의 크기 N, 숫자가 더해지는 횟수 M, 그리고 K가 주어질 때 동빈이의 큰 수의 법칙에 따른 결과를 출력하시오."
   ]
  },
  {
   "cell_type": "markdown",
   "id": "regular-price",
   "metadata": {},
   "source": [
    "## 입력 조건\n",
    "- 첫째 줄에 N ($ 2 <= N <= 1000$), M ($ 1 <= M <= 10000$), K ($ 1 <= K <= 10000$)의 자연수가 주어지며, 각 자연수는 공백으로 구분한다.\n",
    "- 둘째 줄에 N개의 자연수가 주어진다. 각 자연수는 공백으로 구분한다. 단, 각각의 자연수는 1 이상 10000 이하의 수로 주어진다.\n",
    "- 입력으로 주어지는 K는 항상 M보다 작거나 같다."
   ]
  },
  {
   "cell_type": "markdown",
   "id": "variable-deputy",
   "metadata": {},
   "source": [
    "## 출력 조건\n",
    "- 첫째 줄에 동빈이의 큰 수의 법칙에 따라 더해진 답을 출력한다."
   ]
  },
  {
   "cell_type": "code",
   "execution_count": 9,
   "id": "featured-jefferson",
   "metadata": {},
   "outputs": [
    {
     "name": "stdin",
     "output_type": "stream",
     "text": [
      " 1000 500 30\n"
     ]
    }
   ],
   "source": [
    "N, M, K = map(int, input().split(\" \"))"
   ]
  },
  {
   "cell_type": "code",
   "execution_count": 19,
   "id": "accessible-block",
   "metadata": {},
   "outputs": [
    {
     "name": "stdin",
     "output_type": "stream",
     "text": [
      " 5 8 3\n",
      " 2 4 5 4 6\n"
     ]
    }
   ],
   "source": [
    "N, M, K = map(int, input().split(\" \"))\n",
    "nums = list(map(int, input().split(\" \")))\n",
    "nums = sorted(nums, reverse = True)\n",
    "\n",
    "if nums[0] == nums[1] :\n",
    "    SUM = nums[0]*M\n",
    "\n",
    "else :\n",
    "    SUM = nums[0]*((M//K)*K) + nums[1]*(M%K)"
   ]
  },
  {
   "cell_type": "code",
   "execution_count": 20,
   "id": "established-cabinet",
   "metadata": {},
   "outputs": [
    {
     "data": {
      "text/plain": [
       "46"
      ]
     },
     "execution_count": 20,
     "metadata": {},
     "output_type": "execute_result"
    }
   ],
   "source": [
    "SUM"
   ]
  },
  {
   "cell_type": "markdown",
   "id": "floating-screening",
   "metadata": {},
   "source": [
    " "
   ]
  },
  {
   "cell_type": "markdown",
   "id": "wooden-founder",
   "metadata": {},
   "source": [
    "# 실전문제 3. 숫자 카드 게임"
   ]
  },
  {
   "cell_type": "markdown",
   "id": "diagnostic-motorcycle",
   "metadata": {},
   "source": [
    "## 문제\n",
    "- 숫자 카드 게임은 여러 개의 숫자 카드 중에서 가장 높은 숫자가 쓰인 카드 한 장을 뽑는 게임이다. 단, 게임의 룰을 지키며 카드를 뽑아야 하고 룰은 다음과 같다.\n",
    "    - 숫자가 쓰인 카드들이 N X M 형태로 놓여 있다. 이때 N은 행의 개수를 의미하며, M은 열의 개수를 의미한다.\n",
    "    - 먼저 뽑고자 하는 카드가 포함되어 있는 행을 선택한다.\n",
    "    - 그 다음 선택된 행에 포함된 카드들 중 가장 숫자가 낮은 카드를 뽑아야 한다.\n",
    "    - 따라서 처음에 카드를 골라낼 행을 선택할 때, 이후에 해당 행에서 가장 숫자가 낮은 카드를 뽑을 것을 고려하여 최종적으로 가장 높은 숫자의 카드를 뽑을 수 있도록 전략을 세워야 한다.\n",
    "- 카드들이 N X M 형태로 놓여 있을 때, 게임의 룰에 맞게 카드를 뽑는 프로그램을 만드시오."
   ]
  },
  {
   "cell_type": "markdown",
   "id": "secure-trademark",
   "metadata": {},
   "source": [
    "## 입력 조건\n",
    "- 첫째 줄에 숫자 카드들이 놓인 행의 개수 N과 열의 개수 M이 공백을 기준으로 하여 각각 자연수로 주어진다. ($ 1 <= N, M <= 100 $)\n",
    "- 둘째 줄 부터 N개의 줄에 걸쳐 각 카드에 적힌 숫자가 주어진다. 각 숫자는 1 이상 10,000 이하의 자연수이다."
   ]
  },
  {
   "cell_type": "markdown",
   "id": "sealed-france",
   "metadata": {},
   "source": [
    "## 출력 조건\n",
    "- 첫째 줄에 게임의 룰에 맞게 선택한 카드에 적힌 숫자를 출력한다."
   ]
  },
  {
   "cell_type": "code",
   "execution_count": 59,
   "id": "bridal-distinction",
   "metadata": {},
   "outputs": [
    {
     "data": {
      "text/plain": [
       "2"
      ]
     },
     "execution_count": 59,
     "metadata": {},
     "output_type": "execute_result"
    }
   ],
   "source": [
    "N, M = map(int, input().split())\n",
    "cards = [[int(x) for x in input().split()] for _ in range(N) ]\n",
    "\n",
    "mins = list(map(min,cards))\n",
    "row_idx = mins.index(max(mins))\n",
    "max(cards[row_idx])"
   ]
  },
  {
   "cell_type": "markdown",
   "id": "increased-allowance",
   "metadata": {},
   "source": [
    " "
   ]
  },
  {
   "cell_type": "markdown",
   "id": "australian-kennedy",
   "metadata": {},
   "source": [
    "# 실전 문제 4. 1이 될 때 까지"
   ]
  },
  {
   "cell_type": "markdown",
   "id": "recognized-beijing",
   "metadata": {},
   "source": [
    "## 문제\n",
    "- 어떠한 수 N이 1이 될 때까지 다음의 두 과정 중 하나를 반복적으로 선택하여 수행하려고 한다. 단, 두 번째 연산은 N이 K로 나누어 떨어질때만 선택할 수 있다.\n",
    "      1. N에서 1을 뺀다.\n",
    "      2. N을 K로 나눈다.\n",
    "- N과 K가 주어질 때 N이 1이 될 떄까지 1번 혹은 2번의 과정을 수행해야 하는 최소 횟수를 구하는 프로그램을 작성하시오."
   ]
  },
  {
   "cell_type": "markdown",
   "id": "handmade-advertiser",
   "metadata": {},
   "source": [
    "## 입력 조건\n",
    "- 첫째 줄에 N($ 2 <= N <= 100000$)과 K($ 2 <= K <= 100000$)가 공백으로 구분되며 각각 자연수로 주어진다. 이 때 입력으로 주어지는 N은 항상 K보다 크거나 같다."
   ]
  },
  {
   "cell_type": "markdown",
   "id": "surface-president",
   "metadata": {},
   "source": [
    "## 출력 조건\n",
    "- 첫째 줄에 N이 1이 될 때까지 1번 혹은 2번의 과정을 수행해야 하는 횟수의 최솟값을 출력한다."
   ]
  },
  {
   "cell_type": "code",
   "execution_count": 72,
   "id": "hundred-tampa",
   "metadata": {},
   "outputs": [
    {
     "name": "stdin",
     "output_type": "stream",
     "text": [
      " 25 5\n"
     ]
    },
    {
     "name": "stdout",
     "output_type": "stream",
     "text": [
      "2\n"
     ]
    }
   ],
   "source": [
    "N, K = map(int, input().split())\n",
    "\n",
    "count = 0\n",
    "\n",
    "while N > 1 :\n",
    "    \n",
    "    if (N%K == 0) :\n",
    "        N = N//K\n",
    "    \n",
    "    else :\n",
    "        N -= 1\n",
    "    \n",
    "    count += 1\n",
    "    \n",
    "    \n",
    "print(count)"
   ]
  },
  {
   "cell_type": "markdown",
   "id": "surface-croatia",
   "metadata": {},
   "source": [
    " "
   ]
  },
  {
   "cell_type": "markdown",
   "id": "eight-aircraft",
   "metadata": {},
   "source": [
    "# Q.01 모험가 길드"
   ]
  },
  {
   "cell_type": "markdown",
   "id": "absent-leeds",
   "metadata": {},
   "source": [
    "## 문제\n",
    "- 한 마을에 모험가가 N명이 있음.\n",
    "- 모험가 길드에서는 N명의 모험가를 대상으로 '공포도'를 측정함 ('공포도'가 높은 모험가는 쉽게 공포를 느껴 위험 상황에서 제대로 대처할 능력이 떨어짐)\n",
    "- 모험가 길드장인 동빈이는 모험가 그룹을 안전하게 구성하고자 공포도가 X인 모험가는 반드시 X명 이상으로 구성한 모험가 그룹에 참여해야 여행을 떠날 수 있도록 규정\n",
    "- 동빈이는 최대 몇 개의 모험가 그룹을 만들 수 있는지 궁금\n",
    "- 동빈이를 위해 N명의 모험가에 대한 정보가 주어졌을 때, 여행을 떠날 수 있는 그룹 수의 최댓값을 구하는 프로그램을 작성하세요."
   ]
  },
  {
   "cell_type": "markdown",
   "id": "terminal-instrumentation",
   "metadata": {},
   "source": [
    "## 입력조건\n",
    "- 첫째 줄에 모험가의 수 N이 주어집니다. $(1 <= N <= 100,000)$\n",
    "- 둘째 줄에 각 모험가의 공포도의 값을 N 이하의 자연수로 주어지며, 각 자연수는 공백으로 구분합니다."
   ]
  },
  {
   "cell_type": "markdown",
   "id": "controversial-duplicate",
   "metadata": {},
   "source": [
    "## 출력조건\n",
    "- 여행을 떠날 수 있는 그룹 수의 최댓값을 출력합니다."
   ]
  },
  {
   "cell_type": "code",
   "execution_count": 66,
   "id": "piano-static",
   "metadata": {},
   "outputs": [
    {
     "name": "stdin",
     "output_type": "stream",
     "text": [
      " 5\n",
      " 2 3 1 2 2\n"
     ]
    },
    {
     "data": {
      "text/plain": [
       "2.0"
      ]
     },
     "execution_count": 66,
     "metadata": {},
     "output_type": "execute_result"
    }
   ],
   "source": [
    "N = int(input())\n",
    "adventurer = list(map(int, input().split(\" \")))\n",
    "\n",
    "uniq = list(set(adventurer))\n",
    "\n",
    "groups = 0\n",
    "remain = 0\n",
    "\n",
    "for i in uniq :\n",
    "    \n",
    "    if (adventurer.count(i)+remain)%i == 0 :\n",
    "        groups += (adventurer.count(i)+remain)/i\n",
    "        remain = 0\n",
    "        \n",
    "    else :\n",
    "        groups += adventurer.count(i)//i\n",
    "        remain += adventurer.count(i)%i\n",
    "    \n",
    "groups\n"
   ]
  },
  {
   "cell_type": "code",
   "execution_count": 60,
   "id": "unexpected-finding",
   "metadata": {},
   "outputs": [
    {
     "data": {
      "text/plain": [
       "[1, 1, 1, 2, 2, 3, 3, 4, 5, 6]"
      ]
     },
     "execution_count": 60,
     "metadata": {},
     "output_type": "execute_result"
    }
   ],
   "source": [
    "sorted(adventurer)"
   ]
  },
  {
   "cell_type": "markdown",
   "id": "attractive-criticism",
   "metadata": {},
   "source": [
    " "
   ]
  },
  {
   "cell_type": "markdown",
   "id": "sealed-treasurer",
   "metadata": {},
   "source": [
    "# Q.02 곱하기 혹은 더하기 (다시풀기)"
   ]
  },
  {
   "cell_type": "markdown",
   "id": "quick-bunch",
   "metadata": {},
   "source": [
    "## 문제\n",
    "- 각 자리가 숫자 (0부터 0_로만 이루어진 문자열 S가 주어짐\n",
    "- 왼쪽부터 오른쪽으로 하나씩 모든 숫자를 확인하며 숫자 사이에 'X' 혹은 '+'연산자를 넣어 결과적으로 만들어질 수 있는 가장 큰 수를 구하는 프로그램을 작성하세요.\n",
    "- 단, +보다 X를 먼저 계산하는 일반적인 방식과는 달리, 모든 연산은 왼쪽에서부터 순서대로 이루어진다고 가정."
   ]
  },
  {
   "cell_type": "markdown",
   "id": "impressive-finnish",
   "metadata": {},
   "source": [
    "## 입력조건\n",
    "- 첫째 줄에 여러 개의 숫자로 구성된 하나의 문자열 S가 주어집니다. $(1 <= S의 길이 <= 20)$"
   ]
  },
  {
   "cell_type": "markdown",
   "id": "adequate-alberta",
   "metadata": {},
   "source": [
    "## 출력조건\n",
    "- 첫째 줄에 만들어질 수 있는 가장 큰 수를 출력합니다."
   ]
  },
  {
   "cell_type": "code",
   "execution_count": 52,
   "id": "antique-friend",
   "metadata": {},
   "outputs": [
    {
     "name": "stdin",
     "output_type": "stream",
     "text": [
      " 567\n"
     ]
    },
    {
     "data": {
      "text/plain": [
       "210"
      ]
     },
     "execution_count": 52,
     "metadata": {},
     "output_type": "execute_result"
    }
   ],
   "source": [
    "## 원본 코드 (틀림)\n",
    "S = input()\n",
    "num = 1\n",
    "\n",
    "for i in S :\n",
    "    \n",
    "    i = int(i)\n",
    "    \n",
    "    if i == 0 :\n",
    "        num += i\n",
    "    \n",
    "    else : \n",
    "        num *= i\n",
    "num"
   ]
  },
  {
   "cell_type": "code",
   "execution_count": 57,
   "id": "published-bunny",
   "metadata": {},
   "outputs": [
    {
     "name": "stdin",
     "output_type": "stream",
     "text": [
      " 091341023841230498\n"
     ]
    },
    {
     "data": {
      "text/plain": [
       "40146624"
      ]
     },
     "execution_count": 57,
     "metadata": {},
     "output_type": "execute_result"
    }
   ],
   "source": [
    "## 수정한 코드\n",
    "## 원본 코드\n",
    "S = input()\n",
    "num = 0\n",
    "\n",
    "for i in S :\n",
    "    \n",
    "    i = int(i)\n",
    "    \n",
    "    if num == 0 :\n",
    "        num += i\n",
    "    \n",
    "    elif (i == 0) | (i == 1) :\n",
    "        num += i\n",
    "    \n",
    "    else : \n",
    "        num *= i\n",
    "num"
   ]
  },
  {
   "cell_type": "markdown",
   "id": "common-duncan",
   "metadata": {},
   "source": [
    " "
   ]
  },
  {
   "cell_type": "markdown",
   "id": "exterior-chuck",
   "metadata": {},
   "source": [
    "# Q.03 문자열 뒤집기"
   ]
  },
  {
   "cell_type": "markdown",
   "id": "forced-gambling",
   "metadata": {},
   "source": [
    "## 문제\n",
    "- 다솜이는 0과 1로만 이루어진 문자열 S를 가지고 있으며 이 문자열 S에 있는 모든 숫자를 전부 같게 만들려고 함.\n",
    "- 다솜이가 할 수 있는 행동은 S에서 연속된 하나 이상의 숫자를 잡고 모두 뒤집는 것.\n",
    "- 뒤집는 것은 1을 0으로, 0을 1로 바꾸는 것을 의미.\n",
    "- 문자열 S가 주어졌을 때, 다솜이가 해야 하는 행동의 최소 횟수를 출력하세요."
   ]
  },
  {
   "cell_type": "markdown",
   "id": "attended-convertible",
   "metadata": {},
   "source": [
    "## 입력 조건\n",
    "- 첫째 줄에 0과 1로만 이루어진 문자열 S가 주어집니다. S의 길이는 100만보다 작습니다."
   ]
  },
  {
   "cell_type": "markdown",
   "id": "acknowledged-mouse",
   "metadata": {},
   "source": [
    "## 출력 조건\n",
    "- 첫째 줄에 다솜이가 해야 하는 행동의 최소 횟수를 출력합니다."
   ]
  },
  {
   "cell_type": "code",
   "execution_count": 86,
   "id": "emerging-spiritual",
   "metadata": {},
   "outputs": [
    {
     "name": "stdin",
     "output_type": "stream",
     "text": [
      " 11101000100010010\n"
     ]
    },
    {
     "data": {
      "text/plain": [
       "5"
      ]
     },
     "execution_count": 86,
     "metadata": {},
     "output_type": "execute_result"
    }
   ],
   "source": [
    "S = list(input())\n",
    "\n",
    "disconnect = 0 \n",
    "first = S[0]\n",
    "\n",
    "for i in range(1,len(S)) :\n",
    "    \n",
    "    second = S[i]\n",
    "    \n",
    "    if first != second :\n",
    "        disconnect += 1\n",
    "    \n",
    "    first = second \n",
    "\n",
    "first = S[0]\n",
    "last = S[len(S)-1]\n",
    "\n",
    "if first == last :\n",
    "    ans = disconnect/2\n",
    "    \n",
    "else :\n",
    "    ans = (disconnect+1)/2\n",
    "    \n",
    "int(ans)"
   ]
  },
  {
   "cell_type": "markdown",
   "id": "weird-violence",
   "metadata": {},
   "source": [
    " "
   ]
  },
  {
   "cell_type": "markdown",
   "id": "blank-george",
   "metadata": {},
   "source": [
    "# Q.04 만들 수 없는 금액"
   ]
  },
  {
   "cell_type": "markdown",
   "id": "iraqi-murray",
   "metadata": {},
   "source": [
    "## 문제 \n",
    "- 동네 편의점의 주인인 동빈이는 N개의 동전을 가지고 있습니다. 이 때, N개의 동전을 이용하여 만들 수 없는 양의 정수 금액 중 최솟값을 구하는 프로그램을 작성하세요.\n",
    "- 예를 들어, N = 5이고, 각 동전이 각각 3원, 2원, 1원, 1원, 9원짜리 동전이라고 가정합시다. 이 때 동빈이가 만들 수 없는 양의 정수 금액 중 최솟값은 8원입니다."
   ]
  },
  {
   "cell_type": "markdown",
   "id": "synthetic-claim",
   "metadata": {},
   "source": [
    "## 입력조건\n",
    "- 첫째 줄에는 동전의 개수를 나타내는 양의 정수 N이 주어집니다. $(1 <= N <= 1000)$\n",
    "- 둘째 줄에는 각 동전의 화폐 단위를 나타내는 N개의 자연수가 주어지며, 각 자연수는 공백으로 구분합니다. 이 때, 각 화폐 단위는 1,000,000 이하의 자연수입니다."
   ]
  },
  {
   "cell_type": "markdown",
   "id": "hairy-pharmaceutical",
   "metadata": {},
   "source": [
    "## 출력조건\n",
    "- 첫째 줄에 주어진 동전들로 만들 수 없는 양의 정수 금액 중 최솟값을 출력합니다."
   ]
  },
  {
   "cell_type": "code",
   "execution_count": 67,
   "id": "prescription-effort",
   "metadata": {},
   "outputs": [],
   "source": [
    "from itertools import combinations\n",
    "\n",
    "N = int(input())\n",
    "coins = list(map(int, input().split()))\n",
    "\n",
    "maxim = sum(coins)\n",
    "target = set(range(1, maxim + 1))\n",
    "possible = []\n",
    "\n",
    "for i in range(1,N+1) :\n",
    "    combis = list(combinations(coins, i))\n",
    "    temp = range(len(combis))\n",
    "    \n",
    "    for j in temp : \n",
    "        possible.append(sum(combis[j]))\n",
    "        \n",
    "    possible = list(set(possible))\n",
    "    \n",
    "impossible = target - set(possible)\n",
    "\n",
    "if len(impossible) == 0 :\n",
    "    print(maxim + 1)\n",
    "else : \n",
    "    print(min(impossible))"
   ]
  },
  {
   "cell_type": "markdown",
   "id": "disturbed-permission",
   "metadata": {},
   "source": [
    " "
   ]
  },
  {
   "cell_type": "markdown",
   "id": "meaningful-location",
   "metadata": {},
   "source": [
    "# Q.05 볼링공 고르기"
   ]
  },
  {
   "cell_type": "markdown",
   "id": "alien-browser",
   "metadata": {},
   "source": [
    "## 문제\n",
    "- A, B 두 사람이 볼링을 치고 있습니다. 두 사람은 서로 무게가 다른 볼링공을 고르려고 함.\n",
    "- 볼링공은 총 N개가 있으며 각 볼링공마다 무게가 적혀 있고, 공의 번호는 1번부터 순서대로 부여됨.\n",
    "- 또한 같은 무게의 공이 여러 개 있을 수 있지만, 서로 다른 공으로 간주.\n",
    "- 볼링공의 무게는 1부터 M까지의 자연수 형태로 존재.\n",
    "- N개의 공의 무게가 각각 주어질 때, 두 사람이 볼링공을 고르는 경우의 수를 구하는 프로그램을 작성하세요."
   ]
  },
  {
   "cell_type": "markdown",
   "id": "considered-blood",
   "metadata": {},
   "source": [
    "## 입력조건\n",
    "- 첫째 줄에 볼링공의 개수 N, 공의 최대 무게 M이 공백으로 구분되어 각각 자연수 형태로 주어짐. $(1 <= N <= 1000, 1 <= M <= 10)$\n",
    "- 둘째 줄에 각 볼링공의 무가 K가 공백으로 구분되어 순서대로 자연수 형태로 주어짐."
   ]
  },
  {
   "cell_type": "markdown",
   "id": "burning-opera",
   "metadata": {},
   "source": [
    "## 출력조건\n",
    "- 첫째 줄에 두 사람이 볼링공을 고르는 경우의 수를 출력"
   ]
  },
  {
   "cell_type": "code",
   "execution_count": 10,
   "id": "radio-segment",
   "metadata": {},
   "outputs": [
    {
     "name": "stdin",
     "output_type": "stream",
     "text": [
      " 5 3\n",
      " 1 3 2 3 2\n"
     ]
    },
    {
     "name": "stdout",
     "output_type": "stream",
     "text": [
      "8\n"
     ]
    }
   ],
   "source": [
    "# itertools 없이 푸는 법\n",
    "\n",
    "N, M = [int(x) for x in input().split(\" \")]\n",
    "balls = list(map(int, input().split(\" \")))\n",
    "\n",
    "count = 0 \n",
    "\n",
    "for i in range(len(balls)-1) :\n",
    "    \n",
    "    for j in range(i+1, len(balls)) :\n",
    "        \n",
    "        if balls[i] != balls[j] :\n",
    "            \n",
    "            count += 1\n",
    "            \n",
    "print(count)        "
   ]
  },
  {
   "cell_type": "code",
   "execution_count": 55,
   "id": "aware-homeless",
   "metadata": {},
   "outputs": [
    {
     "name": "stdin",
     "output_type": "stream",
     "text": [
      " 5 3\n",
      " 1 3 2 3 2\n"
     ]
    },
    {
     "data": {
      "text/plain": [
       "8"
      ]
     },
     "execution_count": 55,
     "metadata": {},
     "output_type": "execute_result"
    }
   ],
   "source": [
    "### itertools 활용해서 푸는 법\n",
    "N, M = [int(x) for x in input().split(\" \")]\n",
    "balls = list(map(int,input().split(\" \")))\n",
    "\n",
    "combi = list(combinations(balls,2))\n",
    "ans = sum(list(map(lambda x : x[0] != x[1],combi)))\n",
    "ans"
   ]
  },
  {
   "cell_type": "markdown",
   "id": "informational-ensemble",
   "metadata": {},
   "source": [
    " "
   ]
  },
  {
   "cell_type": "markdown",
   "id": "fancy-chinese",
   "metadata": {},
   "source": [
    "# Q.06 무지의 먹방라이브"
   ]
  },
  {
   "cell_type": "markdown",
   "id": "square-idaho",
   "metadata": {},
   "source": [
    "## 문제\n",
    "- 회전판에 먹어야 할 N개의 음식이 있음.\n",
    "- 각 음식에는 1부터 N까지 번호가 붙어있음. 각 음식을 섭취하는데 일정 시간이 소요.\n",
    "- 무지는 다음과 같은 방법으로 음식을 섭취.\n",
    "    1. 무지는 1번 음식부터 먹기 시작, 회전판은 번호가 증가하는 순서대로 음식을 무지앞으로 가져다 놓음\n",
    "    2. 마지막 번호의 음식을 섭취한 후에는 회전판에 의해 다시 1번 음식이 무지 앞으로 옴.\n",
    "    3. 무지는 음식 하나를 1초 동안 섭취한 후 남은 음식은 그대로 두고, 다음 음식을 섭취. 다음 음식이란, 아직 남은 음식 중 다음으로 섭취해야할 가장 가까운 번호의 음식을 말함.\n",
    "    4. 회전판이 다음 음식을 무지 앞으로 가져오는 데 걸리는 시간은 없다고 가정.\n",
    "    \n",
    "- 무지가 먹방을 시작한 지 K초 후에 네트워크 장애로 인해 방송이 잠시 중단. 무지는 네트워크 정상화 후 다시 방송을 이어갈 때, 몇 번 음식부터 섭취해야 하는지를 알고자 함.\n",
    "- 각 음식을 모두 먹는 데 필요한 시간이 담겨 있는 배열 food_times, 네트워크 장애가 발생한 시간 K초가 매개변수로 주어질 때 몇 번 음식부터 다시 섭취하면 되는지 return 하도록 solution 함수 완성."
   ]
  },
  {
   "cell_type": "markdown",
   "id": "seeing-olympus",
   "metadata": {},
   "source": [
    "## 제한 사항\n",
    "- food_times는 각 음식을 모두 먹는 데 필요한 시간이 음식의 번호 순서대로 들어 잇는 배열.\n",
    "- k는 방송이 중단된 시간을 나타냄.\n",
    "- 만약 더 섭취해야 할 음식이 없다면 -1을 반환."
   ]
  },
  {
   "cell_type": "markdown",
   "id": "standing-voltage",
   "metadata": {},
   "source": [
    "## 정확성 테스트 제한 사항\n",
    "- "
   ]
  },
  {
   "cell_type": "code",
   "execution_count": 156,
   "id": "stuffed-controversy",
   "metadata": {},
   "outputs": [],
   "source": [
    "food_times = [10,5,7]\n",
    "k = 5"
   ]
  },
  {
   "cell_type": "code",
   "execution_count": 160,
   "id": "marked-advocacy",
   "metadata": {},
   "outputs": [
    {
     "data": {
      "text/plain": [
       "10"
      ]
     },
     "execution_count": 160,
     "metadata": {},
     "output_type": "execute_result"
    }
   ],
   "source": [
    "MAX = max(food_times)\n",
    "MAX"
   ]
  },
  {
   "cell_type": "code",
   "execution_count": 161,
   "id": "appropriate-sense",
   "metadata": {},
   "outputs": [],
   "source": [
    "orders = [[x+1]*y for x,y in enumerate(food_times)]"
   ]
  },
  {
   "cell_type": "code",
   "execution_count": 162,
   "id": "complex-anger",
   "metadata": {},
   "outputs": [
    {
     "data": {
      "text/plain": [
       "[[1, 1, 1, 1, 1, 1, 1, 1, 1, 1], [2, 2, 2, 2, 2], [3, 3, 3, 3, 3, 3, 3]]"
      ]
     },
     "execution_count": 162,
     "metadata": {},
     "output_type": "execute_result"
    }
   ],
   "source": [
    "orders"
   ]
  },
  {
   "cell_type": "code",
   "execution_count": 163,
   "id": "annoying-prompt",
   "metadata": {},
   "outputs": [
    {
     "data": {
      "text/plain": [
       "[None, None, None]"
      ]
     },
     "execution_count": 163,
     "metadata": {},
     "output_type": "execute_result"
    }
   ],
   "source": [
    "[x.extend([0]*(MAX-len(x))) for x in orders ]"
   ]
  },
  {
   "cell_type": "code",
   "execution_count": 164,
   "id": "decreased-folder",
   "metadata": {},
   "outputs": [],
   "source": [
    "order_zip = list(zip(*orders))"
   ]
  },
  {
   "cell_type": "code",
   "execution_count": 165,
   "id": "australian-enclosure",
   "metadata": {},
   "outputs": [],
   "source": [
    "reorder =[i for od in order_zip for i in od]"
   ]
  },
  {
   "cell_type": "code",
   "execution_count": 166,
   "id": "welsh-edmonton",
   "metadata": {},
   "outputs": [],
   "source": [
    "reorder = [i for i in reorder if i !=0]"
   ]
  },
  {
   "cell_type": "code",
   "execution_count": 167,
   "id": "incorrect-prerequisite",
   "metadata": {},
   "outputs": [
    {
     "data": {
      "text/plain": [
       "[1, 2, 3, 1, 2, 3, 1, 2, 3, 1, 2, 3, 1, 2, 3, 1, 3, 1, 3, 1, 1, 1]"
      ]
     },
     "execution_count": 167,
     "metadata": {},
     "output_type": "execute_result"
    }
   ],
   "source": [
    "reorder"
   ]
  }
 ],
 "metadata": {
  "kernelspec": {
   "display_name": "Python 3",
   "language": "python",
   "name": "python3"
  },
  "language_info": {
   "codemirror_mode": {
    "name": "ipython",
    "version": 3
   },
   "file_extension": ".py",
   "mimetype": "text/x-python",
   "name": "python",
   "nbconvert_exporter": "python",
   "pygments_lexer": "ipython3",
   "version": "3.8.10"
  }
 },
 "nbformat": 4,
 "nbformat_minor": 5
}
