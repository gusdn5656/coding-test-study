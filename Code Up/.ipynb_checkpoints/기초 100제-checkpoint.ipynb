{
 "cells": [
  {
   "cell_type": "markdown",
   "id": "democratic-carter",
   "metadata": {},
   "source": [
    "# Q.6043"
   ]
  },
  {
   "cell_type": "markdown",
   "id": "quality-hardwood",
   "metadata": {},
   "source": [
    "- 실수 2개(f1, f2)를 입력받아 f1 을 f2 로 나눈 값을 출력해보자. 이 때 소숫점 넷째자리에서 반올림하여 무조건 소숫점 셋째 자리까지 출력한다.\n",
    "\n",
    "- 참고 : python 언어에는 나눗셈(division)을 계산하는 연산자(/)가 있다."
   ]
  },
  {
   "cell_type": "markdown",
   "id": "flying-underwear",
   "metadata": {},
   "source": [
    "입력 : 2개의 실수(f1, f2)가 공백으로 구분되어 입력된다."
   ]
  },
  {
   "cell_type": "markdown",
   "id": "excited-monitoring",
   "metadata": {},
   "source": [
    "출력 : f1을 f2로 나눈 결과를 소숫점 이하 넷째 자리에서 반올림하여 소숫점 세 번째 자리까지 출력한다."
   ]
  },
  {
   "cell_type": "code",
   "execution_count": 13,
   "id": "stylish-arlington",
   "metadata": {},
   "outputs": [
    {
     "name": "stdin",
     "output_type": "stream",
     "text": [
      " 10 3\n"
     ]
    },
    {
     "name": "stdout",
     "output_type": "stream",
     "text": [
      "3.333\n"
     ]
    }
   ],
   "source": [
    "f1, f2 = input().split(\" \")\n",
    "answer = float(f1)/float(f2)\n",
    "print(\"%0.3f\" %answer)"
   ]
  },
  {
   "cell_type": "markdown",
   "id": "gothic-halloween",
   "metadata": {},
   "source": [
    " "
   ]
  },
  {
   "cell_type": "markdown",
   "id": "conceptual-vietnam",
   "metadata": {},
   "source": [
    "# Q.6044"
   ]
  },
  {
   "cell_type": "markdown",
   "id": "needed-veteran",
   "metadata": {},
   "source": [
    "- 문제  \n",
    "    - 정수 2개(a, b)를 입력받아 합, 차, 곱, 몫, 나머지, 나눈 값을 자동으로 계산해보자. 단 0 <= a, b <= 2147483647, b는 0이 아니다.\n",
    "    \n",
    "- 입력 \n",
    "    - 정수 2개가 공백을 두고 입력된다.\n",
    "    \n",
    "- 출력 \n",
    "    - 첫 번째 줄에 합\n",
    "    - 두 번째 줄에 차,\n",
    "    - 세 번째 줄에 곱,\n",
    "    - 네 번째 줄에 몫,\n",
    "    - 다섯 번째 줄에 나머지,\n",
    "    - 여섯 번째 줄에 나눈 값을 순서대로 출력한다.\n",
    "    - (실수, 소수점 이하 둘째 자리까지의 정확도로 출력)\n"
   ]
  },
  {
   "cell_type": "code",
   "execution_count": 20,
   "id": "moral-buddy",
   "metadata": {},
   "outputs": [
    {
     "name": "stdin",
     "output_type": "stream",
     "text": [
      " 10 3\n"
     ]
    },
    {
     "name": "stdout",
     "output_type": "stream",
     "text": [
      "13\n",
      "7\n",
      "30\n",
      "3\n",
      "1\n",
      "3.33\n"
     ]
    }
   ],
   "source": [
    "a, b = input().split(\" \")\n",
    "a = int(a)\n",
    "b = int(b)\n",
    "\n",
    "print(a+b)\n",
    "print(a-b)\n",
    "print(a*b)\n",
    "print(a//b)\n",
    "print(a%b)\n",
    "ans = a/b\n",
    "print(\"%0.2f\" %ans)"
   ]
  },
  {
   "cell_type": "markdown",
   "id": "human-literature",
   "metadata": {},
   "source": [
    " "
   ]
  },
  {
   "cell_type": "markdown",
   "id": "ceramic-motivation",
   "metadata": {},
   "source": [
    "# Q.6045  \n",
    "\n",
    "- 문제 \n",
    "    - 정수 3개를 입력받아 합과 평균을 출력해보자.\n",
    "    \n",
    "- 참고 \n",
    "    - 공백으로 구분된 한 줄로 값들을 입력받기 위해서는 a, b, c = input().split()과 같은 방법이 가능하고, 공백으로 구분해 두 값을 출력하기 위해서는 print(d, e)와 같은 방법이 가능하다.\n",
    "    - 잘라낸 값들은 그 값의 특성(정수, 실수, 문자, 문자열 ...)에 따라 명확하게 변환시킨 후 사용하는 것이 좋다.\n",
    "    \n",
    "- 입력\n",
    "    - 정수 3개가 공백을 두고 입력된다.\n",
    "    \n",
    "- 출력 \n",
    "    - 합과 평균을 공백을 두고 출력한다. \n",
    "    - 평균은 소숫점 이하 셋째 자리에서 반올림하여 둘째 자리까지 출력한다.\n",
    "    \n",
    "- 입력 예시\n",
    "    - `1 2 3`\n",
    "    \n",
    "- 출력 예시\n",
    "    - `6 2.00`"
   ]
  },
  {
   "cell_type": "code",
   "execution_count": 26,
   "id": "piano-decrease",
   "metadata": {},
   "outputs": [
    {
     "name": "stdin",
     "output_type": "stream",
     "text": [
      " 1 2 3\n"
     ]
    },
    {
     "name": "stdout",
     "output_type": "stream",
     "text": [
      "6\n",
      "2.00\n"
     ]
    }
   ],
   "source": [
    "int_set = [int(x) for x in input().split(\" \")]\n",
    "\n",
    "summation = sum(int_set)\n",
    "avg = summation/len(int_set)\n",
    "\n",
    "print(summation)\n",
    "print(\"%0.2f\" %avg)"
   ]
  },
  {
   "cell_type": "markdown",
   "id": "amino-sampling",
   "metadata": {},
   "source": [
    " "
   ]
  },
  {
   "cell_type": "markdown",
   "id": "given-tampa",
   "metadata": {},
   "source": [
    "# Q.6063 : [기초-3항연산] 정수 2개 입력받아 큰 값 출력하기(설명)(py)"
   ]
  },
  {
   "cell_type": "code",
   "execution_count": 28,
   "id": "above-bernard",
   "metadata": {},
   "outputs": [
    {
     "name": "stdin",
     "output_type": "stream",
     "text": [
      " 123 456\n"
     ]
    },
    {
     "name": "stdout",
     "output_type": "stream",
     "text": [
      "456\n"
     ]
    }
   ],
   "source": [
    "a, b = [int(x) for x in input().split(\" \")]\n",
    "c = (a if (a>=b) else b)\n",
    "print(c)"
   ]
  },
  {
   "cell_type": "markdown",
   "id": "clinical-vatican",
   "metadata": {},
   "source": [
    " "
   ]
  },
  {
   "cell_type": "markdown",
   "id": "elect-hostel",
   "metadata": {},
   "source": [
    "# 6064 : [기초-3항연산] 정수 3개 입력받아 가장 작은 값 출력하기(설명)(py)"
   ]
  },
  {
   "cell_type": "code",
   "execution_count": 29,
   "id": "unauthorized-wayne",
   "metadata": {},
   "outputs": [
    {
     "name": "stdin",
     "output_type": "stream",
     "text": [
      " 3 -1 5\n"
     ]
    },
    {
     "name": "stdout",
     "output_type": "stream",
     "text": [
      "-1\n"
     ]
    }
   ],
   "source": [
    "a, b, c = [int(x) for x in input().split(\" \")]\n",
    "\n",
    "minimum = (a if a<b else b) if ((a if a<b else b)<c) else c\n",
    "print(minimum)"
   ]
  },
  {
   "cell_type": "markdown",
   "id": "mobile-colony",
   "metadata": {},
   "source": [
    " "
   ]
  },
  {
   "cell_type": "markdown",
   "id": "waiting-pharmacology",
   "metadata": {},
   "source": [
    "# Q.6069 : [기초-조건/선택실행구조] 평가 입력받아 다르게 출력하기(py)"
   ]
  },
  {
   "cell_type": "code",
   "execution_count": 71,
   "id": "original-supplier",
   "metadata": {},
   "outputs": [
    {
     "name": "stdin",
     "output_type": "stream",
     "text": [
      " A\n"
     ]
    },
    {
     "name": "stdout",
     "output_type": "stream",
     "text": [
      "best!!!\n"
     ]
    }
   ],
   "source": [
    "out = {\"A\" : \"best!!!\",\n",
    "       \"B\" : \"good!!\",\n",
    "       \"C\" : \"run!\",\n",
    "       \"D\" : \"slowly~\",\n",
    "       \"rest\" : \"what?\"}\n",
    "\n",
    "idx = input()\n",
    "\n",
    "if idx in list(out.keys()) :\n",
    "    print(out[idx])\n",
    "else : \n",
    "    print(out[\"rest\"])"
   ]
  },
  {
   "cell_type": "markdown",
   "id": "artificial-owner",
   "metadata": {},
   "source": [
    " "
   ]
  },
  {
   "cell_type": "markdown",
   "id": "promotional-popularity",
   "metadata": {},
   "source": [
    "# Q.6078 : [기초-종합] 원하는 문자가 입력될 때까지 반복 출력하기(py)"
   ]
  },
  {
   "cell_type": "code",
   "execution_count": 76,
   "id": "sexual-conviction",
   "metadata": {},
   "outputs": [
    {
     "name": "stdin",
     "output_type": "stream",
     "text": [
      " q\n"
     ]
    },
    {
     "name": "stdout",
     "output_type": "stream",
     "text": [
      "q\n"
     ]
    }
   ],
   "source": [
    "while True :\n",
    "    string = input()\n",
    "    print(string)\n",
    "    if string == 'q' :\n",
    "        break"
   ]
  },
  {
   "cell_type": "markdown",
   "id": "right-gambling",
   "metadata": {},
   "source": [
    " "
   ]
  },
  {
   "cell_type": "markdown",
   "id": "korean-vacuum",
   "metadata": {},
   "source": [
    "# Q.6079 : [기초-종합] 언제까지 더해야 할까?(py)"
   ]
  },
  {
   "cell_type": "code",
   "execution_count": 83,
   "id": "ongoing-belly",
   "metadata": {},
   "outputs": [
    {
     "name": "stdin",
     "output_type": "stream",
     "text": [
      " 55\n"
     ]
    },
    {
     "name": "stdout",
     "output_type": "stream",
     "text": [
      "10\n"
     ]
    }
   ],
   "source": [
    "SUM = 0\n",
    "n = int(input())\n",
    "\n",
    "for i in range(1,n+1) :\n",
    "    SUM += i\n",
    "    if SUM >= n :\n",
    "        print(i)\n",
    "        break\n",
    "    "
   ]
  },
  {
   "cell_type": "markdown",
   "id": "proper-northern",
   "metadata": {},
   "source": [
    " "
   ]
  },
  {
   "cell_type": "markdown",
   "id": "egyptian-connecticut",
   "metadata": {},
   "source": [
    "# Q.6082 : [기초-종합] 3 6 9 게임의 왕이 되자(설명)(py)"
   ]
  },
  {
   "cell_type": "code",
   "execution_count": 1,
   "id": "adjacent-sender",
   "metadata": {},
   "outputs": [
    {
     "name": "stdin",
     "output_type": "stream",
     "text": [
      " 29\n"
     ]
    },
    {
     "name": "stdout",
     "output_type": "stream",
     "text": [
      "1 2 X 4 5 X 7 8 X 10 11 12 X 14 15 X 17 18 X 20 21 22 X 24 25 X 27 28 X\n"
     ]
    }
   ],
   "source": [
    "n = int(input())\n",
    "lst = list(range(1,n+1))\n",
    "lst369 = [str(i) for i in lst]\n",
    "lst369 = [\"X\" if i.count(\"3\") >= 1 or i.count(\"6\") >= 1 or i.count(\"9\") >= 1 \n",
    "          else i for i in lst369]\n",
    "print(\" \".join(lst369))"
   ]
  },
  {
   "cell_type": "markdown",
   "id": "transsexual-parks",
   "metadata": {},
   "source": [
    " "
   ]
  },
  {
   "cell_type": "markdown",
   "id": "animal-idaho",
   "metadata": {},
   "source": [
    "# Q.6083 : [기초-종합] 빛 섞어 색 만들기(설명)(py)\n",
    "\n",
    "빨강(red), 초록(green), 파랑(blue) 빛을 섞어 여러 가지 다른 색 빛을 만들어 내려고 한다.\n",
    "\n",
    "빨강(r), 초록(g), 파랑(b) 각 빛의 가짓수가 주어질 때,\n",
    "주어진 rgb 빛들을 섞어 만들 수 있는 모든 경우의 조합(r g b)과 만들 수 있는 색의 가짓 수를 계산해보자.  \n",
    "\n",
    "**모니터, 스마트폰과 같은 디스플레이에서 각 픽셀의 색을 만들어내기 위해서 r, g, b 색을 조합할 수 있다.\n",
    "**픽셀(pixel)은 그림(picture)을 구성하는 셀(cell)에서 이름이 만들어졌다.\n",
    " \n",
    "---\n",
    " \n",
    "입력 : 빨녹파(r, g, b) 각 빛의 가짓수가 공백을 두고 입력된다.\n",
    "예를 들어, 3 3 3 은 빨녹파 빛에 대해서 각각 0~2까지 3가지 색이 있음을 의미한다.\n",
    "0 <= r,g,b <= 127\n",
    " \n",
    "---\n",
    " \n",
    "출력 : 만들 수 있는 rgb 색의 정보를 오름차순(계단을 올라가는 순, 12345... abcde..., 가나다라마...)으로\n",
    "줄을 바꿔 모두 출력하고, 마지막에 그 개수를 출력한다.\n",
    " "
   ]
  },
  {
   "cell_type": "code",
   "execution_count": 6,
   "id": "desirable-heating",
   "metadata": {},
   "outputs": [
    {
     "name": "stdin",
     "output_type": "stream",
     "text": [
      " 2 2 2\n"
     ]
    },
    {
     "name": "stdout",
     "output_type": "stream",
     "text": [
      "0 0 0\n",
      "0 0 1\n",
      "0 1 0\n",
      "0 1 1\n",
      "1 0 0\n",
      "1 0 1\n",
      "1 1 0\n",
      "1 1 1\n",
      "8\n"
     ]
    }
   ],
   "source": [
    "r, g, b = [int(x) for x in input().split(\" \")]\n",
    "\n",
    "for i in range(r) : \n",
    "    for j in range(g) :\n",
    "        for k in range(b) :\n",
    "            print(i, j, k)\n",
    "\n",
    "print(r*g*b)"
   ]
  },
  {
   "cell_type": "markdown",
   "id": "fifth-suggestion",
   "metadata": {},
   "source": [
    " "
   ]
  },
  {
   "cell_type": "markdown",
   "id": "necessary-omaha",
   "metadata": {},
   "source": [
    "# Q. 6085 : [기초-종합] 그림 파일 저장용량 계산하기(py)\n",
    "\n",
    "이미지가 컴퓨터에 저장될 때에도 디지털 데이터화 되어 저장된다.\n",
    "\n",
    "가장 기본적인 방법으로는 그림을 구성하는 한 점(pixel, 픽셀)의 색상을\n",
    "빨강(r), 초록(g), 파랑(b)의 3가지의 빛의 세기 값으로 따로 변환하여 저장하는 것인데,\n",
    "\n",
    "예를 들어 r, g, b 각 색에 대해서 8비트(0~255, 256가지 가능)씩을 사용한다고 하면,\n",
    "\n",
    "한 점의 색상은 3가지 r, g, b의 8비트+8비트+8비트로 총 24비트로 표현해서\n",
    "총 2^24 가지의 서로 다른 빛의 색깔을 사용할 수 있는 것이다.\n",
    "\n",
    "그렇게 저장하는 점을 모아 하나의 큰 이미지를 저장할 수 있게 되는데,\n",
    "1024 * 768 사이즈에 각 점에 대해 24비트로 저장하면 그 이미지를 저장하기 위한\n",
    "저장 용량을 계산할 수 있다.\n",
    "\n",
    "이렇게 이미지의 원래(raw) 데이터를 압축하지 않고 그대로 저장하는 대표적인 이미지 파일이\n",
    "*.bmp 파일이며, 비트로 그림을 구성한다고 하여 비트맵 방식 또는 래스터 방식이라고 한다.\n",
    "\n",
    "이미지의 가로 해상도 w, 세로 해상도 h, 한 픽셀을 저장하기 위한 비트 b 가 주어질 때,\n",
    "압축하지 않고 저장하기 위해 필요한 저장 용량을 계산하는 프로그램을 작성해 보자.\n",
    "\n",
    "예를 들어\n",
    "일반적인 1024 * 768 사이즈(해상도)의 각점에 대해\n",
    "24비트(rgb 각각 8비트씩 3개)로 저장하려면\n",
    "1024 * 768 * 24 bit의 저장공간이 필요한데,\n",
    "1024\\*768\\*24/8/1024/1024 로 계산하면 약 2.25 MB 정도가 필요하다.\n",
    "\n",
    "실제 그런지 확인하고 싶다면, 간단한 그림 편집/수정 프로그램을 통해 확인할 수 있다.\n",
    "\n",
    "**\n",
    "      8 bit(비트)           = 1byte(바이트)     #       8bit=1Byte\n",
    "1024 Byte(210 byte) = 1KB(킬로 바이트)  # 1024Byte=1KB\n",
    "1024 KB(210 KB)      = 1MB(메가 바이트)\n",
    "1024 MB(210 MB)     = 1GB(기가 바이트)\n",
    "1024 GB(210 GB)      = 1TB(테라 바이트)"
   ]
  },
  {
   "cell_type": "markdown",
   "id": "attractive-examination",
   "metadata": {},
   "source": [
    "입력 : w, h, b 가 공백을 두고 입력된다.\n",
    "단, w, h는 모두 정수이고 1~1024 이다. b는 40이하의 4의 배수이다.\n",
    "\n",
    "출력 : 필요한 저장 공간을 MB 단위로 바꾸어 출력한다.\n",
    "단, 소수점 셋째 자리에서 반올림하여 둘째 자리까지 출력한다."
   ]
  },
  {
   "cell_type": "code",
   "execution_count": 8,
   "id": "criminal-reception",
   "metadata": {},
   "outputs": [
    {
     "name": "stdin",
     "output_type": "stream",
     "text": [
      " 1024 768 24\n"
     ]
    },
    {
     "name": "stdout",
     "output_type": "stream",
     "text": [
      "2.25 MB\n"
     ]
    }
   ],
   "source": [
    "w, h, b = [int(x) for x in input().split(\" \")]\n",
    "mb = w*h*b/8/1024/1024\n",
    "print(\"%0.2f MB\" %mb)"
   ]
  },
  {
   "cell_type": "markdown",
   "id": "egyptian-facial",
   "metadata": {},
   "source": [
    " "
   ]
  },
  {
   "cell_type": "markdown",
   "id": "growing-electronics",
   "metadata": {},
   "source": [
    "# Q.6095 : [기초-리스트] 바둑판에 흰 돌 놓기(설명)(py)"
   ]
  },
  {
   "cell_type": "markdown",
   "id": "creative-joint",
   "metadata": {},
   "source": [
    "기숙사 생활을 하는 학교에서 어떤 금요일(전원 귀가일)에는 모두 집으로 귀가를 한다.\n",
    "\n",
    "오랜만에 집에 간 영일이는 아버지와 함께 두던 매우 큰 오목에 대해서 생각해 보다가\n",
    "\"바둑판에 돌을 올린 것을 프로그래밍 할 수 있을까?\"하고 생각하였다.\n",
    "\n",
    "바둑판(19 * 19)에 n개의 흰 돌을 놓는다고 할 때,\n",
    "n개의 흰 돌이 놓인 위치를 출력하는 프로그램을 작성해보자.\n",
    "\n",
    "---\n",
    "예시\n",
    "d=[]                        #대괄호 [ ] 를 이용해 아무것도 없는 빈 리스트 만들기  \n",
    "for i in range(20) :  \n",
    "  d.append([])         #리스트 안에 다른 리스트 추가해 넣기  \n",
    "  for j in range(20) :   \n",
    "    d[i].append(0)    #리스트 안에 들어있는 리스트 안에 0 추가해 넣기  \n",
    "  \n",
    "n = int(input())  \n",
    "for i in range(n) :  \n",
    "  x, y = input().split()  \n",
    "  d[int(x)][int(y)] = 1  \n",
    "  \n",
    "for i in range(1, 20) :  \n",
    "  for j in range(1, 20) :   \n",
    "    print(d[i][j], end=' ')    #공백을 두고 한 줄로 출력  \n",
    "  print()                          #줄 바꿈  \n",
    "  \n",
    "참고\n",
    "리스트가 들어있는 리스트를 만들면?\n",
    "가로번호, 세로번호를 사용해 2차원 형태의 데이터처럼 쉽게 기록하고 사용할 수 있다.\n",
    "리스트이름[번호][번호] 형식으로 저장되어있는 값을 읽고 쓸 수 있고, 더 확장한 n차원의 리스트도 만들 수 있다.\n",
    "\n",
    "...\n",
    "d=[]  \n",
    "for i in range(20) :   \n",
    "  d.append([])  \n",
    "  for j in range(20) :    \n",
    "    d[i].append(0)  \n",
    "... \n",
    "---\n",
    "\n",
    "위와 같이, 모두 0이 채워진 2차원 리스트를 만드는 코드를 아래와 같은 방법으로 짧게 만들 수도 있다.\n",
    "... [0 for j in range(20)]  #20개의 0이 들어간 [0, 0, 0, ... , 0, 0, 0] 리스트 \n",
    "아래처럼 작성하면 위와 같은 리스트가 20개가 들어간 리스트를 한 번에 만들어 준다.\n",
    "\n",
    "d = [[0 for j in range(20)] for i in range(20)]\n",
    "\n",
    "이러한 리스트 생성 방식을 List Comprehensions 라고 한다."
   ]
  },
  {
   "cell_type": "markdown",
   "id": "unlimited-nicaragua",
   "metadata": {},
   "source": [
    "입력 : 바둑판에 올려 놓을 흰 돌의 개수(n)가 첫 줄에 입력된다.\n",
    "둘째 줄 부터 n+1 번째 줄까지 힌 돌을 놓을 좌표(x, y)가 n줄 입력된다.\n",
    "n은 10이하의 자연수이고 x, y 좌표는 1 ~ 19 까지이며, 똑같은 좌표는 입력되지 않는다."
   ]
  },
  {
   "cell_type": "markdown",
   "id": "spanish-atlanta",
   "metadata": {},
   "source": [
    "출력 : 흰 돌이 올려진 바둑판의 상황을 출력한다.\n",
    "흰 돌이 있는 위치는 1, 없는 곳은 0으로 출력한다."
   ]
  },
  {
   "cell_type": "code",
   "execution_count": 19,
   "id": "efficient-marijuana",
   "metadata": {},
   "outputs": [
    {
     "name": "stdin",
     "output_type": "stream",
     "text": [
      " 5\n",
      " 1 1\n",
      " 2 2\n",
      " 3 3\n",
      " 4 4\n",
      " 5 5\n"
     ]
    },
    {
     "name": "stdout",
     "output_type": "stream",
     "text": [
      "1 0 0 0 0 0 0 0 0 0 0 0 0 0 0 0 0 0 0\n",
      "0 1 0 0 0 0 0 0 0 0 0 0 0 0 0 0 0 0 0\n",
      "0 0 1 0 0 0 0 0 0 0 0 0 0 0 0 0 0 0 0\n",
      "0 0 0 1 0 0 0 0 0 0 0 0 0 0 0 0 0 0 0\n",
      "0 0 0 0 1 0 0 0 0 0 0 0 0 0 0 0 0 0 0\n",
      "0 0 0 0 0 0 0 0 0 0 0 0 0 0 0 0 0 0 0\n",
      "0 0 0 0 0 0 0 0 0 0 0 0 0 0 0 0 0 0 0\n",
      "0 0 0 0 0 0 0 0 0 0 0 0 0 0 0 0 0 0 0\n",
      "0 0 0 0 0 0 0 0 0 0 0 0 0 0 0 0 0 0 0\n",
      "0 0 0 0 0 0 0 0 0 0 0 0 0 0 0 0 0 0 0\n",
      "0 0 0 0 0 0 0 0 0 0 0 0 0 0 0 0 0 0 0\n",
      "0 0 0 0 0 0 0 0 0 0 0 0 0 0 0 0 0 0 0\n",
      "0 0 0 0 0 0 0 0 0 0 0 0 0 0 0 0 0 0 0\n",
      "0 0 0 0 0 0 0 0 0 0 0 0 0 0 0 0 0 0 0\n",
      "0 0 0 0 0 0 0 0 0 0 0 0 0 0 0 0 0 0 0\n",
      "0 0 0 0 0 0 0 0 0 0 0 0 0 0 0 0 0 0 0\n",
      "0 0 0 0 0 0 0 0 0 0 0 0 0 0 0 0 0 0 0\n",
      "0 0 0 0 0 0 0 0 0 0 0 0 0 0 0 0 0 0 0\n",
      "0 0 0 0 0 0 0 0 0 0 0 0 0 0 0 0 0 0 0\n"
     ]
    }
   ],
   "source": [
    "n = int(input())\n",
    "go_board = [[\"0\" for _ in range(19)] for _ in range(19)]\n",
    "\n",
    "for _ in range(n) :\n",
    "    x, y = [int(x) for x in input().split(\" \")]\n",
    "    go_board[x-1][y-1] = \"1\"\n",
    "\n",
    "for i in range(len(go_board)) :\n",
    "    print(\" \".join(go_board[i]))"
   ]
  },
  {
   "cell_type": "markdown",
   "id": "expected-boxing",
   "metadata": {},
   "source": [
    " "
   ]
  },
  {
   "cell_type": "markdown",
   "id": "natural-steps",
   "metadata": {},
   "source": [
    "# Q.6096 : [기초-리스트] 바둑알 십자 뒤집기(py)"
   ]
  },
  {
   "cell_type": "markdown",
   "id": "exempt-focus",
   "metadata": {},
   "source": [
    "부모님을 기다리던 영일이는 검정/흰 색 바둑알을 바둑판에 꽉 채워 깔아 놓고 놀다가...\n",
    "\n",
    "\"십(+)자 뒤집기를 해볼까?\"하고 생각했다.\n",
    "\n",
    "십자 뒤집기는\n",
    "그 위치에 있는 모든 가로줄 돌의 색을 반대(1->0, 0->1)로 바꾼 후, \n",
    "다시 그 위치에 있는 모든 세로줄 돌의 색을 반대로 바꾸는 것이다.\n",
    "어떤 위치를 골라 집자 뒤집기를 하면, 그 위치를 제외한 가로줄과 세로줄의 색이 모두 반대로 바뀐다.\n",
    "\n",
    "바둑판(19 * 19)에 흰 돌(1) 또는 검정 돌(0)이 모두 꽉 채워져 놓여있을 때,\n",
    "n개의 좌표를 입력받아 십(+)자 뒤집기한 결과를 출력하는 프로그램을 작성해보자.\n",
    "\n",
    "---\n",
    "예시\n",
    "...\n",
    "for i in range(n) :  \n",
    "  x,y=input().split()  \n",
    "  for j in range(1, 20) :  \n",
    "    if d[j][int(y)]==0 :  \n",
    "      d[j][int(y)]=1  \n",
    "    else :  \n",
    "      d[j][int(y)]=0  \n",
    "  \n",
    "    if d[int(x)][j]==0 :  \n",
    "      d[int(x)][j]=1  \n",
    "    else :  \n",
    "      d[int(x)][j]=0  \n",
    "---\n",
    "\n",
    "참고\n",
    "리스트가 들어있는 리스트를 만들면?\n",
    "가로번호, 세로번호를 사용해 2차원 형태의 데이터처럼 쉽게 기록하고 사용할 수 있다.\n",
    "리스트이름[번호][번호] 형식으로 저장되어있는 값을 읽고 쓸 수 있다."
   ]
  },
  {
   "cell_type": "markdown",
   "id": "foreign-nylon",
   "metadata": {},
   "source": [
    "입력 : 바둑알이 깔려 있는 상황이 19 * 19 크기의 정수값으로 입력된다.\n",
    "십자 뒤집기 횟수(n)가 입력된다.\n",
    "십자 뒤집기 좌표가 횟수(n) 만큼 입력된다. 단, n은 10이하의 자연수이다."
   ]
  },
  {
   "cell_type": "markdown",
   "id": "anticipated-reservation",
   "metadata": {},
   "source": [
    "출력 : 십자 뒤집기 결과를 출력한다."
   ]
  },
  {
   "cell_type": "code",
   "execution_count": 60,
   "id": "invalid-cooperative",
   "metadata": {
    "scrolled": true,
    "tags": []
   },
   "outputs": [
    {
     "name": "stdin",
     "output_type": "stream",
     "text": [
      " 0 0 0 0 0 0 0 0 0 1 0 1 0 0 0 0 0 0 0\n",
      " 0 0 0 0 0 0 0 0 0 1 0 1 0 0 0 0 0 0 0\n",
      " 0 0 0 0 0 0 0 0 0 1 0 1 0 0 0 0 0 0 0\n",
      " 0 0 0 0 0 0 0 0 0 1 0 1 0 0 0 0 0 0 0\n",
      " 0 0 0 0 0 0 0 0 0 1 0 1 0 0 0 0 0 0 0\n",
      " 0 0 0 0 0 0 0 0 0 1 0 1 0 0 0 0 0 0 0\n",
      " 0 0 0 0 0 0 0 0 0 1 0 1 0 0 0 0 0 0 0\n",
      " 0 0 0 0 0 0 0 0 0 1 0 1 0 0 0 0 0 0 0\n",
      " 0 0 0 0 0 0 0 0 0 1 0 1 0 0 0 0 0 0 0\n",
      " 1 1 1 1 1 1 1 1 1 1 1 1 1 1 1 1 1 1 1\n",
      " 0 0 0 0 0 0 0 0 0 1 0 1 0 0 0 0 0 0 0\n",
      " 1 1 1 1 1 1 1 1 1 1 1 1 1 1 1 1 1 1 1\n",
      " 0 0 0 0 0 0 0 0 0 1 0 1 0 0 0 0 0 0 0\n",
      " 0 0 0 0 0 0 0 0 0 1 0 1 0 0 0 0 0 0 0\n",
      " 0 0 0 0 0 0 0 0 0 1 0 1 0 0 0 0 0 0 0\n",
      " 0 0 0 0 0 0 0 0 0 1 0 1 0 0 0 0 0 0 0\n",
      " 0 0 0 0 0 0 0 0 0 1 0 1 0 0 0 0 0 0 0\n",
      " 0 0 0 0 0 0 0 0 0 1 0 1 0 0 0 0 0 0 0\n",
      " 0 0 0 0 0 0 0 0 0 1 0 1 0 0 0 0 0 0 0\n",
      " 2\n",
      " 10 10\n",
      " 12 12\n"
     ]
    },
    {
     "name": "stdout",
     "output_type": "stream",
     "text": [
      "0 0 0 0 0 0 0 0 0 0 0 0 0 0 0 0 0 0 0\n",
      "0 0 0 0 0 0 0 0 0 0 0 0 0 0 0 0 0 0 0\n",
      "0 0 0 0 0 0 0 0 0 0 0 0 0 0 0 0 0 0 0\n",
      "0 0 0 0 0 0 0 0 0 0 0 0 0 0 0 0 0 0 0\n",
      "0 0 0 0 0 0 0 0 0 0 0 0 0 0 0 0 0 0 0\n",
      "0 0 0 0 0 0 0 0 0 0 0 0 0 0 0 0 0 0 0\n",
      "0 0 0 0 0 0 0 0 0 0 0 0 0 0 0 0 0 0 0\n",
      "0 0 0 0 0 0 0 0 0 0 0 0 0 0 0 0 0 0 0\n",
      "0 0 0 0 0 0 0 0 0 0 0 0 0 0 0 0 0 0 0\n",
      "0 0 0 0 0 0 0 0 0 1 0 1 0 0 0 0 0 0 0\n",
      "0 0 0 0 0 0 0 0 0 0 0 0 0 0 0 0 0 0 0\n",
      "0 0 0 0 0 0 0 0 0 1 0 1 0 0 0 0 0 0 0\n",
      "0 0 0 0 0 0 0 0 0 0 0 0 0 0 0 0 0 0 0\n",
      "0 0 0 0 0 0 0 0 0 0 0 0 0 0 0 0 0 0 0\n",
      "0 0 0 0 0 0 0 0 0 0 0 0 0 0 0 0 0 0 0\n",
      "0 0 0 0 0 0 0 0 0 0 0 0 0 0 0 0 0 0 0\n",
      "0 0 0 0 0 0 0 0 0 0 0 0 0 0 0 0 0 0 0\n",
      "0 0 0 0 0 0 0 0 0 0 0 0 0 0 0 0 0 0 0\n",
      "0 0 0 0 0 0 0 0 0 0 0 0 0 0 0 0 0 0 0\n"
     ]
    }
   ],
   "source": [
    "go_board = [input().split(\" \") for _ in range(19)]\n",
    "\n",
    "n = int(input())\n",
    "\n",
    "for i in range(n) :\n",
    "    x,y = [int(idx) for idx in input().split(\" \")]\n",
    "    go_board[x-1] = [(\"1\" if i == \"0\" else \"0\") for i in go_board[x-1]]\n",
    "    \n",
    "    for j in range(len(go_board)) :\n",
    "        if go_board[j][y-1] == \"0\" :\n",
    "            go_board[j][y-1] = \"1\"\n",
    "        else : \n",
    "            go_board[j][y-1] = \"0\"\n",
    "        \n",
    "for i in range(len(go_board)) :\n",
    "    print(\" \".join(go_board[i]))"
   ]
  },
  {
   "cell_type": "markdown",
   "id": "dressed-fundamental",
   "metadata": {},
   "source": [
    " "
   ]
  },
  {
   "cell_type": "markdown",
   "id": "opposite-flower",
   "metadata": {},
   "source": [
    "# Q.6097 : [기초-리스트] 설탕과자 뽑기(py)"
   ]
  },
  {
   "cell_type": "markdown",
   "id": "beginning-independence",
   "metadata": {},
   "source": [
    "부모님과 함께 놀러간 영일이는\n",
    "설탕과자(설탕을 녹여 물고기 등의 모양을 만든 것) 뽑기를 보게 되었다.\n",
    "\n",
    "길이가 다른 몇 개의 막대를 바둑판과 같은 격자판에 놓는데,\n",
    "\n",
    "막대에 있는 설탕과자 이름 아래에 있는 번호를 뽑으면 설탕과자를 가져가는 게임이었다.\n",
    "(잉어, 붕어, 용 등 여러 가지가 적혀있다.)\n",
    "\n",
    "격자판의 세로(h), 가로(w), 막대의 개수(n), 각 막대의 길이(l),\n",
    "막대를 놓는 방향(d:가로는 0, 세로는 1)과\n",
    "막대를 놓는 막대의 가장 왼쪽 또는 위쪽의 위치(x, y)가 주어질 때,\n",
    "\n",
    "격자판을 채운 막대의 모양을 출력하는 프로그램을 만들어보자.\n"
   ]
  },
  {
   "cell_type": "markdown",
   "id": "competitive-dublin",
   "metadata": {},
   "source": [
    "입력 :  \n",
    "첫 줄에 격자판의 세로(h), 가로(w) 가 공백을 두고 입력되고,  \n",
    "두 번째 줄에 놓을 수 있는 막대의 개수(n)  \n",
    "세 번째 줄부터 각 막대의 길이(l), 방향(d), 좌표(x, y)가 입력된다.  \n",
    "1 <= w, h <= 100  \n",
    "1 <= n <= 10  \n",
    "d = 0 or 1  \n",
    "1 <= x <= 100-h  \n",
    "1 <= y <= 100-w  "
   ]
  },
  {
   "cell_type": "markdown",
   "id": "standing-bidder",
   "metadata": {},
   "source": [
    "출력\n",
    "\n",
    "모든 막대를 놓은 격자판의 상태를 출력한다.  \n",
    "막대에 의해 가려진 경우 1, 아닌 경우 0으로 출력한다.  \n",
    "단, 각 숫자는 공백으로 구분하여 출력한다.  "
   ]
  },
  {
   "cell_type": "code",
   "execution_count": 70,
   "id": "organizational-brake",
   "metadata": {},
   "outputs": [
    {
     "name": "stdin",
     "output_type": "stream",
     "text": [
      " 5 5\n",
      " 3\n",
      " 2 0 1 1\n",
      " 3 1 2 3\n",
      " 4 1 2 5\n"
     ]
    },
    {
     "name": "stdout",
     "output_type": "stream",
     "text": [
      "1 1 0 0 0\n",
      "0 0 1 0 1\n",
      "0 0 1 0 1\n",
      "0 0 1 0 1\n",
      "0 0 0 0 1\n"
     ]
    }
   ],
   "source": [
    "h, w = [int(x) for x in input().split(\" \")]\n",
    "n = int(input())\n",
    "\n",
    "\n",
    "board = [[\"0\" for _ in range(w)] for _ in range(h)]\n",
    "\n",
    "for i in range(n) :\n",
    "    l,d,x,y = [int(x) for x in input().split(\" \")]\n",
    "    \n",
    "    if d == 0 :\n",
    "        for j in range(l) :\n",
    "            board[x-1][y-1+j] = \"1\"\n",
    "    else : \n",
    "        for j in range(l) : \n",
    "            board[x-1+j][y-1] = \"1\"\n",
    "\n",
    "for i in range(len(board)) :\n",
    "    print(\" \".join(board[i]))"
   ]
  }
 ],
 "metadata": {
  "kernelspec": {
   "display_name": "Python 3",
   "language": "python",
   "name": "python3"
  },
  "language_info": {
   "codemirror_mode": {
    "name": "ipython",
    "version": 3
   },
   "file_extension": ".py",
   "mimetype": "text/x-python",
   "name": "python",
   "nbconvert_exporter": "python",
   "pygments_lexer": "ipython3",
   "version": "3.8.10"
  }
 },
 "nbformat": 4,
 "nbformat_minor": 5
}
